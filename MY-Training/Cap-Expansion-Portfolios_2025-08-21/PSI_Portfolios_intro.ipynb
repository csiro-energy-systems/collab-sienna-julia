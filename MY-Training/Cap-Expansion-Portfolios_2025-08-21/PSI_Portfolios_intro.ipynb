{
 "cells": [
  {
   "cell_type": "code",
   "execution_count": 1,
   "id": "44ffcef1",
   "metadata": {},
   "outputs": [],
   "source": [
    "import Pkg"
   ]
  },
  {
   "cell_type": "code",
   "execution_count": 9,
   "id": "1dbc991b",
   "metadata": {},
   "outputs": [
    {
     "data": {
      "text/plain": [
       "\"/Users/fos08b/repos/NREL-Sienna\""
      ]
     },
     "execution_count": 9,
     "metadata": {},
     "output_type": "execute_result"
    }
   ],
   "source": [
    "pwd()"
   ]
  },
  {
   "cell_type": "code",
   "execution_count": 10,
   "id": "139cd437",
   "metadata": {},
   "outputs": [
    {
     "name": "stderr",
     "output_type": "stream",
     "text": [
      "\u001b[32m\u001b[1m  Activating\u001b[22m\u001b[39m project at `~/repos/NREL-Sienna/PowerSystemsInvestments.jl/test`\n"
     ]
    }
   ],
   "source": [
    "Pkg.activate(\"./PowerSystemsInvestments.jl/test/Project.toml\")"
   ]
  },
  {
   "cell_type": "code",
   "execution_count": 11,
   "id": "ef9cbdea",
   "metadata": {},
   "outputs": [
    {
     "name": "stdout",
     "output_type": "stream",
     "text": [
      "\u001b[32m\u001b[1mStatus\u001b[22m\u001b[39m `~/repos/NREL-Sienna/PowerSystemsInvestments.jl/test/Project.toml`\n",
      "  \u001b[90m[4c88cf16] \u001b[39mAqua v0.8.14\n",
      "  \u001b[90m[336ed68f] \u001b[39mCSV v0.10.15\n",
      "  \u001b[90m[a93c6f00] \u001b[39mDataFrames v1.7.0\n",
      "  \u001b[90m[87dc4568] \u001b[39mHiGHS v1.19.0\n",
      "  \u001b[90m[2cd47ed4] \u001b[39mInfrastructureSystems v2.6.0\n",
      "  \u001b[90m[4076af6c] \u001b[39mJuMP v1.28.0\n",
      "  \u001b[90m[c36e90e8] \u001b[39mPowerModels v0.21.5\n",
      "  \u001b[90m[f00506e0] \u001b[39mPowerSystemCaseBuilder v1.3.11\n",
      "  \u001b[90m[bcd98974] \u001b[39mPowerSystems v4.6.2 `~/.julia/dev/PowerSystems`\n",
      "  \u001b[90m[bed98974] \u001b[39mPowerSystemsInvestments v0.1.0 `..`\n",
      "  \u001b[90m[bed98974] \u001b[39mPowerSystemsInvestmentsPortfolios v0.1.0 `~/.julia/dev/PowerSystemsInvestmentsPortfolios`\n",
      "  \u001b[90m[295af30f] \u001b[39mRevise v3.9.0\n",
      "  \u001b[90m[9e3dc215] \u001b[39mTimeSeries v0.24.2\n",
      "  \u001b[90m[ade2ca70] \u001b[39mDates v1.11.0\n",
      "  \u001b[90m[8dfed614] \u001b[39mTest v1.11.0\n"
     ]
    }
   ],
   "source": [
    "Pkg.status()"
   ]
  },
  {
   "cell_type": "code",
   "execution_count": 50,
   "id": "5cdae04e",
   "metadata": {},
   "outputs": [
    {
     "data": {
      "text/plain": [
       "PowerSystems"
      ]
     },
     "execution_count": 50,
     "metadata": {},
     "output_type": "execute_result"
    }
   ],
   "source": [
    "using Test\n",
    "import InfrastructureSystems\n",
    "import InfrastructureSystems.Optimization\n",
    "using JuMP\n",
    "using Logging\n",
    "using PowerSystemsInvestments\n",
    "using PowerSystemsInvestmentsPortfolios\n",
    "using PowerSystems\n",
    "using DataFrames\n",
    "using HiGHS\n",
    "\n",
    "using Test\n",
    "import InfrastructureSystems\n",
    "import InfrastructureSystems.Optimization\n",
    "using JuMP\n",
    "using Logging\n",
    "using PowerSystemsInvestments\n",
    "using PowerSystemsInvestmentsPortfolios\n",
    "using PowerSystems\n",
    "using DataFrames\n",
    "using HiGHS\n",
    "using TimeSeries\n",
    "using Dates\n",
    "using Statistics\n",
    "\n",
    "const IS = InfrastructureSystems\n",
    "const PSIP = PowerSystemsInvestmentsPortfolios\n",
    "const PSIN = PowerSystemsInvestments\n",
    "const PSY = PowerSystems"
   ]
  },
  {
   "cell_type": "code",
   "execution_count": 31,
   "id": "126fc897",
   "metadata": {},
   "outputs": [
    {
     "data": {
      "text/plain": [
       "PowerSystems"
      ]
     },
     "execution_count": 31,
     "metadata": {},
     "output_type": "execute_result"
    }
   ],
   "source": [
    "const IS = InfrastructureSystems\n",
    "const PSIP = PowerSystemsInvestmentsPortfolios\n",
    "const PSIN = PowerSystemsInvestments\n",
    "const PSY = PowerSystems"
   ]
  },
  {
   "cell_type": "code",
   "execution_count": 32,
   "id": "229e2904",
   "metadata": {},
   "outputs": [],
   "source": [
    "using PowerSystemCaseBuilder"
   ]
  },
  {
   "cell_type": "code",
   "execution_count": 33,
   "id": "399514e1",
   "metadata": {},
   "outputs": [
    {
     "data": {
      "text/plain": [
       "0.04"
      ]
     },
     "execution_count": 33,
     "metadata": {},
     "output_type": "execute_result"
    }
   ],
   "source": [
    "discount_rate = 0.07 # 7% \n",
    "inflation_rate = 0.05 # 5%\n",
    "interest_rate = 0.04 # 4%"
   ]
  },
  {
   "cell_type": "code",
   "execution_count": 34,
   "id": "d570f185",
   "metadata": {},
   "outputs": [
    {
     "name": "stderr",
     "output_type": "stream",
     "text": [
      "\u001b[36m\u001b[1m[ \u001b[22m\u001b[39m\u001b[36m\u001b[1mInfo: \u001b[22m\u001b[39mDeserializing with InMemoryTimeSeriesStorage is currently not supported. Using HDF\n",
      "\u001b[36m\u001b[1m[ \u001b[22m\u001b[39m\u001b[36m\u001b[1mInfo: \u001b[22m\u001b[39mLoaded time series from storage file existing=/Users/fos08b/.julia/packages/PowerSystemCaseBuilder/dJGb8/data/serialized_system/4e67b70ea6977dbe21c7731d72cdc1494adf072a7f3f08d921db740cf264ce79/c_sys5_re_time_series_storage.h5 new=/var/folders/_t/4yx83vws0ls_k18lgqrg8wrc0000gn/T/jl_siqaCM compression=CompressionSettings(false, CompressionTypes.DEFLATE = 1, 3, true)\n"
     ]
    },
    {
     "data": {
      "text/html": [
       "<table>\n",
       "  <caption style = \"text-align: left;\">System</caption>\n",
       "  <thead>\n",
       "    <tr class = \"header headerLastRow\">\n",
       "      <th style = \"text-align: left;\">Property</th>\n",
       "      <th style = \"text-align: left;\">Value</th>\n",
       "    </tr>\n",
       "  </thead>\n",
       "  <tbody>\n",
       "    <tr>\n",
       "      <td style = \"text-align: left;\">Name</td>\n",
       "      <td style = \"text-align: left;\"></td>\n",
       "    </tr>\n",
       "    <tr>\n",
       "      <td style = \"text-align: left;\">Description</td>\n",
       "      <td style = \"text-align: left;\"></td>\n",
       "    </tr>\n",
       "    <tr>\n",
       "      <td style = \"text-align: left;\">System Units Base</td>\n",
       "      <td style = \"text-align: left;\">SYSTEM_BASE</td>\n",
       "    </tr>\n",
       "    <tr>\n",
       "      <td style = \"text-align: left;\">Base Power</td>\n",
       "      <td style = \"text-align: left;\">100.0</td>\n",
       "    </tr>\n",
       "    <tr>\n",
       "      <td style = \"text-align: left;\">Base Frequency</td>\n",
       "      <td style = \"text-align: left;\">60.0</td>\n",
       "    </tr>\n",
       "    <tr>\n",
       "      <td style = \"text-align: left;\">Num Components</td>\n",
       "      <td style = \"text-align: left;\">28</td>\n",
       "    </tr>\n",
       "  </tbody>\n",
       "</table>\n",
       "\n",
       "<table>\n",
       "  <caption style = \"text-align: left;\">Static Components</caption>\n",
       "  <thead>\n",
       "    <tr class = \"header headerLastRow\">\n",
       "      <th style = \"text-align: left;\">Type</th>\n",
       "      <th style = \"text-align: left;\">Count</th>\n",
       "    </tr>\n",
       "  </thead>\n",
       "  <tbody>\n",
       "    <tr>\n",
       "      <td style = \"text-align: left;\">ACBus</td>\n",
       "      <td style = \"text-align: left;\">5</td>\n",
       "    </tr>\n",
       "    <tr>\n",
       "      <td style = \"text-align: left;\">Arc</td>\n",
       "      <td style = \"text-align: left;\">6</td>\n",
       "    </tr>\n",
       "    <tr>\n",
       "      <td style = \"text-align: left;\">Line</td>\n",
       "      <td style = \"text-align: left;\">6</td>\n",
       "    </tr>\n",
       "    <tr>\n",
       "      <td style = \"text-align: left;\">PowerLoad</td>\n",
       "      <td style = \"text-align: left;\">3</td>\n",
       "    </tr>\n",
       "    <tr>\n",
       "      <td style = \"text-align: left;\">RenewableDispatch</td>\n",
       "      <td style = \"text-align: left;\">3</td>\n",
       "    </tr>\n",
       "    <tr>\n",
       "      <td style = \"text-align: left;\">ThermalStandard</td>\n",
       "      <td style = \"text-align: left;\">5</td>\n",
       "    </tr>\n",
       "  </tbody>\n",
       "</table>\n",
       "\n",
       "<table>\n",
       "  <caption style = \"text-align: left;\">Forecast Summary</caption>\n",
       "  <thead>\n",
       "    <tr class = \"header\">\n",
       "      <th style = \"text-align: left;\">owner_type</th>\n",
       "      <th style = \"text-align: left;\">owner_category</th>\n",
       "      <th style = \"text-align: left;\">time_series_type</th>\n",
       "      <th style = \"text-align: left;\">initial_timestamp</th>\n",
       "      <th style = \"text-align: left;\">resolution</th>\n",
       "      <th style = \"text-align: left;\">count</th>\n",
       "      <th style = \"text-align: left;\">horizon</th>\n",
       "      <th style = \"text-align: left;\">interval</th>\n",
       "      <th style = \"text-align: left;\">window_count</th>\n",
       "    </tr>\n",
       "    <tr class = \"subheader headerLastRow\">\n",
       "      <th style = \"text-align: left;\">String</th>\n",
       "      <th style = \"text-align: left;\">String</th>\n",
       "      <th style = \"text-align: left;\">String</th>\n",
       "      <th style = \"text-align: left;\">String</th>\n",
       "      <th style = \"text-align: left;\">Dates.CompoundPeriod</th>\n",
       "      <th style = \"text-align: left;\">Int64</th>\n",
       "      <th style = \"text-align: left;\">Dates.CompoundPeriod</th>\n",
       "      <th style = \"text-align: left;\">Dates.CompoundPeriod</th>\n",
       "      <th style = \"text-align: left;\">Int64</th>\n",
       "    </tr>\n",
       "  </thead>\n",
       "  <tbody>\n",
       "    <tr>\n",
       "      <td style = \"text-align: left;\">PowerLoad</td>\n",
       "      <td style = \"text-align: left;\">Component</td>\n",
       "      <td style = \"text-align: left;\">Deterministic</td>\n",
       "      <td style = \"text-align: left;\">2024-01-01T00:00:00</td>\n",
       "      <td style = \"text-align: left;\">1 hour</td>\n",
       "      <td style = \"text-align: left;\">3</td>\n",
       "      <td style = \"text-align: left;\">1 day</td>\n",
       "      <td style = \"text-align: left;\">1 day</td>\n",
       "      <td style = \"text-align: left;\">2</td>\n",
       "    </tr>\n",
       "    <tr>\n",
       "      <td style = \"text-align: left;\">RenewableDispatch</td>\n",
       "      <td style = \"text-align: left;\">Component</td>\n",
       "      <td style = \"text-align: left;\">Deterministic</td>\n",
       "      <td style = \"text-align: left;\">2024-01-01T00:00:00</td>\n",
       "      <td style = \"text-align: left;\">1 hour</td>\n",
       "      <td style = \"text-align: left;\">3</td>\n",
       "      <td style = \"text-align: left;\">1 day</td>\n",
       "      <td style = \"text-align: left;\">1 day</td>\n",
       "      <td style = \"text-align: left;\">2</td>\n",
       "    </tr>\n",
       "  </tbody>\n",
       "</table>\n"
      ],
      "text/plain": [
       "\u001b[1mSystem\u001b[0m\n",
       "┌───────────────────┬─────────────┐\n",
       "│\u001b[1m Property          \u001b[0m│\u001b[1m Value       \u001b[0m│\n",
       "├───────────────────┼─────────────┤\n",
       "│ Name              │             │\n",
       "│ Description       │             │\n",
       "│ System Units Base │ SYSTEM_BASE │\n",
       "│ Base Power        │ 100.0       │\n",
       "│ Base Frequency    │ 60.0        │\n",
       "│ Num Components    │ 28          │\n",
       "└───────────────────┴─────────────┘\n",
       "\n",
       "\u001b[1mStatic Components\u001b[0m\n",
       "┌───────────────────┬───────┐\n",
       "│\u001b[1m Type              \u001b[0m│\u001b[1m Count \u001b[0m│\n",
       "├───────────────────┼───────┤\n",
       "│ ACBus             │ 5     │\n",
       "│ Arc               │ 6     │\n",
       "│ Line              │ 6     │\n",
       "│ PowerLoad         │ 3     │\n",
       "│ RenewableDispatch │ 3     │\n",
       "│ ThermalStandard   │ 5     │\n",
       "└───────────────────┴───────┘\n",
       "\n",
       "\u001b[1mForecast Summary\u001b[0m\n",
       "┌───────────────────┬────────────────┬──────────────────┬───────────────────────\n",
       "│\u001b[1m owner_type        \u001b[0m│\u001b[1m owner_category \u001b[0m│\u001b[1m time_series_type \u001b[0m│\u001b[1m initial_timestamp   \u001b[0m ⋯\n",
       "│\u001b[90m String            \u001b[0m│\u001b[90m String         \u001b[0m│\u001b[90m String           \u001b[0m│\u001b[90m String              \u001b[0m ⋯\n",
       "├───────────────────┼────────────────┼──────────────────┼───────────────────────\n",
       "│ PowerLoad         │ Component      │ Deterministic    │ 2024-01-01T00:00:00  ⋯\n",
       "│ RenewableDispatch │ Component      │ Deterministic    │ 2024-01-01T00:00:00  ⋯\n",
       "└───────────────────┴────────────────┴──────────────────┴───────────────────────\n",
       "\u001b[36m                                                               5 columns omitted\u001b[0m\n"
      ]
     },
     "execution_count": 34,
     "metadata": {},
     "output_type": "execute_result"
    }
   ],
   "source": [
    "sys = build_system(PSITestSystems, \"c_sys5_re\")"
   ]
  },
  {
   "cell_type": "code",
   "execution_count": 35,
   "id": "eff9bb0a",
   "metadata": {},
   "outputs": [
    {
     "name": "stderr",
     "output_type": "stream",
     "text": [
      "\u001b[36m\u001b[1m[ \u001b[22m\u001b[39m\u001b[36m\u001b[1mInfo: \u001b[22m\u001b[39mUnit System changed to UnitSystem.NATURAL_UNITS = 2\n"
     ]
    }
   ],
   "source": [
    "set_units_base_system!(sys, \"NATURAL_UNITS\")"
   ]
  },
  {
   "cell_type": "code",
   "execution_count": 36,
   "id": "75896353",
   "metadata": {},
   "outputs": [
    {
     "data": {
      "text/plain": [
       "Zone: Zone_2:\n",
       "   name: Zone_2\n",
       "   id: 2\n",
       "   ext: Dict{Any, Any}()\n",
       "   has_time_series: false"
      ]
     },
     "execution_count": 36,
     "metadata": {},
     "output_type": "execute_result"
    }
   ],
   "source": [
    "# Zones\n",
    "z1 = Zone(name=\"Zone_1\", id=1)\n",
    "z2 = Zone(name=\"Zone_2\", id=2)"
   ]
  },
  {
   "cell_type": "code",
   "execution_count": 37,
   "id": "a1ab0399",
   "metadata": {
    "collapsed": true
   },
   "outputs": [
    {
     "data": {
      "text/plain": [
       "24-element Vector{DateTime}:\n",
       " 2030-01-01T00:00:00\n",
       " 2030-01-01T01:00:00\n",
       " 2030-01-01T02:00:00\n",
       " 2030-01-01T03:00:00\n",
       " 2030-01-01T04:00:00\n",
       " 2030-01-01T05:00:00\n",
       " 2030-01-01T06:00:00\n",
       " 2030-01-01T07:00:00\n",
       " 2030-01-01T08:00:00\n",
       " 2030-01-01T09:00:00\n",
       " 2030-01-01T10:00:00\n",
       " 2030-01-01T11:00:00\n",
       " 2030-01-01T12:00:00\n",
       " 2030-01-01T13:00:00\n",
       " 2030-01-01T14:00:00\n",
       " 2030-01-01T15:00:00\n",
       " 2030-01-01T16:00:00\n",
       " 2030-01-01T17:00:00\n",
       " 2030-01-01T18:00:00\n",
       " 2030-01-01T19:00:00\n",
       " 2030-01-01T20:00:00\n",
       " 2030-01-01T21:00:00\n",
       " 2030-01-01T22:00:00\n",
       " 2030-01-01T23:00:00"
      ]
     },
     "execution_count": 37,
     "metadata": {},
     "output_type": "execute_result"
    }
   ],
   "source": [
    "# Time Series:\n",
    "tstamp_2030_ops = collect(\n",
    "        DateTime(\"1/1/2030 0:00:00\", \"d/m/y H:M:S\"):Hour(1):\n",
    "        DateTime(\"1/1/2030 23:00:00\", \"d/m/y H:M:S\")\n",
    ")"
   ]
  },
  {
   "cell_type": "code",
   "execution_count": 38,
   "id": "cfb8fe8e",
   "metadata": {
    "scrolled": true
   },
   "outputs": [
    {
     "data": {
      "text/plain": [
       "24-element Vector{DateTime}:\n",
       " 2035-01-01T00:00:00\n",
       " 2035-01-01T01:00:00\n",
       " 2035-01-01T02:00:00\n",
       " 2035-01-01T03:00:00\n",
       " 2035-01-01T04:00:00\n",
       " 2035-01-01T05:00:00\n",
       " 2035-01-01T06:00:00\n",
       " 2035-01-01T07:00:00\n",
       " 2035-01-01T08:00:00\n",
       " 2035-01-01T09:00:00\n",
       " 2035-01-01T10:00:00\n",
       " 2035-01-01T11:00:00\n",
       " 2035-01-01T12:00:00\n",
       " 2035-01-01T13:00:00\n",
       " 2035-01-01T14:00:00\n",
       " 2035-01-01T15:00:00\n",
       " 2035-01-01T16:00:00\n",
       " 2035-01-01T17:00:00\n",
       " 2035-01-01T18:00:00\n",
       " 2035-01-01T19:00:00\n",
       " 2035-01-01T20:00:00\n",
       " 2035-01-01T21:00:00\n",
       " 2035-01-01T22:00:00\n",
       " 2035-01-01T23:00:00"
      ]
     },
     "execution_count": 38,
     "metadata": {},
     "output_type": "execute_result"
    }
   ],
   "source": [
    "tstamp_2035_ops = collect(\n",
    "        DateTime(\"1/1/2035 0:00:00\", \"d/m/y H:M:S\"):Hour(1):\n",
    "        DateTime(\"1/1/2035 23:00:00\", \"d/m/y H:M:S\")\n",
    ")"
   ]
  },
  {
   "cell_type": "code",
   "execution_count": 39,
   "id": "9729a105",
   "metadata": {},
   "outputs": [
    {
     "data": {
      "text/plain": [
       "2-element Vector{DateTime}:\n",
       " 2030-01-01T00:00:00\n",
       " 2035-01-01T00:00:00"
      ]
     },
     "execution_count": 39,
     "metadata": {},
     "output_type": "execute_result"
    }
   ],
   "source": [
    "tstamp_inv = [\n",
    "    DateTime(\"1/1/2030  0:00:00\", \"d/m/y  H:M:S\"),\n",
    "    DateTime(\"1/1/2035  0:00:00\", \"d/m/y  H:M:S\"),\n",
    "]"
   ]
  },
  {
   "cell_type": "code",
   "execution_count": 40,
   "id": "248ef309",
   "metadata": {},
   "outputs": [
    {
     "data": {
      "text/latex": [
       "\\begin{verbatim}\n",
       "mutable struct TechnologyFinancialData <: FinancialData\n",
       "    interest_rate::Float64\n",
       "    capital_recovery_period::Int64\n",
       "    technology_base_year::Int64\n",
       "end\n",
       "\\end{verbatim}\n",
       "\\section{Arguments}\n",
       "\\begin{itemize}\n",
       "\\item \\texttt{interest\\_rate::Float64}: (default: \\texttt{0.0}) Interest rate\n",
       "\n",
       "\n",
       "\\item \\texttt{capital\\_recovery\\_period::Int64}: Capital recovery period (in years) used for determining overnight capital costs from annualized investment costs\n",
       "\n",
       "\n",
       "\\item \\texttt{technology\\_base\\_year::Int64}: Year for which all dollar values for this technology are reported. Will be converted to dollars in the portfolio base year.\n",
       "\n",
       "\\end{itemize}\n"
      ],
      "text/markdown": [
       "```\n",
       "mutable struct TechnologyFinancialData <: FinancialData\n",
       "    interest_rate::Float64\n",
       "    capital_recovery_period::Int64\n",
       "    technology_base_year::Int64\n",
       "end\n",
       "```\n",
       "\n",
       "# Arguments\n",
       "\n",
       "  * `interest_rate::Float64`: (default: `0.0`) Interest rate\n",
       "  * `capital_recovery_period::Int64`: Capital recovery period (in years) used for determining overnight capital costs from annualized investment costs\n",
       "  * `technology_base_year::Int64`: Year for which all dollar values for this technology are reported. Will be converted to dollars in the portfolio base year.\n"
      ],
      "text/plain": [
       "  \u001b[38;5;197mmutable\u001b[0m \u001b[0m\u001b[38;5;197mstruct\u001b[0m \u001b[0m\u001b[39mTechnologyFinancialData\u001b[0m \u001b[0m\u001b[38;5;197m<:\u001b[0m \u001b[0m\u001b[39mFinancialData\u001b[0m\n",
       "      \u001b[0m\u001b[39minterest_rate\u001b[0m\u001b[38;5;81m::\u001b[0m\u001b[38;5;81mFloat64\u001b[0m\n",
       "      \u001b[0m\u001b[39mcapital_recovery_period\u001b[0m\u001b[38;5;81m::\u001b[0m\u001b[38;5;81mInt64\u001b[0m\n",
       "      \u001b[0m\u001b[39mtechnology_base_year\u001b[0m\u001b[38;5;81m::\u001b[0m\u001b[38;5;81mInt64\u001b[0m\n",
       "  \u001b[0m\u001b[38;5;197mend\u001b[0m\n",
       "\n",
       "\u001b[1m  Arguments\u001b[22m\n",
       "\u001b[1m  ≡≡≡≡≡≡≡≡≡\u001b[22m\n",
       "\n",
       "    •  \u001b[36minterest_rate::Float64\u001b[39m: (default: \u001b[36m0.0\u001b[39m) Interest rate\n",
       "\n",
       "    •  \u001b[36mcapital_recovery_period::Int64\u001b[39m: Capital recovery period (in years)\n",
       "       used for determining overnight capital costs from annualized\n",
       "       investment costs\n",
       "\n",
       "    •  \u001b[36mtechnology_base_year::Int64\u001b[39m: Year for which all dollar values for\n",
       "       this technology are reported. Will be converted to dollars in the\n",
       "       portfolio base year."
      ]
     },
     "execution_count": 40,
     "metadata": {},
     "output_type": "execute_result"
    }
   ],
   "source": [
    "?TechnologyFinancialData(;)"
   ]
  },
  {
   "cell_type": "code",
   "execution_count": 84,
   "id": "d9702aaf",
   "metadata": {},
   "outputs": [
    {
     "data": {
      "text/plain": [
       "tech_financials (generic function with 1 method)"
      ]
     },
     "execution_count": 84,
     "metadata": {},
     "output_type": "execute_result"
    }
   ],
   "source": [
    "tech_financials() = TechnologyFinancialData(; interest_rate=0.04, capital_recovery_period=30, technology_base_year=2025)"
   ]
  },
  {
   "cell_type": "code",
   "execution_count": 73,
   "id": "ac7a361e",
   "metadata": {},
   "outputs": [
    {
     "data": {
      "text/plain": [
       "ThermalStandard: Solitude:\n",
       "   name: Solitude\n",
       "   available: true\n",
       "   status: true\n",
       "   bus: ACBus: nodeC\n",
       "   active_power: 520.0\n",
       "   reactive_power: 100.0\n",
       "   rating: 520.0\n",
       "   active_power_limits: (min = 0.0, max = 520.0)\n",
       "   reactive_power_limits: (min = -390.0, max = 390.0)\n",
       "   ramp_limits: (up = 6.24, down = 6.24)\n",
       "   operation_cost: ThermalGenerationCost composed of variable: CostCurve{LinearCurve}\n",
       "   base_power: 100.0\n",
       "   time_limits: (up = 3.0, down = 2.0)\n",
       "   must_run: false\n",
       "   prime_mover_type: PrimeMovers.ST = 20\n",
       "   fuel: ThermalFuels.COAL = 1\n",
       "   services: 0-element Vector{Service}\n",
       "   time_at_status: 10000.0\n",
       "   dynamic_injector: nothing\n",
       "   ext: Dict{String, Any}()\n",
       "   InfrastructureSystems.SystemUnitsSettings:\n",
       "      base_value: 100.0\n",
       "      unit_system: UnitSystem.NATURAL_UNITS = 2\n",
       "   has_supplemental_attributes: false\n",
       "   has_time_series: false"
      ]
     },
     "execution_count": 73,
     "metadata": {},
     "output_type": "execute_result"
    }
   ],
   "source": [
    "thermals = collect(get_components(ThermalStandard, sys)); thermals[1]"
   ]
  },
  {
   "cell_type": "code",
   "execution_count": 74,
   "id": "1ac81c9d",
   "metadata": {},
   "outputs": [
    {
     "data": {
      "text/plain": [
       "2-element Vector{String}:\n",
       " \"Solitude\"\n",
       " \"Sundance\""
      ]
     },
     "execution_count": 74,
     "metadata": {},
     "output_type": "execute_result"
    }
   ],
   "source": [
    "var_cost = PSY.get_variable.((get_operation_cost.((thermals))))\n",
    "op_cost = PSY.get_proportional_term.(get_value_curve.(var_cost))\n",
    "\n",
    "cheap_th_ixs = 2:4 # cheap thermal\n",
    "exp_th_ixs = [1, 5] # expensive!\n",
    "cheap_th_var_cost = mean(op_cost[cheap_th_ixs])\n",
    "exp_th_var_cost = mean(op_cost[exp_th_ixs])\n",
    "cheap_th_names = PSY.get_name.(thermals[cheap_th_ixs])\n",
    "exp_th_names = PSY.get_name.(thermals[exp_th_ixs])"
   ]
  },
  {
   "cell_type": "code",
   "execution_count": 75,
   "id": "42ecf536",
   "metadata": {},
   "outputs": [
    {
     "data": {
      "text/plain": [
       "3-element Vector{String}:\n",
       " \"Park City\"\n",
       " \"Alta\"\n",
       " \"Brighton\""
      ]
     },
     "execution_count": 75,
     "metadata": {},
     "output_type": "execute_result"
    }
   ],
   "source": [
    "cheap_th_names"
   ]
  },
  {
   "cell_type": "code",
   "execution_count": 76,
   "id": "adc368d4",
   "metadata": {},
   "outputs": [
    {
     "data": {
      "text/plain": [
       "3664.307"
      ]
     },
     "execution_count": 76,
     "metadata": {},
     "output_type": "execute_result"
    }
   ],
   "source": [
    "# Year 2030:\n",
    "coal_igcc_capex = 6937.377 # $/kW\n",
    "coal_new_capex = 3823.56 # $/kW\n",
    "\n",
    "# Year 2035:\n",
    "coal_igcc_capex_2035 = 6869.263 # $/kW\n",
    "coal_new_capex_2035 = 3664.307 # $/kW"
   ]
  },
  {
   "cell_type": "code",
   "execution_count": 77,
   "id": "43b0e43f",
   "metadata": {},
   "outputs": [
    {
     "data": {
      "text/plain": [
       "SingleTimeSeries(\"inv_capex\", 2×1 TimeArray{Float64, 1, DateTime, Vector{Float64}} 2030-01-01T00:00:00 to 2035-01-01T00:00:00, Millisecond(157766400000), nothing, InfrastructureSystems.InfrastructureSystemsInternal(Base.UUID(\"2730197e-0c56-489b-bc32-f09a958445d9\"), nothing, nothing, nothing))"
      ]
     },
     "execution_count": 77,
     "metadata": {},
     "output_type": "execute_result"
    }
   ],
   "source": [
    "ts_th_cheap_inv_capex = SingleTimeSeries(\n",
    "    \"inv_capex\",\n",
    "    TimeArray(tstamp_inv, [1.0, coal_igcc_capex / coal_igcc_capex_2035]),\n",
    ")\n",
    "ts_th_exp_inv_capex = SingleTimeSeries(\n",
    "    \"inv_capex\",\n",
    "    TimeArray(tstamp_inv, [1.0, coal_new_capex / coal_new_capex_2035]),\n",
    ")"
   ]
  },
  {
   "cell_type": "code",
   "execution_count": 78,
   "id": "ee890764",
   "metadata": {},
   "outputs": [
    {
     "data": {
      "text/plain": [
       "2×1 TimeArray{Float64, 1, DateTime, Vector{Float64}} 2030-01-01T00:00:00 to 2035-01-01T00:00:00\n",
       "┌─────────────────────┬─────────┐\n",
       "│\u001b[1m                     \u001b[0m│\u001b[1m A       \u001b[0m│\n",
       "├─────────────────────┼─────────┤\n",
       "│ 2030-01-01T00:00:00 │     1.0 │\n",
       "│ 2035-01-01T00:00:00 │ 1.04346 │\n",
       "└─────────────────────┴─────────┘"
      ]
     },
     "execution_count": 78,
     "metadata": {},
     "output_type": "execute_result"
    }
   ],
   "source": [
    "ts_th_exp_inv_capex.data"
   ]
  },
  {
   "cell_type": "code",
   "execution_count": 81,
   "id": "c244a67f",
   "metadata": {},
   "outputs": [
    {
     "data": {
      "text/plain": [
       "SupplyTechnology: cheap_thermal:\n",
       "   outage_factor: 1.0\n",
       "   prime_mover_type: PrimeMovers.ST = 20\n",
       "   capital_costs: LinearCurve(6.937377e6, 0.0)\n",
       "   lifetime: 100\n",
       "   available: true\n",
       "   co2: Dict{ThermalFuels, Float64}()\n",
       "   name: cheap_thermal\n",
       "   id: 1\n",
       "   cofire_start_limits: Dict{ThermalFuels, @NamedTuple{min::Float64, max::Float64}}()\n",
       "   financial_data: TechnologyFinancialData\n",
       "   start_fuel_mmbtu_per_mw: 0.0\n",
       "   operation_costs: ThermalGenerationCost composed of variable: CostCurve{LinearCurve}\n",
       "   fuel: ThermalFuels[ThermalFuels.COAL = 1]\n",
       "   power_systems_type: ThermalStandard\n",
       "   cofire_level_limits: Dict{ThermalFuels, @NamedTuple{min::Float64, max::Float64}}()\n",
       "   nothing\n",
       "   ext: Dict{Any, Any}()\n",
       "   region: 1-element Vector{RegionTopology}\n",
       "   min_generation_fraction: 0.0\n",
       "   time_limits: (up = 1.0, down = 1.0)\n",
       "   unit_size: 250.0\n",
       "   ramp_limits: (up = 1.0, down = 1.0)\n",
       "   capacity_limits: (min = 0.0, max = 1.0e8)\n",
       "   has_supplemental_attributes: false\n",
       "   has_time_series: false"
      ]
     },
     "execution_count": 81,
     "metadata": {},
     "output_type": "execute_result"
    }
   ],
   "source": [
    "t_th = SupplyTechnology{ThermalStandard}(;\n",
    "    prime_mover_type=PrimeMovers.ST,\n",
    "    capital_costs=LinearCurve(coal_igcc_capex * 1000.0),\n",
    "    id=1,\n",
    "    available=true,\n",
    "    name=\"cheap_thermal\",\n",
    "    fuel=[ThermalFuels.COAL],\n",
    "    power_systems_type=\"ThermalStandard\",\n",
    "    operation_costs=ThermalGenerationCost(\n",
    "        variable=CostCurve(LinearCurve(cheap_th_var_cost)),\n",
    "        fixed=0.0,\n",
    "        start_up=0.0,\n",
    "        shut_down=0.0,\n",
    "    ),#LinearCurve(0.0),\n",
    "    capacity_limits=(0.0, 1e8),\n",
    "    outage_factor=1.0,\n",
    "    region=[z1],\n",
    "    unit_size=250.0,\n",
    "    financial_data=tech_financials(),\n",
    ")"
   ]
  },
  {
   "cell_type": "code",
   "execution_count": 85,
   "id": "fa69f568",
   "metadata": {},
   "outputs": [
    {
     "data": {
      "text/plain": [
       "SupplyTechnology: expensive_thermal:\n",
       "   outage_factor: 1.0\n",
       "   prime_mover_type: PrimeMovers.ST = 20\n",
       "   capital_costs: LinearCurve(3.82356e6, 0.0)\n",
       "   lifetime: 100\n",
       "   available: true\n",
       "   co2: Dict{ThermalFuels, Float64}()\n",
       "   name: expensive_thermal\n",
       "   id: 2\n",
       "   cofire_start_limits: Dict{ThermalFuels, @NamedTuple{min::Float64, max::Float64}}()\n",
       "   financial_data: TechnologyFinancialData\n",
       "   start_fuel_mmbtu_per_mw: 0.0\n",
       "   operation_costs: ThermalGenerationCost composed of variable: CostCurve{LinearCurve}\n",
       "   fuel: ThermalFuels[ThermalFuels.COAL = 1]\n",
       "   power_systems_type: ThermalStandard\n",
       "   cofire_level_limits: Dict{ThermalFuels, @NamedTuple{min::Float64, max::Float64}}()\n",
       "   nothing\n",
       "   ext: Dict{Any, Any}()\n",
       "   region: 1-element Vector{RegionTopology}\n",
       "   min_generation_fraction: 0.0\n",
       "   time_limits: (up = 1.0, down = 1.0)\n",
       "   unit_size: 75.0\n",
       "   ramp_limits: (up = 1.0, down = 1.0)\n",
       "   capacity_limits: (min = 0.0, max = 1.0e8)\n",
       "   has_supplemental_attributes: false\n",
       "   has_time_series: false"
      ]
     },
     "execution_count": 85,
     "metadata": {},
     "output_type": "execute_result"
    }
   ],
   "source": [
    "t_th_exp = SupplyTechnology{ThermalStandard}(;\n",
    "    prime_mover_type=PrimeMovers.ST,\n",
    "    capital_costs=LinearCurve(coal_new_capex * 1000.0),\n",
    "    id=2,\n",
    "    available=true,\n",
    "    name=\"expensive_thermal\",\n",
    "    fuel=[ThermalFuels.COAL],\n",
    "    power_systems_type=\"ThermalStandard\",\n",
    "    operation_costs=ThermalGenerationCost(\n",
    "        variable=CostCurve(LinearCurve(exp_th_var_cost)),\n",
    "        fixed=0.0,\n",
    "        start_up=0.0,\n",
    "        shut_down=0.0,\n",
    "    ),\n",
    "    capacity_limits=(0.0, 1e8),\n",
    "    outage_factor=1.0,\n",
    "    region=[z1],\n",
    "    unit_size=75.0,\n",
    "    financial_data=tech_financials(),\n",
    ")"
   ]
  },
  {
   "cell_type": "code",
   "execution_count": 56,
   "id": "d3c28f70",
   "metadata": {},
   "outputs": [
    {
     "name": "stdout",
     "output_type": "stream",
     "text": [
      "search: \u001b[0m\u001b[1mP\u001b[22m\u001b[0m\u001b[1mo\u001b[22m\u001b[0m\u001b[1mr\u001b[22m\u001b[0m\u001b[1mt\u001b[22m\u001b[0m\u001b[1mf\u001b[22m\u001b[0m\u001b[1mo\u001b[22m\u001b[0m\u001b[1ml\u001b[22m\u001b[0m\u001b[1mi\u001b[22m\u001b[0m\u001b[1mo\u001b[22m\n",
      "\n"
     ]
    },
    {
     "data": {
      "text/latex": [
       "Construct an empty \\texttt{Portfolio}. Useful for building a Portfolio from scratch.\n",
       "\n",
       "\\rule{\\textwidth}{1pt}\n",
       "Construct an empty \\texttt{Portfolio} specifying aggregation. Useful for building a Portfolio from scratch.\n",
       "\n",
       "\\rule{\\textwidth}{1pt}\n",
       "Construct an empty \\texttt{Portfolio} specifying base\\_system. Useful for building a Portfolio from scratch.\n",
       "\n",
       "\\rule{\\textwidth}{1pt}\n",
       "Construct an empty \\texttt{Portfolio} specifying financial data. Useful for building a Portfolio from scratch.\n",
       "\n",
       "\\rule{\\textwidth}{1pt}\n",
       "Construct an empty \\texttt{Portfolio} specifying financial data. Useful for building a Portfolio from scratch and used in the database parser.\n",
       "\n",
       "\\rule{\\textwidth}{1pt}\n",
       "Constructs a Portfolio from a file path ending with .json\n",
       "\n",
       "If the file is JSON, then \\texttt{assign\\_new\\_uuids = true} will generate new UUIDs for the system and all components.\n",
       "\n"
      ],
      "text/markdown": [
       "Construct an empty `Portfolio`. Useful for building a Portfolio from scratch.\n",
       "\n",
       "---\n",
       "\n",
       "Construct an empty `Portfolio` specifying aggregation. Useful for building a Portfolio from scratch.\n",
       "\n",
       "---\n",
       "\n",
       "Construct an empty `Portfolio` specifying base_system. Useful for building a Portfolio from scratch.\n",
       "\n",
       "---\n",
       "\n",
       "Construct an empty `Portfolio` specifying financial data. Useful for building a Portfolio from scratch.\n",
       "\n",
       "---\n",
       "\n",
       "Construct an empty `Portfolio` specifying financial data. Useful for building a Portfolio from scratch and used in the database parser.\n",
       "\n",
       "---\n",
       "\n",
       "Constructs a Portfolio from a file path ending with .json\n",
       "\n",
       "If the file is JSON, then `assign_new_uuids = true` will generate new UUIDs for the system and all components.\n"
      ],
      "text/plain": [
       "  Construct an empty \u001b[36mPortfolio\u001b[39m. Useful for building a Portfolio from scratch.\n",
       "\n",
       "  ────────────────────────────────────────────────────────────────────────────\n",
       "\n",
       "  Construct an empty \u001b[36mPortfolio\u001b[39m specifying aggregation. Useful for building a\n",
       "  Portfolio from scratch.\n",
       "\n",
       "  ────────────────────────────────────────────────────────────────────────────\n",
       "\n",
       "  Construct an empty \u001b[36mPortfolio\u001b[39m specifying base_system. Useful for building a\n",
       "  Portfolio from scratch.\n",
       "\n",
       "  ────────────────────────────────────────────────────────────────────────────\n",
       "\n",
       "  Construct an empty \u001b[36mPortfolio\u001b[39m specifying financial data. Useful for building\n",
       "  a Portfolio from scratch.\n",
       "\n",
       "  ────────────────────────────────────────────────────────────────────────────\n",
       "\n",
       "  Construct an empty \u001b[36mPortfolio\u001b[39m specifying financial data. Useful for building\n",
       "  a Portfolio from scratch and used in the database parser.\n",
       "\n",
       "  ────────────────────────────────────────────────────────────────────────────\n",
       "\n",
       "  Constructs a Portfolio from a file path ending with .json\n",
       "\n",
       "  If the file is JSON, then \u001b[36massign_new_uuids = true\u001b[39m will generate new UUIDs\n",
       "  for the system and all components."
      ]
     },
     "execution_count": 56,
     "metadata": {},
     "output_type": "execute_result"
    }
   ],
   "source": [
    "?Portfolio"
   ]
  },
  {
   "cell_type": "code",
   "execution_count": 57,
   "id": "ebd00b2a",
   "metadata": {},
   "outputs": [
    {
     "data": {
      "text/html": [
       "<table>\n",
       "  <caption style = \"text-align: left;\">Portfolio</caption>\n",
       "  <thead>\n",
       "    <tr class = \"header headerLastRow\">\n",
       "      <th style = \"text-align: left;\">Property</th>\n",
       "      <th style = \"text-align: left;\">Value</th>\n",
       "    </tr>\n",
       "  </thead>\n",
       "  <tbody>\n",
       "    <tr>\n",
       "      <td style = \"text-align: left;\">Name</td>\n",
       "      <td style = \"text-align: left;\"></td>\n",
       "    </tr>\n",
       "    <tr>\n",
       "      <td style = \"text-align: left;\">Description</td>\n",
       "      <td style = \"text-align: left;\"></td>\n",
       "    </tr>\n",
       "    <tr>\n",
       "      <td style = \"text-align: left;\">Aggregation</td>\n",
       "      <td style = \"text-align: left;\">Area</td>\n",
       "    </tr>\n",
       "  </tbody>\n",
       "</table>\n",
       "\n"
      ],
      "text/plain": [
       "\u001b[1mPortfolio\u001b[0m\n",
       "┌─────────────┬───────┐\n",
       "│\u001b[1m Property    \u001b[0m│\u001b[1m Value \u001b[0m│\n",
       "├─────────────┼───────┤\n",
       "│ Name        │       │\n",
       "│ Description │       │\n",
       "│ Aggregation │ Area  │\n",
       "└─────────────┴───────┘\n",
       "\n"
      ]
     },
     "execution_count": 57,
     "metadata": {},
     "output_type": "execute_result"
    }
   ],
   "source": [
    "p_5bus = Portfolio(\n",
    "    sys;\n",
    "    financial_data = PortfolioFinancialData(\n",
    "        2025, # base_year\n",
    "        discount_rate,\n",
    "        inflation_rate,\n",
    "        interest_rate,\n",
    "    )\n",
    ")"
   ]
  },
  {
   "cell_type": "code",
   "execution_count": 58,
   "id": "0e81c51c",
   "metadata": {},
   "outputs": [
    {
     "data": {
      "text/plain": [
       "\"Our Test Portfolio System\""
      ]
     },
     "execution_count": 58,
     "metadata": {},
     "output_type": "execute_result"
    }
   ],
   "source": [
    "PSIP.set_name!(p_5bus, \"Our Test Portfolio System\")"
   ]
  },
  {
   "cell_type": "code",
   "execution_count": 59,
   "id": "efb27291",
   "metadata": {},
   "outputs": [
    {
     "data": {
      "text/html": [
       "<table>\n",
       "  <caption style = \"text-align: left;\">Portfolio</caption>\n",
       "  <thead>\n",
       "    <tr class = \"header headerLastRow\">\n",
       "      <th style = \"text-align: left;\">Property</th>\n",
       "      <th style = \"text-align: left;\">Value</th>\n",
       "    </tr>\n",
       "  </thead>\n",
       "  <tbody>\n",
       "    <tr>\n",
       "      <td style = \"text-align: left;\">Name</td>\n",
       "      <td style = \"text-align: left;\">Our Test Portfolio System</td>\n",
       "    </tr>\n",
       "    <tr>\n",
       "      <td style = \"text-align: left;\">Description</td>\n",
       "      <td style = \"text-align: left;\"></td>\n",
       "    </tr>\n",
       "    <tr>\n",
       "      <td style = \"text-align: left;\">Aggregation</td>\n",
       "      <td style = \"text-align: left;\">Area</td>\n",
       "    </tr>\n",
       "  </tbody>\n",
       "</table>\n",
       "\n"
      ],
      "text/plain": [
       "\u001b[1mPortfolio\u001b[0m\n",
       "┌─────────────┬───────────────────────────┐\n",
       "│\u001b[1m Property    \u001b[0m│\u001b[1m Value                     \u001b[0m│\n",
       "├─────────────┼───────────────────────────┤\n",
       "│ Name        │ Our Test Portfolio System │\n",
       "│ Description │                           │\n",
       "│ Aggregation │ Area                      │\n",
       "└─────────────┴───────────────────────────┘\n",
       "\n"
      ]
     },
     "execution_count": 59,
     "metadata": {},
     "output_type": "execute_result"
    }
   ],
   "source": [
    "p_5bus"
   ]
  },
  {
   "cell_type": "code",
   "execution_count": 60,
   "id": "5230d1a8",
   "metadata": {},
   "outputs": [
    {
     "name": "stderr",
     "output_type": "stream",
     "text": [
      "\u001b[33m\u001b[1m┌ \u001b[22m\u001b[39m\u001b[33m\u001b[1mWarning: \u001b[22m\u001b[39mstruct Zone does not exist in validation configuration file, validation skipped\n",
      "\u001b[33m\u001b[1m└ \u001b[22m\u001b[39m\u001b[90m@ InfrastructureSystems ~/.julia/packages/InfrastructureSystems/LEg3t/src/validation.jl:51\u001b[39m\n"
     ]
    }
   ],
   "source": [
    "PSIP.add_region!(p_5bus, z1)"
   ]
  },
  {
   "cell_type": "code",
   "execution_count": 61,
   "id": "911cf0b6",
   "metadata": {},
   "outputs": [
    {
     "name": "stderr",
     "output_type": "stream",
     "text": [
      "\u001b[33m\u001b[1m┌ \u001b[22m\u001b[39m\u001b[33m\u001b[1mWarning: \u001b[22m\u001b[39mstruct Zone does not exist in validation configuration file, validation skipped\n",
      "\u001b[33m\u001b[1m└ \u001b[22m\u001b[39m\u001b[90m@ InfrastructureSystems ~/.julia/packages/InfrastructureSystems/LEg3t/src/validation.jl:51\u001b[39m\n"
     ]
    }
   ],
   "source": [
    "PSIP.add_region!(p_5bus, z2)"
   ]
  },
  {
   "cell_type": "code",
   "execution_count": 82,
   "id": "7474e76c",
   "metadata": {},
   "outputs": [],
   "source": [
    "PSIP.add_technology!(p_5bus, t_th)"
   ]
  },
  {
   "cell_type": "code",
   "execution_count": 86,
   "id": "a2ed9235",
   "metadata": {},
   "outputs": [],
   "source": [
    "PSIP.add_technology!(p_5bus, t_th_exp)"
   ]
  },
  {
   "cell_type": "code",
   "execution_count": 87,
   "id": "1d65c1bc",
   "metadata": {},
   "outputs": [
    {
     "data": {
      "text/html": [
       "<table>\n",
       "  <caption style = \"text-align: left;\">Portfolio</caption>\n",
       "  <thead>\n",
       "    <tr class = \"header headerLastRow\">\n",
       "      <th style = \"text-align: left;\">Property</th>\n",
       "      <th style = \"text-align: left;\">Value</th>\n",
       "    </tr>\n",
       "  </thead>\n",
       "  <tbody>\n",
       "    <tr>\n",
       "      <td style = \"text-align: left;\">Name</td>\n",
       "      <td style = \"text-align: left;\">Our Test Portfolio System</td>\n",
       "    </tr>\n",
       "    <tr>\n",
       "      <td style = \"text-align: left;\">Description</td>\n",
       "      <td style = \"text-align: left;\"></td>\n",
       "    </tr>\n",
       "    <tr>\n",
       "      <td style = \"text-align: left;\">Aggregation</td>\n",
       "      <td style = \"text-align: left;\">Area</td>\n",
       "    </tr>\n",
       "  </tbody>\n",
       "</table>\n",
       "\n",
       "\n",
       "<table>\n",
       "  <caption style = \"text-align: left;\">Technologies</caption>\n",
       "  <thead>\n",
       "    <tr class = \"header headerLastRow\">\n",
       "      <th style = \"text-align: left;\">Type</th>\n",
       "      <th style = \"text-align: left;\">Count</th>\n",
       "    </tr>\n",
       "  </thead>\n",
       "  <tbody>\n",
       "    <tr>\n",
       "      <td style = \"text-align: left;\">SupplyTechnology</td>\n",
       "      <td style = \"text-align: left;\">2</td>\n",
       "    </tr>\n",
       "  </tbody>\n",
       "</table>\n"
      ],
      "text/plain": [
       "\u001b[1mPortfolio\u001b[0m\n",
       "┌─────────────┬───────────────────────────┐\n",
       "│\u001b[1m Property    \u001b[0m│\u001b[1m Value                     \u001b[0m│\n",
       "├─────────────┼───────────────────────────┤\n",
       "│ Name        │ Our Test Portfolio System │\n",
       "│ Description │                           │\n",
       "│ Aggregation │ Area                      │\n",
       "└─────────────┴───────────────────────────┘\n",
       "\n",
       "\u001b[1mTechnologies\u001b[0m\n",
       "┌──────────────────┬───────┐\n",
       "│\u001b[1m Type             \u001b[0m│\u001b[1m Count \u001b[0m│\n",
       "├──────────────────┼───────┤\n",
       "│ SupplyTechnology │ 2     │\n",
       "└──────────────────┴───────┘\n",
       "\n"
      ]
     },
     "execution_count": 87,
     "metadata": {},
     "output_type": "execute_result"
    }
   ],
   "source": [
    "p_5bus"
   ]
  },
  {
   "cell_type": "code",
   "execution_count": 88,
   "id": "9b2a7b2f",
   "metadata": {},
   "outputs": [
    {
     "name": "stdout",
     "output_type": "stream",
     "text": [
      "search: \u001b[0m\u001b[1mD\u001b[22m\u001b[0m\u001b[1me\u001b[22m\u001b[0m\u001b[1mm\u001b[22m\u001b[0m\u001b[1ma\u001b[22m\u001b[0m\u001b[1mn\u001b[22m\u001b[0m\u001b[1md\u001b[22m\u001b[0m\u001b[1mS\u001b[22m\u001b[0m\u001b[1mi\u001b[22m\u001b[0m\u001b[1md\u001b[22m\u001b[0m\u001b[1me\u001b[22m\u001b[0m\u001b[1mT\u001b[22m\u001b[0m\u001b[1me\u001b[22m\u001b[0m\u001b[1mc\u001b[22m\u001b[0m\u001b[1mh\u001b[22m\u001b[0m\u001b[1mn\u001b[22m\u001b[0m\u001b[1mo\u001b[22m\u001b[0m\u001b[1ml\u001b[22m\u001b[0m\u001b[1mo\u001b[22m\u001b[0m\u001b[1mg\u001b[22m\u001b[0m\u001b[1my\u001b[22m \u001b[0m\u001b[1mD\u001b[22m\u001b[0m\u001b[1me\u001b[22m\u001b[0m\u001b[1mm\u001b[22m\u001b[0m\u001b[1ma\u001b[22m\u001b[0m\u001b[1mn\u001b[22m\u001b[0m\u001b[1md\u001b[22mTechnology ResourceTechnology a\u001b[0m\u001b[1md\u001b[22md_t\u001b[0m\u001b[1me\u001b[22mchnology!\n",
      "\n"
     ]
    },
    {
     "data": {
      "text/latex": [
       "\\begin{verbatim}\n",
       "mutable struct DemandSideTechnology{T <: PSY.StaticInjection} <: DemandTechnology\n",
       "    price_per_unit::PSY.ValueCurve\n",
       "    available::Bool\n",
       "    name::String\n",
       "    shift_variable_cost::PSY.ValueCurve\n",
       "    curtailment_cost::PSY.ValueCurve\n",
       "    id::Int64\n",
       "    technology_efficiency::Float64\n",
       "    max_demand_advance::Float64\n",
       "    demand_energy_efficiency::Float64\n",
       "    max_demand_curtailment::Float64\n",
       "    max_demand_delay::Float64\n",
       "    power_systems_type::String\n",
       "    internal::InfrastructureSystemsInternal\n",
       "    ext::Dict\n",
       "    region::Vector{RegionTopology}\n",
       "    min_power::Float64\n",
       "    peak_demand_mw::Float64\n",
       "end\n",
       "\\end{verbatim}\n",
       "Represents demand side technologies such as electric vehicles or hydrogen electrolyzers.\n",
       "\n",
       "\\section{Arguments}\n",
       "\\begin{itemize}\n",
       "\\item \\texttt{price\\_per\\_unit::PSY.ValueCurve}: (default: \\texttt{LinearCurve(0.0)}) Price or value per unit of output. Ex: USD per ton of hydrogen for electrolyzers\n",
       "\n",
       "\n",
       "\\item \\texttt{available::Bool}: Indicator of whether the component is connected and online (\\texttt{true}) or disconnected, offline, or down (\\texttt{false})\n",
       "\n",
       "\n",
       "\\item \\texttt{name::String}: The technology name\n",
       "\n",
       "\n",
       "\\item \\texttt{shift\\_variable\\_cost::PSY.ValueCurve}: (default: \\texttt{LinearCurve(0.0)}) Variable operation and maintenance costs associated with flexible demand deferral/advancement\n",
       "\n",
       "\n",
       "\\item \\texttt{curtailment\\_cost::PSY.ValueCurve}: (default: \\texttt{LinearCurve(0.0)}) Energy cost of curtailed demand, USD per Mwh\n",
       "\n",
       "\n",
       "\\item \\texttt{id::Int64}: ID for demand side technology\n",
       "\n",
       "\n",
       "\\item \\texttt{technology\\_efficiency::Float64}: (default: \\texttt{0.0}) MWh of electricity per unit of output. Ex: MWh per ton of hydrogen for electrolyzers\n",
       "\n",
       "\n",
       "\\item \\texttt{max\\_demand\\_advance::Float64}: (default: \\texttt{0.0}) Maximum number of hours that demand can be scheduled in advance of the original schedule (hours).\n",
       "\n",
       "\n",
       "\\item \\texttt{demand\\_energy\\_efficiency::Float64}: (default: \\texttt{0.0}) Energy efficiency associated with time shifting demand. Represents energy losses due to time shifting\n",
       "\n",
       "\n",
       "\\item \\texttt{max\\_demand\\_curtailment::Float64}: (default: \\texttt{0.0}) Maximum fraction of demand that can be curtailed\n",
       "\n",
       "\n",
       "\\item \\texttt{max\\_demand\\_delay::Float64}: (default: \\texttt{0.0}) Maximum number of hours that demand can be deferred or delayed (hours).\n",
       "\n",
       "\n",
       "\\item \\texttt{power\\_systems\\_type::String}: maps to a valid PowerSystems.jl for PCM modeling\n",
       "\n",
       "\n",
       "\\item \\texttt{internal::InfrastructureSystemsInternal}: (default: \\texttt{InfrastructureSystemsInternal()}) Internal field\n",
       "\n",
       "\n",
       "\\item \\texttt{ext::Dict}: (default: \\texttt{Dict()}) Option for providing additional data\n",
       "\n",
       "\n",
       "\\item \\texttt{region::Vector\\{RegionTopology\\}}: (default: \\texttt{Vector()}) Location where technology is operated\n",
       "\n",
       "\n",
       "\\item \\texttt{min\\_power::Float64}: (default: \\texttt{0.0}) Minimum operation of demandside unit as a fraction of peak demand\n",
       "\n",
       "\n",
       "\\item \\texttt{peak\\_demand\\_mw::Float64}: (default: \\texttt{0.0}) Peak demand value in MW\n",
       "\n",
       "\\end{itemize}\n"
      ],
      "text/markdown": [
       "```\n",
       "mutable struct DemandSideTechnology{T <: PSY.StaticInjection} <: DemandTechnology\n",
       "    price_per_unit::PSY.ValueCurve\n",
       "    available::Bool\n",
       "    name::String\n",
       "    shift_variable_cost::PSY.ValueCurve\n",
       "    curtailment_cost::PSY.ValueCurve\n",
       "    id::Int64\n",
       "    technology_efficiency::Float64\n",
       "    max_demand_advance::Float64\n",
       "    demand_energy_efficiency::Float64\n",
       "    max_demand_curtailment::Float64\n",
       "    max_demand_delay::Float64\n",
       "    power_systems_type::String\n",
       "    internal::InfrastructureSystemsInternal\n",
       "    ext::Dict\n",
       "    region::Vector{RegionTopology}\n",
       "    min_power::Float64\n",
       "    peak_demand_mw::Float64\n",
       "end\n",
       "```\n",
       "\n",
       "Represents demand side technologies such as electric vehicles or hydrogen electrolyzers.\n",
       "\n",
       "# Arguments\n",
       "\n",
       "  * `price_per_unit::PSY.ValueCurve`: (default: `LinearCurve(0.0)`) Price or value per unit of output. Ex: USD per ton of hydrogen for electrolyzers\n",
       "  * `available::Bool`: Indicator of whether the component is connected and online (`true`) or disconnected, offline, or down (`false`)\n",
       "  * `name::String`: The technology name\n",
       "  * `shift_variable_cost::PSY.ValueCurve`: (default: `LinearCurve(0.0)`) Variable operation and maintenance costs associated with flexible demand deferral/advancement\n",
       "  * `curtailment_cost::PSY.ValueCurve`: (default: `LinearCurve(0.0)`) Energy cost of curtailed demand, USD per Mwh\n",
       "  * `id::Int64`: ID for demand side technology\n",
       "  * `technology_efficiency::Float64`: (default: `0.0`) MWh of electricity per unit of output. Ex: MWh per ton of hydrogen for electrolyzers\n",
       "  * `max_demand_advance::Float64`: (default: `0.0`) Maximum number of hours that demand can be scheduled in advance of the original schedule (hours).\n",
       "  * `demand_energy_efficiency::Float64`: (default: `0.0`) Energy efficiency associated with time shifting demand. Represents energy losses due to time shifting\n",
       "  * `max_demand_curtailment::Float64`: (default: `0.0`) Maximum fraction of demand that can be curtailed\n",
       "  * `max_demand_delay::Float64`: (default: `0.0`) Maximum number of hours that demand can be deferred or delayed (hours).\n",
       "  * `power_systems_type::String`: maps to a valid PowerSystems.jl for PCM modeling\n",
       "  * `internal::InfrastructureSystemsInternal`: (default: `InfrastructureSystemsInternal()`) Internal field\n",
       "  * `ext::Dict`: (default: `Dict()`) Option for providing additional data\n",
       "  * `region::Vector{RegionTopology}`: (default: `Vector()`) Location where technology is operated\n",
       "  * `min_power::Float64`: (default: `0.0`) Minimum operation of demandside unit as a fraction of peak demand\n",
       "  * `peak_demand_mw::Float64`: (default: `0.0`) Peak demand value in MW\n"
      ],
      "text/plain": [
       "  \u001b[38;5;197mmutable\u001b[0m \u001b[0m\u001b[38;5;197mstruct\u001b[0m \u001b[0m\u001b[39mDemandSideTechnology\u001b[0m\u001b[39m{\u001b[0m\u001b[39mT\u001b[0m \u001b[0m\u001b[38;5;197m<:\u001b[0m \u001b[0m\u001b[39mPSY\u001b[0m\u001b[38;5;197m.\u001b[0m\u001b[39mStaticInjection\u001b[0m\u001b[39m}\u001b[0m \u001b[0m\u001b[38;5;197m<:\u001b[0m \u001b[0m\u001b[39mDemandTechnology\u001b[0m\n",
       "      \u001b[0m\u001b[39mprice_per_unit\u001b[0m\u001b[38;5;81m::\u001b[0m\u001b[38;5;81mPSY\u001b[0m\u001b[38;5;197m.\u001b[0m\u001b[39mValueCurve\u001b[0m\n",
       "      \u001b[0m\u001b[39mavailable\u001b[0m\u001b[38;5;81m::\u001b[0m\u001b[38;5;81mBool\u001b[0m\n",
       "      \u001b[0m\u001b[39mname\u001b[0m\u001b[38;5;81m::\u001b[0m\u001b[38;5;81mString\u001b[0m\n",
       "      \u001b[0m\u001b[39mshift_variable_cost\u001b[0m\u001b[38;5;81m::\u001b[0m\u001b[38;5;81mPSY\u001b[0m\u001b[38;5;197m.\u001b[0m\u001b[39mValueCurve\u001b[0m\n",
       "      \u001b[0m\u001b[39mcurtailment_cost\u001b[0m\u001b[38;5;81m::\u001b[0m\u001b[38;5;81mPSY\u001b[0m\u001b[38;5;197m.\u001b[0m\u001b[39mValueCurve\u001b[0m\n",
       "      \u001b[0m\u001b[39mid\u001b[0m\u001b[38;5;81m::\u001b[0m\u001b[38;5;81mInt64\u001b[0m\n",
       "      \u001b[0m\u001b[39mtechnology_efficiency\u001b[0m\u001b[38;5;81m::\u001b[0m\u001b[38;5;81mFloat64\u001b[0m\n",
       "      \u001b[0m\u001b[39mmax_demand_advance\u001b[0m\u001b[38;5;81m::\u001b[0m\u001b[38;5;81mFloat64\u001b[0m\n",
       "      \u001b[0m\u001b[39mdemand_energy_efficiency\u001b[0m\u001b[38;5;81m::\u001b[0m\u001b[38;5;81mFloat64\u001b[0m\n",
       "      \u001b[0m\u001b[39mmax_demand_curtailment\u001b[0m\u001b[38;5;81m::\u001b[0m\u001b[38;5;81mFloat64\u001b[0m\n",
       "      \u001b[0m\u001b[39mmax_demand_delay\u001b[0m\u001b[38;5;81m::\u001b[0m\u001b[38;5;81mFloat64\u001b[0m\n",
       "      \u001b[0m\u001b[39mpower_systems_type\u001b[0m\u001b[38;5;81m::\u001b[0m\u001b[38;5;81mString\u001b[0m\n",
       "      \u001b[0m\u001b[39minternal\u001b[0m\u001b[38;5;81m::\u001b[0m\u001b[38;5;81mInfrastructureSystemsInternal\u001b[0m\n",
       "      \u001b[0m\u001b[39mext\u001b[0m\u001b[38;5;81m::\u001b[0m\u001b[38;5;81mDict\u001b[0m\n",
       "      \u001b[0m\u001b[39mregion\u001b[0m\u001b[38;5;81m::\u001b[0m\u001b[38;5;81mVector\u001b[0m\u001b[39m{\u001b[0m\u001b[39mRegionTopology\u001b[0m\u001b[39m}\u001b[0m\n",
       "      \u001b[0m\u001b[39mmin_power\u001b[0m\u001b[38;5;81m::\u001b[0m\u001b[38;5;81mFloat64\u001b[0m\n",
       "      \u001b[0m\u001b[39mpeak_demand_mw\u001b[0m\u001b[38;5;81m::\u001b[0m\u001b[38;5;81mFloat64\u001b[0m\n",
       "  \u001b[0m\u001b[38;5;197mend\u001b[0m\n",
       "\n",
       "  Represents demand side technologies such as electric vehicles or hydrogen\n",
       "  electrolyzers.\n",
       "\n",
       "\u001b[1m  Arguments\u001b[22m\n",
       "\u001b[1m  ≡≡≡≡≡≡≡≡≡\u001b[22m\n",
       "\n",
       "    •  \u001b[36mprice_per_unit::PSY.ValueCurve\u001b[39m: (default: \u001b[36mLinearCurve(0.0)\u001b[39m) Price\n",
       "       or value per unit of output. Ex: USD per ton of hydrogen for\n",
       "       electrolyzers\n",
       "\n",
       "    •  \u001b[36mavailable::Bool\u001b[39m: Indicator of whether the component is connected\n",
       "       and online (\u001b[36mtrue\u001b[39m) or disconnected, offline, or down (\u001b[36mfalse\u001b[39m)\n",
       "\n",
       "    •  \u001b[36mname::String\u001b[39m: The technology name\n",
       "\n",
       "    •  \u001b[36mshift_variable_cost::PSY.ValueCurve\u001b[39m: (default: \u001b[36mLinearCurve(0.0)\u001b[39m)\n",
       "       Variable operation and maintenance costs associated with flexible\n",
       "       demand deferral/advancement\n",
       "\n",
       "    •  \u001b[36mcurtailment_cost::PSY.ValueCurve\u001b[39m: (default: \u001b[36mLinearCurve(0.0)\u001b[39m)\n",
       "       Energy cost of curtailed demand, USD per Mwh\n",
       "\n",
       "    •  \u001b[36mid::Int64\u001b[39m: ID for demand side technology\n",
       "\n",
       "    •  \u001b[36mtechnology_efficiency::Float64\u001b[39m: (default: \u001b[36m0.0\u001b[39m) MWh of electricity\n",
       "       per unit of output. Ex: MWh per ton of hydrogen for electrolyzers\n",
       "\n",
       "    •  \u001b[36mmax_demand_advance::Float64\u001b[39m: (default: \u001b[36m0.0\u001b[39m) Maximum number of\n",
       "       hours that demand can be scheduled in advance of the original\n",
       "       schedule (hours).\n",
       "\n",
       "    •  \u001b[36mdemand_energy_efficiency::Float64\u001b[39m: (default: \u001b[36m0.0\u001b[39m) Energy\n",
       "       efficiency associated with time shifting demand. Represents energy\n",
       "       losses due to time shifting\n",
       "\n",
       "    •  \u001b[36mmax_demand_curtailment::Float64\u001b[39m: (default: \u001b[36m0.0\u001b[39m) Maximum fraction\n",
       "       of demand that can be curtailed\n",
       "\n",
       "    •  \u001b[36mmax_demand_delay::Float64\u001b[39m: (default: \u001b[36m0.0\u001b[39m) Maximum number of hours\n",
       "       that demand can be deferred or delayed (hours).\n",
       "\n",
       "    •  \u001b[36mpower_systems_type::String\u001b[39m: maps to a valid PowerSystems.jl for\n",
       "       PCM modeling\n",
       "\n",
       "    •  \u001b[36minternal::InfrastructureSystemsInternal\u001b[39m: (default:\n",
       "       \u001b[36mInfrastructureSystemsInternal()\u001b[39m) Internal field\n",
       "\n",
       "    •  \u001b[36mext::Dict\u001b[39m: (default: \u001b[36mDict()\u001b[39m) Option for providing additional data\n",
       "\n",
       "    •  \u001b[36mregion::Vector{RegionTopology}\u001b[39m: (default: \u001b[36mVector()\u001b[39m) Location where\n",
       "       technology is operated\n",
       "\n",
       "    •  \u001b[36mmin_power::Float64\u001b[39m: (default: \u001b[36m0.0\u001b[39m) Minimum operation of demandside\n",
       "       unit as a fraction of peak demand\n",
       "\n",
       "    •  \u001b[36mpeak_demand_mw::Float64\u001b[39m: (default: \u001b[36m0.0\u001b[39m) Peak demand value in MW"
      ]
     },
     "execution_count": 88,
     "metadata": {},
     "output_type": "execute_result"
    }
   ],
   "source": [
    "?DemandSideTechnology"
   ]
  },
  {
   "cell_type": "code",
   "execution_count": 89,
   "id": "7991d594",
   "metadata": {},
   "outputs": [
    {
     "name": "stdout",
     "output_type": "stream",
     "text": [
      "search: \u001b[0m\u001b[1mD\u001b[22m\u001b[0m\u001b[1me\u001b[22m\u001b[0m\u001b[1mm\u001b[22m\u001b[0m\u001b[1ma\u001b[22m\u001b[0m\u001b[1mn\u001b[22m\u001b[0m\u001b[1md\u001b[22m\u001b[0m\u001b[1mT\u001b[22m\u001b[0m\u001b[1me\u001b[22m\u001b[0m\u001b[1mc\u001b[22m\u001b[0m\u001b[1mh\u001b[22m\u001b[0m\u001b[1mn\u001b[22m\u001b[0m\u001b[1mo\u001b[22m\u001b[0m\u001b[1ml\u001b[22m\u001b[0m\u001b[1mo\u001b[22m\u001b[0m\u001b[1mg\u001b[22m\u001b[0m\u001b[1my\u001b[22m \u001b[0m\u001b[1mD\u001b[22m\u001b[0m\u001b[1me\u001b[22m\u001b[0m\u001b[1mm\u001b[22m\u001b[0m\u001b[1ma\u001b[22m\u001b[0m\u001b[1mn\u001b[22m\u001b[0m\u001b[1md\u001b[22mSide\u001b[0m\u001b[1mT\u001b[22m\u001b[0m\u001b[1me\u001b[22m\u001b[0m\u001b[1mc\u001b[22m\u001b[0m\u001b[1mh\u001b[22m\u001b[0m\u001b[1mn\u001b[22m\u001b[0m\u001b[1mo\u001b[22m\u001b[0m\u001b[1ml\u001b[22m\u001b[0m\u001b[1mo\u001b[22m\u001b[0m\u001b[1mg\u001b[22m\u001b[0m\u001b[1my\u001b[22m StorageTechnology Technology\n",
      "\n"
     ]
    },
    {
     "data": {
      "text/latex": [
       "No documentation found for public symbol.\n",
       "\n",
       "\\section{Summary}\n",
       "\\begin{verbatim}\n",
       "abstract type DemandTechnology\n",
       "\\end{verbatim}\n",
       "\\section{Subtypes}\n",
       "\\begin{verbatim}\n",
       "DemandRequirement{T<:StaticInjection}\n",
       "DemandSideTechnology{T<:StaticInjection}\n",
       "\\end{verbatim}\n",
       "\\section{Supertype Hierarchy}\n",
       "\\begin{verbatim}\n",
       "DemandTechnology <: Technology <: InfrastructureSystems.InfrastructureSystemsComponent <: InfrastructureSystems.InfrastructureSystemsType <: Any\n",
       "\\end{verbatim}\n"
      ],
      "text/markdown": [
       "No documentation found for public symbol.\n",
       "\n",
       "# Summary\n",
       "\n",
       "```\n",
       "abstract type DemandTechnology\n",
       "```\n",
       "\n",
       "# Subtypes\n",
       "\n",
       "```\n",
       "DemandRequirement{T<:StaticInjection}\n",
       "DemandSideTechnology{T<:StaticInjection}\n",
       "```\n",
       "\n",
       "# Supertype Hierarchy\n",
       "\n",
       "```\n",
       "DemandTechnology <: Technology <: InfrastructureSystems.InfrastructureSystemsComponent <: InfrastructureSystems.InfrastructureSystemsType <: Any\n",
       "```\n"
      ],
      "text/plain": [
       "  No documentation found for public symbol.\n",
       "\n",
       "\u001b[1m  Summary\u001b[22m\n",
       "\u001b[1m  ≡≡≡≡≡≡≡\u001b[22m\n",
       "\n",
       "  \u001b[38;5;197mabstract\u001b[0m \u001b[0m\u001b[38;5;197mtype\u001b[0m \u001b[0m\u001b[39mDemandTechnology\u001b[0m\n",
       "\n",
       "\u001b[1m  Subtypes\u001b[22m\n",
       "\u001b[1m  ≡≡≡≡≡≡≡≡\u001b[22m\n",
       "\n",
       "  \u001b[39mDemandRequirement\u001b[0m\u001b[39m{\u001b[0m\u001b[39mT\u001b[0m\u001b[38;5;197m<:\u001b[0m\u001b[39mStaticInjection\u001b[0m\u001b[39m}\u001b[0m\n",
       "  \u001b[0m\u001b[39mDemandSideTechnology\u001b[0m\u001b[39m{\u001b[0m\u001b[39mT\u001b[0m\u001b[38;5;197m<:\u001b[0m\u001b[39mStaticInjection\u001b[0m\u001b[39m}\u001b[0m\n",
       "\n",
       "\u001b[1m  Supertype Hierarchy\u001b[22m\n",
       "\u001b[1m  ≡≡≡≡≡≡≡≡≡≡≡≡≡≡≡≡≡≡≡\u001b[22m\n",
       "\n",
       "  \u001b[39mDemandTechnology\u001b[0m \u001b[0m\u001b[38;5;197m<:\u001b[0m \u001b[0m\u001b[39mTechnology\u001b[0m \u001b[0m\u001b[38;5;197m<:\u001b[0m \u001b[0m\u001b[39mInfrastructureSystems\u001b[0m\u001b[38;5;197m.\u001b[0m\u001b[39mInfrastructureSystemsComponent\u001b[0m \u001b[0m\u001b[38;5;197m<:\u001b[0m \u001b[0m\u001b[39mInfrastructureSystems\u001b[0m\u001b[38;5;197m.\u001b[0m\u001b[39mInfrastructureSystemsType\u001b[0m \u001b[0m\u001b[38;5;197m<:\u001b[0m \u001b[0m\u001b[39mAny\u001b[0m"
      ]
     },
     "execution_count": 89,
     "metadata": {},
     "output_type": "execute_result"
    }
   ],
   "source": [
    "?DemandTechnology"
   ]
  },
  {
   "cell_type": "code",
   "execution_count": null,
   "id": "daebece7",
   "metadata": {},
   "outputs": [],
   "source": []
  }
 ],
 "metadata": {
  "kernelspec": {
   "display_name": "Julia 1.11.6",
   "language": "julia",
   "name": "julia-1.11"
  },
  "language_info": {
   "file_extension": ".jl",
   "mimetype": "application/julia",
   "name": "julia",
   "version": "1.11.6"
  }
 },
 "nbformat": 4,
 "nbformat_minor": 5
}
