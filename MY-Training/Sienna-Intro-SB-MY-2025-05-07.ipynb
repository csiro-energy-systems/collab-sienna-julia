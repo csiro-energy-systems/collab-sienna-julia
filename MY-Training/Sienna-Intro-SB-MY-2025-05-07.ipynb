{
 "cells": [
  {
   "cell_type": "code",
   "execution_count": 1,
   "id": "307e8a2f",
   "metadata": {
    "slideshow": {
     "slide_type": "skip"
    }
   },
   "outputs": [
    {
     "name": "stderr",
     "output_type": "stream",
     "text": [
      "\u001b[32m\u001b[1m  Activating\u001b[22m\u001b[39m project at `~/Documents/Projects/DFAT-P4I-NextGenESP/Training-Materials/MY-Training`\n",
      "\u001b[32m\u001b[1m  No Changes\u001b[22m\u001b[39m to `~/Documents/Projects/DFAT-P4I-NextGenESP/Training-Materials/MY-Training/Project.toml`\n",
      "\u001b[32m\u001b[1m  No Changes\u001b[22m\u001b[39m to `~/Documents/Projects/DFAT-P4I-NextGenESP/Training-Materials/MY-Training/Manifest.toml`\n"
     ]
    }
   ],
   "source": [
    "using Pkg\n",
    "Pkg.activate(\".\")\n",
    "Pkg.resolve()\n",
    "Pkg.instantiate()"
   ]
  },
  {
   "cell_type": "code",
   "execution_count": 2,
   "id": "9a4ef413",
   "metadata": {
    "slideshow": {
     "slide_type": "skip"
    }
   },
   "outputs": [
    {
     "name": "stdout",
     "output_type": "stream",
     "text": [
      "\u001b[32m\u001b[1mStatus\u001b[22m\u001b[39m `~/Documents/Projects/DFAT-P4I-NextGenESP/Training-Materials/MY-Training/Project.toml`\n",
      "  \u001b[90m[e690365d] \u001b[39mPowerSimulations v0.30.1\n",
      "  \u001b[90m[bcd98974] \u001b[39mPowerSystems v4.6.2\n"
     ]
    }
   ],
   "source": [
    "Pkg.status()"
   ]
  },
  {
   "cell_type": "markdown",
   "id": "d8ce432c",
   "metadata": {
    "slideshow": {
     "slide_type": "slide"
    }
   },
   "source": [
    "# Intro to Power System Modelling in Julia with NREL's Sienna tools\n",
    "\n",
    "### CSIRO Energy Systems\n",
    "### 7th May 2025\n",
    "\n",
    "\n",
    "#### Credit: Slides thanks to José Daniel Lara, Clayton Barrows, Kate Doubleday, Robin Deits\n",
    "\n"
   ]
  },
  {
   "cell_type": "markdown",
   "id": "471e6a4f",
   "metadata": {
    "slideshow": {
     "slide_type": "slide"
    }
   },
   "source": [
    "# Overview\n",
    "\n",
    "* What is Julia?\n",
    "* Tour of Julia\n",
    "  * Functions, types, multiple dispatch\n",
    "* Julia is fast! \n",
    "  * Benchmarking Julia vs. C and Python\n",
    "* Bonus Features of Julia\n",
    "  * Async tasks, multiprocessing, and metaprogramming\n",
    "* What's hard to do in Julia?\n",
    "* Essential Julia packages and tools"
   ]
  },
  {
   "cell_type": "markdown",
   "id": "20d2c76c",
   "metadata": {
    "slideshow": {
     "slide_type": "slide"
    }
   },
   "source": [
    "# What is Julia\n",
    "\n",
    "<https://docs.julialang.org/en/v1/>\n",
    "\n",
    "* Julia is a high-level language like Python with the performance of a fast language like C\n",
    "* Julia is a great choice for scientific computing, with:\n",
    "  * Excellent performance\n",
    "  * N-dimensional arrays\n",
    "  * Parallel and distributed computing\n",
    "* And it's also a nice environment for general purpose programming, with:\n",
    "  * An active ecosystem of packages and good tools for managing them\n",
    "  * A rich type system\n",
    "  * Iterators, asynchronous tasks, and coroutines\n"
   ]
  },
  {
   "cell_type": "markdown",
   "id": "3a419069",
   "metadata": {
    "slideshow": {
     "slide_type": "subslide"
    }
   },
   "source": [
    "# Julia at a Glance\n",
    "\n",
    "* First public release in 2012, version 1.0 released in 2018\n",
    "* Free\n",
    "    * Julia itself is BSD licensed\n",
    "    * It bundles some GPLed libraries (which can be disabled if desired)\n",
    "* Built-in JIT compiler transforms Julia code to native assembly at run time\n",
    "  * Uses LLVM under the hood\n",
    "* Garbage collected\n",
    "* Dynamically typed\n",
    "* Organized via multiple dispatch"
   ]
  },
  {
   "cell_type": "markdown",
   "id": "48c22fb6",
   "metadata": {
    "slideshow": {
     "slide_type": "slide"
    }
   },
   "source": [
    "# A Tour of Julia"
   ]
  },
  {
   "cell_type": "markdown",
   "id": "fb536666",
   "metadata": {
    "slideshow": {
     "slide_type": "subslide"
    }
   },
   "source": [
    "##  The Basics"
   ]
  },
  {
   "cell_type": "markdown",
   "id": "b04050c2",
   "metadata": {
    "slideshow": {
     "slide_type": "fragment"
    }
   },
   "source": [
    "Arithmetic:"
   ]
  },
  {
   "cell_type": "code",
   "execution_count": 3,
   "id": "7d2cf947",
   "metadata": {
    "slideshow": {
     "slide_type": "-"
    }
   },
   "outputs": [
    {
     "data": {
      "text/plain": [
       "6"
      ]
     },
     "execution_count": 3,
     "metadata": {},
     "output_type": "execute_result"
    }
   ],
   "source": [
    "2 + 4"
   ]
  },
  {
   "cell_type": "markdown",
   "id": "6be01e17",
   "metadata": {
    "slideshow": {
     "slide_type": "fragment"
    }
   },
   "source": [
    "Strings:"
   ]
  },
  {
   "cell_type": "code",
   "execution_count": 4,
   "id": "9e64ab75",
   "metadata": {
    "slideshow": {
     "slide_type": "-"
    }
   },
   "outputs": [
    {
     "name": "stdout",
     "output_type": "stream",
     "text": [
      "hello friends from all over the world\n"
     ]
    }
   ],
   "source": [
    "# Strings\n",
    "println(\"hello friends from all over the world\")"
   ]
  },
  {
   "cell_type": "markdown",
   "id": "d3400205",
   "metadata": {
    "slideshow": {
     "slide_type": "subslide"
    }
   },
   "source": [
    "Arrays:"
   ]
  },
  {
   "cell_type": "code",
   "execution_count": 49,
   "id": "0638e64e",
   "metadata": {
    "slideshow": {
     "slide_type": "-"
    }
   },
   "outputs": [
    {
     "data": {
      "text/plain": [
       "4-element Vector{Int64}:\n",
       " 1\n",
       " 2\n",
       " 3\n",
       " 4"
      ]
     },
     "execution_count": 49,
     "metadata": {},
     "output_type": "execute_result"
    }
   ],
   "source": [
    "x = collect(1:4) # [1, 2, 3, 4]"
   ]
  },
  {
   "cell_type": "markdown",
   "id": "ca3ed3bc",
   "metadata": {
    "slideshow": {
     "slide_type": "subslide"
    }
   },
   "source": [
    "## Functions"
   ]
  },
  {
   "cell_type": "code",
   "execution_count": 6,
   "id": "0aca07f9",
   "metadata": {},
   "outputs": [
    {
     "data": {
      "text/plain": [
       "say_hello (generic function with 1 method)"
      ]
     },
     "execution_count": 6,
     "metadata": {},
     "output_type": "execute_result"
    }
   ],
   "source": [
    "function say_hello(name)\n",
    "    println(\"hello \", name)\n",
    "end"
   ]
  },
  {
   "cell_type": "code",
   "execution_count": 7,
   "id": "d73ddef4",
   "metadata": {
    "slideshow": {
     "slide_type": "fragment"
    }
   },
   "outputs": [
    {
     "name": "stdout",
     "output_type": "stream",
     "text": [
      "hello world\n"
     ]
    }
   ],
   "source": [
    "say_hello(\"world\")"
   ]
  },
  {
   "cell_type": "markdown",
   "id": "06270512",
   "metadata": {
    "slideshow": {
     "slide_type": "fragment"
    }
   },
   "source": [
    "By default, a function is generic, so you can pass in any type you want:"
   ]
  },
  {
   "cell_type": "code",
   "execution_count": 8,
   "id": "89f05d55",
   "metadata": {},
   "outputs": [
    {
     "name": "stdout",
     "output_type": "stream",
     "text": [
      "hello [1, 2, 3]\n"
     ]
    }
   ],
   "source": [
    "say_hello([1, 2, 3])"
   ]
  },
  {
   "cell_type": "markdown",
   "id": "3b864017",
   "metadata": {
    "slideshow": {
     "slide_type": "subslide"
    }
   },
   "source": [
    "## Types\n",
    "\n",
    "Every value in Julia has a type:"
   ]
  },
  {
   "cell_type": "code",
   "execution_count": 9,
   "id": "a0b0f0ee",
   "metadata": {},
   "outputs": [
    {
     "data": {
      "text/plain": [
       "Float64"
      ]
     },
     "execution_count": 9,
     "metadata": {},
     "output_type": "execute_result"
    }
   ],
   "source": [
    "typeof(1.0)"
   ]
  },
  {
   "cell_type": "code",
   "execution_count": 10,
   "id": "18ca35c9",
   "metadata": {
    "slideshow": {
     "slide_type": "fragment"
    }
   },
   "outputs": [
    {
     "data": {
      "text/plain": [
       "Int64"
      ]
     },
     "execution_count": 10,
     "metadata": {},
     "output_type": "execute_result"
    }
   ],
   "source": [
    "typeof(1)"
   ]
  },
  {
   "cell_type": "code",
   "execution_count": 11,
   "id": "517e5697",
   "metadata": {
    "slideshow": {
     "slide_type": "fragment"
    }
   },
   "outputs": [
    {
     "data": {
      "text/plain": [
       "Irrational{:π}"
      ]
     },
     "execution_count": 11,
     "metadata": {},
     "output_type": "execute_result"
    }
   ],
   "source": [
    "typeof(π)"
   ]
  },
  {
   "cell_type": "code",
   "execution_count": 12,
   "id": "bfa8941d",
   "metadata": {
    "slideshow": {
     "slide_type": "fragment"
    }
   },
   "outputs": [
    {
     "data": {
      "text/plain": [
       "Vector{Int64}\u001b[90m (alias for \u001b[39m\u001b[90mArray{Int64, 1}\u001b[39m\u001b[90m)\u001b[39m"
      ]
     },
     "execution_count": 12,
     "metadata": {},
     "output_type": "execute_result"
    }
   ],
   "source": [
    "typeof([1, 2, 3])"
   ]
  },
  {
   "cell_type": "markdown",
   "id": "8cf92c8f",
   "metadata": {
    "slideshow": {
     "slide_type": "subslide"
    }
   },
   "source": [
    "You can create your own types to organize your data:"
   ]
  },
  {
   "cell_type": "code",
   "execution_count": 13,
   "id": "cbf0e8b7",
   "metadata": {},
   "outputs": [
    {
     "data": {
      "text/plain": [
       "Person(\"Alice\")"
      ]
     },
     "execution_count": 13,
     "metadata": {},
     "output_type": "execute_result"
    }
   ],
   "source": [
    "struct Person\n",
    "  name::String\n",
    "end\n",
    "\n",
    "alice = Person(\"Alice\")"
   ]
  },
  {
   "cell_type": "markdown",
   "id": "d94bb718",
   "metadata": {
    "slideshow": {
     "slide_type": "fragment"
    }
   },
   "source": [
    "Julia's types are extremely lightweight, and user-defined types are *exactly* as performant as anything built-in:"
   ]
  },
  {
   "cell_type": "code",
   "execution_count": 14,
   "id": "828378d3",
   "metadata": {},
   "outputs": [
    {
     "data": {
      "text/plain": [
       "true"
      ]
     },
     "execution_count": 14,
     "metadata": {},
     "output_type": "execute_result"
    }
   ],
   "source": [
    "sizeof(Person) == sizeof(Ptr{String})"
   ]
  },
  {
   "cell_type": "markdown",
   "id": "d691004b",
   "metadata": {
    "slideshow": {
     "slide_type": "slide"
    }
   },
   "source": [
    "## Welcome to PowerSystems.jl\n",
    "\n",
    "We will create a power system and add some components to it, including some nodes, a transmission line, load, and both renewable and fossil fuel generators. Then we will retrieve data from the system and explore the system settings.\n",
    "\n",
    "### Setup\n",
    "We start by loading the PowerSystems.jl package:"
   ]
  },
  {
   "cell_type": "code",
   "execution_count": 15,
   "id": "5b1ff706",
   "metadata": {
    "slideshow": {
     "slide_type": "fragment"
    }
   },
   "outputs": [],
   "source": [
    "using PowerSystems"
   ]
  },
  {
   "cell_type": "markdown",
   "id": "d7b11fb3",
   "metadata": {
    "slideshow": {
     "slide_type": "slide"
    }
   },
   "source": [
    "## Creating a Power `System`\n",
    "\n",
    "In PowerSystems.jl, data is held in a `System` data object that holds all of the individual components used in the power system model, along with some metadata about the whole power system itself.\n",
    "\n",
    "There are many ways to define a `System`, but let's start with an empty system."
   ]
  },
  {
   "cell_type": "markdown",
   "id": "e7960475",
   "metadata": {
    "slideshow": {
     "slide_type": "fragment"
    }
   },
   "source": [
    "The only value we need to define the system is a _base power value for per-unit values_: we will use the value of 100 MVA."
   ]
  },
  {
   "cell_type": "code",
   "execution_count": 16,
   "id": "e98dac52",
   "metadata": {
    "slideshow": {
     "slide_type": "fragment"
    }
   },
   "outputs": [
    {
     "data": {
      "text/html": [
       "<table>\n",
       "  <caption style = \"text-align: left;\">System</caption>\n",
       "  <thead>\n",
       "    <tr class = \"header headerLastRow\">\n",
       "      <th style = \"text-align: left;\">Property</th>\n",
       "      <th style = \"text-align: left;\">Value</th>\n",
       "    </tr>\n",
       "  </thead>\n",
       "  <tbody>\n",
       "    <tr>\n",
       "      <td style = \"text-align: left;\">Name</td>\n",
       "      <td style = \"text-align: left;\"></td>\n",
       "    </tr>\n",
       "    <tr>\n",
       "      <td style = \"text-align: left;\">Description</td>\n",
       "      <td style = \"text-align: left;\"></td>\n",
       "    </tr>\n",
       "    <tr>\n",
       "      <td style = \"text-align: left;\">System Units Base</td>\n",
       "      <td style = \"text-align: left;\">SYSTEM_BASE</td>\n",
       "    </tr>\n",
       "    <tr>\n",
       "      <td style = \"text-align: left;\">Base Power</td>\n",
       "      <td style = \"text-align: left;\">100.0</td>\n",
       "    </tr>\n",
       "    <tr>\n",
       "      <td style = \"text-align: left;\">Base Frequency</td>\n",
       "      <td style = \"text-align: left;\">60.0</td>\n",
       "    </tr>\n",
       "    <tr>\n",
       "      <td style = \"text-align: left;\">Num Components</td>\n",
       "      <td style = \"text-align: left;\">0</td>\n",
       "    </tr>\n",
       "  </tbody>\n",
       "</table>\n",
       "\n"
      ],
      "text/plain": [
       "\u001b[1mSystem\u001b[0m\n",
       "┌───────────────────┬─────────────┐\n",
       "│\u001b[1m Property          \u001b[0m│\u001b[1m Value       \u001b[0m│\n",
       "├───────────────────┼─────────────┤\n",
       "│ Name              │             │\n",
       "│ Description       │             │\n",
       "│ System Units Base │ SYSTEM_BASE │\n",
       "│ Base Power        │ 100.0       │\n",
       "│ Base Frequency    │ 60.0        │\n",
       "│ Num Components    │ 0           │\n",
       "└───────────────────┴─────────────┘\n",
       "\n"
      ]
     },
     "execution_count": 16,
     "metadata": {},
     "output_type": "execute_result"
    }
   ],
   "source": [
    "sys = System(100.0)"
   ]
  },
  {
   "cell_type": "markdown",
   "id": "3175bc17",
   "metadata": {
    "slideshow": {
     "slide_type": "subslide"
    }
   },
   "source": [
    "Notice that this system is a 60 Hz system with a base power of 100 MVA."
   ]
  },
  {
   "cell_type": "code",
   "execution_count": 17,
   "id": "04a1e31b",
   "metadata": {
    "slideshow": {
     "slide_type": "fragment"
    }
   },
   "outputs": [
    {
     "data": {
      "text/plain": [
       "60.0"
      ]
     },
     "execution_count": 17,
     "metadata": {},
     "output_type": "execute_result"
    }
   ],
   "source": [
    "get_frequency(sys)"
   ]
  },
  {
   "cell_type": "code",
   "execution_count": 18,
   "id": "e7089f48",
   "metadata": {},
   "outputs": [
    {
     "ename": "LoadError",
     "evalue": "MethodError: no method matching set_frequency!(::Int64, ::System)\nThe function `set_frequency!` exists, but no method is defined for this combination of argument types.\n\n\u001b[0mClosest candidates are:\n\u001b[0m  set_frequency!(\u001b[91m::FixedFrequency\u001b[39m, ::Any)\n\u001b[0m\u001b[90m   @\u001b[39m \u001b[35mPowerSystems\u001b[39m \u001b[90m~/.julia/packages/PowerSystems/AHyDB/src/models/generated/\u001b[39m\u001b[90m\u001b[4mFixedFrequency.jl:57\u001b[24m\u001b[39m\n",
     "output_type": "error",
     "traceback": [
      "MethodError: no method matching set_frequency!(::Int64, ::System)\nThe function `set_frequency!` exists, but no method is defined for this combination of argument types.\n\n\u001b[0mClosest candidates are:\n\u001b[0m  set_frequency!(\u001b[91m::FixedFrequency\u001b[39m, ::Any)\n\u001b[0m\u001b[90m   @\u001b[39m \u001b[35mPowerSystems\u001b[39m \u001b[90m~/.julia/packages/PowerSystems/AHyDB/src/models/generated/\u001b[39m\u001b[90m\u001b[4mFixedFrequency.jl:57\u001b[24m\u001b[39m\n",
      "",
      "Stacktrace:",
      " [1] top-level scope",
      "   @ In[18]:1"
     ]
    }
   ],
   "source": [
    "set_frequency!(50, sys)"
   ]
  },
  {
   "cell_type": "markdown",
   "id": "23fe7f19",
   "metadata": {
    "slideshow": {
     "slide_type": "fragment"
    }
   },
   "source": [
    "Notice that this system is a 60 Hz system with a base power of 100 MVA."
   ]
  },
  {
   "cell_type": "markdown",
   "id": "0381f8f1",
   "metadata": {
    "slideshow": {
     "slide_type": "subslide"
    }
   },
   "source": [
    "Now, let's add some components to our system.\n",
    "\n",
    "## Adding Buses\n",
    "\n",
    "We'll start by creating some buses (i.e. nodes in our network). \n",
    "\n",
    "By referring to the documentation for `ACBus`, notice that we need to define some basic data, including the bus's\n",
    "unique identifier and name, base voltage, and whether it's a _load_, _generator_, or _reference_ bus.\n",
    "\n",
    "Let's start with a *reference* bus:"
   ]
  },
  {
   "cell_type": "code",
   "execution_count": 19,
   "id": "0904f395",
   "metadata": {
    "slideshow": {
     "slide_type": "fragment"
    }
   },
   "outputs": [],
   "source": [
    "bus1 = ACBus(;\n",
    "    number = 1,\n",
    "    name = \"bus1\",\n",
    "    bustype = ACBusTypes.REF,\n",
    "    angle = 0.0,\n",
    "    magnitude = 1.0,\n",
    "    voltage_limits = (min = 0.9, max = 1.05),\n",
    "    base_voltage = 230.0,\n",
    ");"
   ]
  },
  {
   "cell_type": "code",
   "execution_count": 20,
   "id": "7f140145",
   "metadata": {
    "slideshow": {
     "slide_type": "subslide"
    }
   },
   "outputs": [
    {
     "data": {
      "text/plain": [
       "\n",
       "ACBus: bus1:\n",
       "   number: 1\n",
       "   name: bus1\n",
       "   bustype: ACBusTypes.REF = 3\n",
       "   angle: 0.0\n",
       "   magnitude: 1.0\n",
       "   voltage_limits: (min = 0.9, max = 1.05)\n",
       "   base_voltage: 230.0\n",
       "   area: nothing\n",
       "   load_zone: nothing\n",
       "   ext: Dict{String, Any}()\n",
       "   internal: InfrastructureSystems.InfrastructureSystemsInternal\n",
       "   has_supplemental_attributes: false\n",
       "   has_time_series: false"
      ]
     },
     "execution_count": 20,
     "metadata": {},
     "output_type": "execute_result"
    },
    {
     "name": "stderr",
     "output_type": "stream",
     "text": [
      "\u001b[33m\u001b[1m┌ \u001b[22m\u001b[39m\u001b[33m\u001b[1mWarning: \u001b[22m\u001b[39mSystemUnitSetting not defined, using NATURAL_UNITS for displaying device specification.\n",
      "\u001b[33m\u001b[1m└ \u001b[22m\u001b[39m\u001b[90m@ PowerSystems ~/.julia/packages/PowerSystems/AHyDB/src/utils/print.jl:194\u001b[39m\n"
     ]
    }
   ],
   "source": [
    "bus1"
   ]
  },
  {
   "cell_type": "markdown",
   "id": "cf88521a",
   "metadata": {
    "slideshow": {
     "slide_type": "fragment"
    }
   },
   "source": [
    "This bus is on a 230 kV AC transmission network, with an allowable voltage range of\n",
    "0.9 to 1.05 p.u. We are assuming it is currently operating at 1.0 p.u. voltage and\n",
    "an angle of 0 radians.\n",
    "\n",
    "Let's add this bus to our `System` with `add_component!`:"
   ]
  },
  {
   "cell_type": "code",
   "execution_count": 21,
   "id": "38b23253",
   "metadata": {
    "slideshow": {
     "slide_type": "fragment"
    }
   },
   "outputs": [],
   "source": [
    "add_component!(sys, bus1)"
   ]
  },
  {
   "cell_type": "markdown",
   "id": "d3bfc211",
   "metadata": {
    "slideshow": {
     "slide_type": "subslide"
    }
   },
   "source": [
    "We can see the impact this has on the `System` simply by printing it:"
   ]
  },
  {
   "cell_type": "code",
   "execution_count": 22,
   "id": "3f4247e8",
   "metadata": {
    "slideshow": {
     "slide_type": "fragment"
    }
   },
   "outputs": [
    {
     "data": {
      "text/html": [
       "<table>\n",
       "  <caption style = \"text-align: left;\">System</caption>\n",
       "  <thead>\n",
       "    <tr class = \"header headerLastRow\">\n",
       "      <th style = \"text-align: left;\">Property</th>\n",
       "      <th style = \"text-align: left;\">Value</th>\n",
       "    </tr>\n",
       "  </thead>\n",
       "  <tbody>\n",
       "    <tr>\n",
       "      <td style = \"text-align: left;\">Name</td>\n",
       "      <td style = \"text-align: left;\"></td>\n",
       "    </tr>\n",
       "    <tr>\n",
       "      <td style = \"text-align: left;\">Description</td>\n",
       "      <td style = \"text-align: left;\"></td>\n",
       "    </tr>\n",
       "    <tr>\n",
       "      <td style = \"text-align: left;\">System Units Base</td>\n",
       "      <td style = \"text-align: left;\">SYSTEM_BASE</td>\n",
       "    </tr>\n",
       "    <tr>\n",
       "      <td style = \"text-align: left;\">Base Power</td>\n",
       "      <td style = \"text-align: left;\">100.0</td>\n",
       "    </tr>\n",
       "    <tr>\n",
       "      <td style = \"text-align: left;\">Base Frequency</td>\n",
       "      <td style = \"text-align: left;\">60.0</td>\n",
       "    </tr>\n",
       "    <tr>\n",
       "      <td style = \"text-align: left;\">Num Components</td>\n",
       "      <td style = \"text-align: left;\">1</td>\n",
       "    </tr>\n",
       "  </tbody>\n",
       "</table>\n",
       "\n",
       "<table>\n",
       "  <caption style = \"text-align: left;\">Static Components</caption>\n",
       "  <thead>\n",
       "    <tr class = \"header headerLastRow\">\n",
       "      <th style = \"text-align: left;\">Type</th>\n",
       "      <th style = \"text-align: left;\">Count</th>\n",
       "    </tr>\n",
       "  </thead>\n",
       "  <tbody>\n",
       "    <tr>\n",
       "      <td style = \"text-align: left;\">ACBus</td>\n",
       "      <td style = \"text-align: left;\">1</td>\n",
       "    </tr>\n",
       "  </tbody>\n",
       "</table>\n",
       "\n"
      ],
      "text/plain": [
       "\u001b[1mSystem\u001b[0m\n",
       "┌───────────────────┬─────────────┐\n",
       "│\u001b[1m Property          \u001b[0m│\u001b[1m Value       \u001b[0m│\n",
       "├───────────────────┼─────────────┤\n",
       "│ Name              │             │\n",
       "│ Description       │             │\n",
       "│ System Units Base │ SYSTEM_BASE │\n",
       "│ Base Power        │ 100.0       │\n",
       "│ Base Frequency    │ 60.0        │\n",
       "│ Num Components    │ 1           │\n",
       "└───────────────────┴─────────────┘\n",
       "\n",
       "\u001b[1mStatic Components\u001b[0m\n",
       "┌───────┬───────┐\n",
       "│\u001b[1m Type  \u001b[0m│\u001b[1m Count \u001b[0m│\n",
       "├───────┼───────┤\n",
       "│ ACBus │ 1     │\n",
       "└───────┴───────┘\n",
       "\n"
      ]
     },
     "execution_count": 22,
     "metadata": {},
     "output_type": "execute_result"
    }
   ],
   "source": [
    "sys"
   ]
  },
  {
   "cell_type": "markdown",
   "id": "246865f8",
   "metadata": {
    "slideshow": {
     "slide_type": "fragment"
    }
   },
   "source": [
    "Notice that `System` now shows a summary of components in the system."
   ]
  },
  {
   "cell_type": "markdown",
   "id": "b4310dec",
   "metadata": {
    "slideshow": {
     "slide_type": "subslide"
    }
   },
   "source": [
    "Let's create a second bus:"
   ]
  },
  {
   "cell_type": "code",
   "execution_count": 23,
   "id": "02b1b1a5",
   "metadata": {
    "slideshow": {
     "slide_type": "fragment"
    }
   },
   "outputs": [],
   "source": [
    "bus2 = ACBus(;\n",
    "    number = 2,\n",
    "    name = \"bus2\",\n",
    "    bustype = ACBusTypes.PV,\n",
    "    angle = 0.0,\n",
    "    magnitude = 1.0,\n",
    "    voltage_limits = (min = 0.9, max = 1.05),\n",
    "    base_voltage = 230.0,\n",
    ");"
   ]
  },
  {
   "cell_type": "markdown",
   "id": "0fe41ceb",
   "metadata": {
    "slideshow": {
     "slide_type": "fragment"
    }
   },
   "source": [
    "Notice that we've defined this bus with power and voltage variables,\n",
    "suitable for power flow studies.\n",
    "\n",
    "Let's also add this to our `System`:"
   ]
  },
  {
   "cell_type": "code",
   "execution_count": 24,
   "id": "c02dc87d",
   "metadata": {
    "slideshow": {
     "slide_type": "fragment"
    }
   },
   "outputs": [],
   "source": [
    "add_component!(sys, bus2)"
   ]
  },
  {
   "cell_type": "markdown",
   "id": "0028e358",
   "metadata": {
    "slideshow": {
     "slide_type": "subslide"
    }
   },
   "source": [
    "Now, let's use `show_components` to quickly see some basic information about the buses:"
   ]
  },
  {
   "cell_type": "code",
   "execution_count": 25,
   "id": "c2204ec8",
   "metadata": {
    "slideshow": {
     "slide_type": "fragment"
    }
   },
   "outputs": [
    {
     "name": "stdout",
     "output_type": "stream",
     "text": [
      "\u001b[1mACBus\u001b[0m\n",
      "┌──────┐\n",
      "│\u001b[1m name \u001b[0m│\n",
      "├──────┤\n",
      "│ bus1 │\n",
      "│ bus2 │\n",
      "└──────┘\n"
     ]
    }
   ],
   "source": [
    "show_components(sys, ACBus)"
   ]
  },
  {
   "cell_type": "markdown",
   "id": "5389ad29",
   "metadata": {
    "slideshow": {
     "slide_type": "subslide"
    }
   },
   "source": [
    "## Adding a Transmission Line\n",
    "\n",
    "Let's connect our buses. We'll add a transmission `Line` between `bus1` and `bus2`.\n",
    "\n",
    "_Note: When defining a line that isn't attached to a `System` yet, you must define the thermal rating of the transmission line in per-unit using the base power of the `System` you plan to connect it to -- in this case, 100 MVA._"
   ]
  },
  {
   "cell_type": "code",
   "execution_count": 26,
   "id": "3710a442",
   "metadata": {},
   "outputs": [],
   "source": [
    "\n",
    "line = Line(;\n",
    "    name = \"line1\",\n",
    "    available = true,\n",
    "    active_power_flow = 0.0,\n",
    "    reactive_power_flow = 0.0,\n",
    "    arc = Arc(; from = bus1, to = bus2),\n",
    "    r = 0.00281, # Per-unit\n",
    "    x = 0.0281, # Per-unit\n",
    "    b = (from = 0.00356, to = 0.00356), # Per-unit\n",
    "    rating = 2.0, # Line rating of 200 MVA / System base of 100 MVA\n",
    "    angle_limits = (min = -0.7, max = 0.7),\n",
    ");\n"
   ]
  },
  {
   "cell_type": "markdown",
   "id": "3583a6ec",
   "metadata": {
    "slideshow": {
     "slide_type": "fragment"
    }
   },
   "source": [
    "Note that we also had to define an `Arc` in the process to define the connection between\n",
    "the two buses."
   ]
  },
  {
   "cell_type": "markdown",
   "id": "57e95762",
   "metadata": {
    "slideshow": {
     "slide_type": "subslide"
    }
   },
   "source": [
    "Let's also add this to our `System`:"
   ]
  },
  {
   "cell_type": "code",
   "execution_count": 27,
   "id": "c16dc38d",
   "metadata": {
    "slideshow": {
     "slide_type": "fragment"
    }
   },
   "outputs": [],
   "source": [
    "add_component!(sys, line)"
   ]
  },
  {
   "cell_type": "markdown",
   "id": "3ddc13e5",
   "metadata": {
    "slideshow": {
     "slide_type": "fragment"
    }
   },
   "source": [
    "Finally, let's check our `System` summary to see all the network topology components we have added\n",
    "are attached:"
   ]
  },
  {
   "cell_type": "code",
   "execution_count": 28,
   "id": "bc926ca1",
   "metadata": {
    "slideshow": {
     "slide_type": "fragment"
    }
   },
   "outputs": [
    {
     "data": {
      "text/html": [
       "<table>\n",
       "  <caption style = \"text-align: left;\">System</caption>\n",
       "  <thead>\n",
       "    <tr class = \"header headerLastRow\">\n",
       "      <th style = \"text-align: left;\">Property</th>\n",
       "      <th style = \"text-align: left;\">Value</th>\n",
       "    </tr>\n",
       "  </thead>\n",
       "  <tbody>\n",
       "    <tr>\n",
       "      <td style = \"text-align: left;\">Name</td>\n",
       "      <td style = \"text-align: left;\"></td>\n",
       "    </tr>\n",
       "    <tr>\n",
       "      <td style = \"text-align: left;\">Description</td>\n",
       "      <td style = \"text-align: left;\"></td>\n",
       "    </tr>\n",
       "    <tr>\n",
       "      <td style = \"text-align: left;\">System Units Base</td>\n",
       "      <td style = \"text-align: left;\">SYSTEM_BASE</td>\n",
       "    </tr>\n",
       "    <tr>\n",
       "      <td style = \"text-align: left;\">Base Power</td>\n",
       "      <td style = \"text-align: left;\">100.0</td>\n",
       "    </tr>\n",
       "    <tr>\n",
       "      <td style = \"text-align: left;\">Base Frequency</td>\n",
       "      <td style = \"text-align: left;\">60.0</td>\n",
       "    </tr>\n",
       "    <tr>\n",
       "      <td style = \"text-align: left;\">Num Components</td>\n",
       "      <td style = \"text-align: left;\">4</td>\n",
       "    </tr>\n",
       "  </tbody>\n",
       "</table>\n",
       "\n",
       "<table>\n",
       "  <caption style = \"text-align: left;\">Static Components</caption>\n",
       "  <thead>\n",
       "    <tr class = \"header headerLastRow\">\n",
       "      <th style = \"text-align: left;\">Type</th>\n",
       "      <th style = \"text-align: left;\">Count</th>\n",
       "    </tr>\n",
       "  </thead>\n",
       "  <tbody>\n",
       "    <tr>\n",
       "      <td style = \"text-align: left;\">ACBus</td>\n",
       "      <td style = \"text-align: left;\">2</td>\n",
       "    </tr>\n",
       "    <tr>\n",
       "      <td style = \"text-align: left;\">Arc</td>\n",
       "      <td style = \"text-align: left;\">1</td>\n",
       "    </tr>\n",
       "    <tr>\n",
       "      <td style = \"text-align: left;\">Line</td>\n",
       "      <td style = \"text-align: left;\">1</td>\n",
       "    </tr>\n",
       "  </tbody>\n",
       "</table>\n",
       "\n"
      ],
      "text/plain": [
       "\u001b[1mSystem\u001b[0m\n",
       "┌───────────────────┬─────────────┐\n",
       "│\u001b[1m Property          \u001b[0m│\u001b[1m Value       \u001b[0m│\n",
       "├───────────────────┼─────────────┤\n",
       "│ Name              │             │\n",
       "│ Description       │             │\n",
       "│ System Units Base │ SYSTEM_BASE │\n",
       "│ Base Power        │ 100.0       │\n",
       "│ Base Frequency    │ 60.0        │\n",
       "│ Num Components    │ 4           │\n",
       "└───────────────────┴─────────────┘\n",
       "\n",
       "\u001b[1mStatic Components\u001b[0m\n",
       "┌───────┬───────┐\n",
       "│\u001b[1m Type  \u001b[0m│\u001b[1m Count \u001b[0m│\n",
       "├───────┼───────┤\n",
       "│ ACBus │ 2     │\n",
       "│ Arc   │ 1     │\n",
       "│ Line  │ 1     │\n",
       "└───────┴───────┘\n",
       "\n"
      ]
     },
     "execution_count": 28,
     "metadata": {},
     "output_type": "execute_result"
    }
   ],
   "source": [
    "sys"
   ]
  },
  {
   "cell_type": "markdown",
   "id": "df2f46d7",
   "metadata": {
    "slideshow": {
     "slide_type": "subslide"
    }
   },
   "source": [
    "## Adding Loads and Generators\n",
    "\n",
    "Now that our network topology is complete, we'll start adding components that inject or\n",
    "withdraw power from the network.\n",
    "\n",
    "_Note:\n",
    "When you define components that aren't attached to a `System` yet, you must define\n",
    "all fields related to power (with units such as MW, MVA, MVAR, or MW/min) in\n",
    "per-unit using the `base_power` of the component (with the exception of `base_power`\n",
    "itself, which is in MVA)._"
   ]
  },
  {
   "cell_type": "markdown",
   "id": "da513622",
   "metadata": {
    "slideshow": {
     "slide_type": "fragment"
    }
   },
   "source": [
    "We'll start with defining a 10 MW load to `bus1`:"
   ]
  },
  {
   "cell_type": "code",
   "execution_count": 29,
   "id": "9fd8bd9c",
   "metadata": {
    "slideshow": {
     "slide_type": "fragment"
    }
   },
   "outputs": [],
   "source": [
    "load = PowerLoad(;\n",
    "    name = \"load1\",\n",
    "    available = true,\n",
    "    bus = bus1,\n",
    "    active_power = 0.0, # Per-unitized by device base_power\n",
    "    reactive_power = 0.0, # Per-unitized by device base_power\n",
    "    base_power = 10.0, # MVA\n",
    "    max_active_power = 1.0, # 10 MW per-unitized by device base_power\n",
    "    max_reactive_power = 0.0,\n",
    ");"
   ]
  },
  {
   "cell_type": "markdown",
   "id": "41824f50",
   "metadata": {
    "slideshow": {
     "slide_type": "fragment"
    }
   },
   "source": [
    "Notice that we defined the `max_active_power`, which is 10 MW, as 1.0 in per-unit using the\n",
    "`base_power` of 10 MVA. We've also used the `bus1` component itself to define where this\n",
    "load is located in the network."
   ]
  },
  {
   "cell_type": "markdown",
   "id": "ff84ba57",
   "metadata": {
    "slideshow": {
     "slide_type": "subslide"
    }
   },
   "source": [
    "Now add the load to the system:"
   ]
  },
  {
   "cell_type": "code",
   "execution_count": 30,
   "id": "618daaaf",
   "metadata": {
    "slideshow": {
     "slide_type": "fragment"
    }
   },
   "outputs": [],
   "source": [
    "add_component!(sys, load)"
   ]
  },
  {
   "cell_type": "markdown",
   "id": "0802b495",
   "metadata": {
    "slideshow": {
     "slide_type": "fragment"
    }
   },
   "source": [
    "Finally, we'll add two generators: one renewable and one thermal.\n",
    "\n",
    "We'll add a 5 MW solar power plant to `bus2`:"
   ]
  },
  {
   "cell_type": "code",
   "execution_count": 31,
   "id": "faf6a61d",
   "metadata": {
    "slideshow": {
     "slide_type": "fragment"
    }
   },
   "outputs": [],
   "source": [
    "solar = RenewableDispatch(;\n",
    "    name = \"solar1\",\n",
    "    available = true,\n",
    "    bus = bus2,\n",
    "    active_power = 0.0, # Per-unitized by device base_power\n",
    "    reactive_power = 0.0, # Per-unitized by device base_power\n",
    "    rating = 1.0, # 5 MW per-unitized by device base_power\n",
    "    prime_mover_type = PrimeMovers.PVe,\n",
    "    reactive_power_limits = (min = 0.0, max = 0.05), # 0 MVAR to 0.25 MVAR per-unitized by device base_power\n",
    "    power_factor = 1.0,\n",
    "    operation_cost = RenewableGenerationCost(nothing), \n",
    "    base_power = 5.0, # MVA\n",
    ");"
   ]
  },
  {
   "cell_type": "markdown",
   "id": "8ae9baad",
   "metadata": {
    "slideshow": {
     "slide_type": "fragment"
    }
   },
   "source": [
    "Note that we've used a generic renewable generator to model\n",
    "solar, but we can specify that it is solar through the prime mover."
   ]
  },
  {
   "cell_type": "markdown",
   "id": "9351e394",
   "metadata": {
    "slideshow": {
     "slide_type": "subslide"
    }
   },
   "source": [
    "Finally, we'll also add a 30 MW gas thermal generator:"
   ]
  },
  {
   "cell_type": "code",
   "execution_count": 32,
   "id": "80db0e84",
   "metadata": {
    "slideshow": {
     "slide_type": "fragment"
    }
   },
   "outputs": [],
   "source": [
    "gas = ThermalStandard(;\n",
    "    name = \"gas1\",\n",
    "    available = true,\n",
    "    status = true,\n",
    "    bus = bus2,\n",
    "    active_power = 0.0, # Per-unitized by device base_power\n",
    "    reactive_power = 0.0, # Per-unitized by device base_power\n",
    "    rating = 1.0, # 30 MW per-unitized by device base_power\n",
    "    active_power_limits = (min = 0.2, max = 1.0), # 6 MW to 30 MW per-unitized by device base_power\n",
    "    reactive_power_limits = nothing, # Per-unitized by device base_power\n",
    "    ramp_limits = (up = 0.2, down = 0.2), # 6 MW/min up or down, per-unitized by device base_power\n",
    "    operation_cost = ThermalGenerationCost(nothing),\n",
    "    base_power = 30.0, # MVA\n",
    "    time_limits = (up = 8.0, down = 8.0), # Hours\n",
    "    must_run = false,\n",
    "    prime_mover_type = PrimeMovers.CC,\n",
    "    fuel = ThermalFuels.NATURAL_GAS,\n",
    ");"
   ]
  },
  {
   "cell_type": "markdown",
   "id": "d714188a",
   "metadata": {
    "slideshow": {
     "slide_type": "fragment"
    }
   },
   "source": [
    "This time, let's add these components to our `System` using `add_components!`\n",
    "to add them both at the same time:"
   ]
  },
  {
   "cell_type": "code",
   "execution_count": 33,
   "id": "c3b0dabf",
   "metadata": {
    "slideshow": {
     "slide_type": "fragment"
    }
   },
   "outputs": [],
   "source": [
    "add_components!(sys, [solar, gas])"
   ]
  },
  {
   "cell_type": "markdown",
   "id": "d394355f",
   "metadata": {
    "slideshow": {
     "slide_type": "subslide"
    }
   },
   "source": [
    "## Explore the System and its Components\n",
    "\n",
    "We have built a power system including buses, a transmission line, a\n",
    "load, and different types of generators. Now let's take a look around.\n",
    "\n",
    "Remember that we can see a summary of our `System` using the print statement:"
   ]
  },
  {
   "cell_type": "code",
   "execution_count": 34,
   "id": "0f3f5de5",
   "metadata": {
    "slideshow": {
     "slide_type": "fragment"
    }
   },
   "outputs": [
    {
     "data": {
      "text/html": [
       "<table>\n",
       "  <caption style = \"text-align: left;\">System</caption>\n",
       "  <thead>\n",
       "    <tr class = \"header headerLastRow\">\n",
       "      <th style = \"text-align: left;\">Property</th>\n",
       "      <th style = \"text-align: left;\">Value</th>\n",
       "    </tr>\n",
       "  </thead>\n",
       "  <tbody>\n",
       "    <tr>\n",
       "      <td style = \"text-align: left;\">Name</td>\n",
       "      <td style = \"text-align: left;\"></td>\n",
       "    </tr>\n",
       "    <tr>\n",
       "      <td style = \"text-align: left;\">Description</td>\n",
       "      <td style = \"text-align: left;\"></td>\n",
       "    </tr>\n",
       "    <tr>\n",
       "      <td style = \"text-align: left;\">System Units Base</td>\n",
       "      <td style = \"text-align: left;\">SYSTEM_BASE</td>\n",
       "    </tr>\n",
       "    <tr>\n",
       "      <td style = \"text-align: left;\">Base Power</td>\n",
       "      <td style = \"text-align: left;\">100.0</td>\n",
       "    </tr>\n",
       "    <tr>\n",
       "      <td style = \"text-align: left;\">Base Frequency</td>\n",
       "      <td style = \"text-align: left;\">60.0</td>\n",
       "    </tr>\n",
       "    <tr>\n",
       "      <td style = \"text-align: left;\">Num Components</td>\n",
       "      <td style = \"text-align: left;\">7</td>\n",
       "    </tr>\n",
       "  </tbody>\n",
       "</table>\n",
       "\n",
       "<table>\n",
       "  <caption style = \"text-align: left;\">Static Components</caption>\n",
       "  <thead>\n",
       "    <tr class = \"header headerLastRow\">\n",
       "      <th style = \"text-align: left;\">Type</th>\n",
       "      <th style = \"text-align: left;\">Count</th>\n",
       "    </tr>\n",
       "  </thead>\n",
       "  <tbody>\n",
       "    <tr>\n",
       "      <td style = \"text-align: left;\">ACBus</td>\n",
       "      <td style = \"text-align: left;\">2</td>\n",
       "    </tr>\n",
       "    <tr>\n",
       "      <td style = \"text-align: left;\">Arc</td>\n",
       "      <td style = \"text-align: left;\">1</td>\n",
       "    </tr>\n",
       "    <tr>\n",
       "      <td style = \"text-align: left;\">Line</td>\n",
       "      <td style = \"text-align: left;\">1</td>\n",
       "    </tr>\n",
       "    <tr>\n",
       "      <td style = \"text-align: left;\">PowerLoad</td>\n",
       "      <td style = \"text-align: left;\">1</td>\n",
       "    </tr>\n",
       "    <tr>\n",
       "      <td style = \"text-align: left;\">RenewableDispatch</td>\n",
       "      <td style = \"text-align: left;\">1</td>\n",
       "    </tr>\n",
       "    <tr>\n",
       "      <td style = \"text-align: left;\">ThermalStandard</td>\n",
       "      <td style = \"text-align: left;\">1</td>\n",
       "    </tr>\n",
       "  </tbody>\n",
       "</table>\n",
       "\n"
      ],
      "text/plain": [
       "\u001b[1mSystem\u001b[0m\n",
       "┌───────────────────┬─────────────┐\n",
       "│\u001b[1m Property          \u001b[0m│\u001b[1m Value       \u001b[0m│\n",
       "├───────────────────┼─────────────┤\n",
       "│ Name              │             │\n",
       "│ Description       │             │\n",
       "│ System Units Base │ SYSTEM_BASE │\n",
       "│ Base Power        │ 100.0       │\n",
       "│ Base Frequency    │ 60.0        │\n",
       "│ Num Components    │ 7           │\n",
       "└───────────────────┴─────────────┘\n",
       "\n",
       "\u001b[1mStatic Components\u001b[0m\n",
       "┌───────────────────┬───────┐\n",
       "│\u001b[1m Type              \u001b[0m│\u001b[1m Count \u001b[0m│\n",
       "├───────────────────┼───────┤\n",
       "│ ACBus             │ 2     │\n",
       "│ Arc               │ 1     │\n",
       "│ Line              │ 1     │\n",
       "│ PowerLoad         │ 1     │\n",
       "│ RenewableDispatch │ 1     │\n",
       "│ ThermalStandard   │ 1     │\n",
       "└───────────────────┴───────┘\n",
       "\n"
      ]
     },
     "execution_count": 34,
     "metadata": {},
     "output_type": "execute_result"
    }
   ],
   "source": [
    "sys"
   ]
  },
  {
   "cell_type": "markdown",
   "id": "10eb58be",
   "metadata": {
    "slideshow": {
     "slide_type": "subslide"
    }
   },
   "source": [
    "Now, let's double-check some of our data by retrieving it from the `System`.\n",
    "Let's use `show_components` again to get an overview of our renewable generators:"
   ]
  },
  {
   "cell_type": "code",
   "execution_count": 35,
   "id": "837c9edf",
   "metadata": {
    "slideshow": {
     "slide_type": "fragment"
    }
   },
   "outputs": [
    {
     "name": "stdout",
     "output_type": "stream",
     "text": [
      "\u001b[1mRenewableDispatch\u001b[0m\n",
      "┌────────┬───────────┐\n",
      "│\u001b[1m name   \u001b[0m│\u001b[1m available \u001b[0m│\n",
      "├────────┼───────────┤\n",
      "│ solar1 │ true      │\n",
      "└────────┴───────────┘\n"
     ]
    }
   ],
   "source": [
    "\n",
    "show_components(sys, RenewableDispatch)\n"
   ]
  },
  {
   "cell_type": "markdown",
   "id": "cb9d3c0a",
   "metadata": {
    "slideshow": {
     "slide_type": "fragment"
    }
   },
   "source": [
    "We just have the one renewable generator named `solar1`. Use `get_component` to\n",
    "retrieve it by name:"
   ]
  },
  {
   "cell_type": "code",
   "execution_count": 36,
   "id": "59088263",
   "metadata": {
    "slideshow": {
     "slide_type": "fragment"
    }
   },
   "outputs": [],
   "source": [
    "retrieved_component = get_component(RenewableDispatch, sys, \"solar1\");"
   ]
  },
  {
   "cell_type": "markdown",
   "id": "9ecd5cb6",
   "metadata": {
    "slideshow": {
     "slide_type": "fragment"
    }
   },
   "source": [
    "Let's double-check what type of renewable generator this is using a `get_` function:"
   ]
  },
  {
   "cell_type": "code",
   "execution_count": 37,
   "id": "be76d4b2",
   "metadata": {
    "slideshow": {
     "slide_type": "fragment"
    }
   },
   "outputs": [
    {
     "data": {
      "text/plain": [
       "PrimeMovers.PVe = 21"
      ]
     },
     "execution_count": 37,
     "metadata": {},
     "output_type": "execute_result"
    }
   ],
   "source": [
    "get_prime_mover_type(retrieved_component)"
   ]
  },
  {
   "cell_type": "markdown",
   "id": "de5b73c2",
   "metadata": {
    "slideshow": {
     "slide_type": "fragment"
    }
   },
   "source": [
    "We verify that this a `PVe`, or solar photovoltaic, generator."
   ]
  },
  {
   "cell_type": "markdown",
   "id": "34a576f1",
   "metadata": {
    "slideshow": {
     "slide_type": "subslide"
    }
   },
   "source": [
    "Let's also use a `get_` function to double-check where this generator is connected in the\n",
    "transmission network:"
   ]
  },
  {
   "cell_type": "code",
   "execution_count": 38,
   "id": "e3cd9a95",
   "metadata": {
    "slideshow": {
     "slide_type": "fragment"
    }
   },
   "outputs": [
    {
     "data": {
      "text/plain": [
       "ACBus: bus2:\n",
       "   number: 2\n",
       "   name: bus2\n",
       "   bustype: ACBusTypes.PV = 2\n",
       "   angle: 0.0\n",
       "   magnitude: 1.0\n",
       "   voltage_limits: (min = 0.9, max = 1.05)\n",
       "   base_voltage: 230.0\n",
       "   area: nothing\n",
       "   load_zone: nothing\n",
       "   ext: Dict{String, Any}()\n",
       "   InfrastructureSystems.SystemUnitsSettings:\n",
       "      base_value: 100.0\n",
       "      unit_system: UnitSystem.SYSTEM_BASE = 0\n",
       "   has_supplemental_attributes: false\n",
       "   has_time_series: false"
      ]
     },
     "execution_count": 38,
     "metadata": {},
     "output_type": "execute_result"
    }
   ],
   "source": [
    "get_bus(retrieved_component)"
   ]
  },
  {
   "cell_type": "markdown",
   "id": "2fbf15f1",
   "metadata": {
    "slideshow": {
     "slide_type": "fragment"
    }
   },
   "source": [
    "See that the generator's bus is linked to the actual `bus2` component in our `System`.\n",
    "\n",
    "These \"getter\" functions are available for all the data fields in a component."
   ]
  },
  {
   "cell_type": "markdown",
   "id": "333fb4ba",
   "metadata": {
    "slideshow": {
     "slide_type": "subslide"
    }
   },
   "source": [
    "#### Tip:\n",
    "\n",
    "**Always use the `get_*` functions to retrieve the data within a component.**\n",
    "\n",
    "_While in Julia a user can use `.` to access the fields of a component, we make no\n",
    "guarantees on the stability of field names and locations. We do however promise to\n",
    "keep the getter functions stable. PowerSystems.jl also does many internal data\n",
    "calculations that the getter functions will properly handle for you, as you'll see\n",
    "below._"
   ]
  },
  {
   "cell_type": "markdown",
   "id": "f70a056f",
   "metadata": {
    "slideshow": {
     "slide_type": "slide"
    }
   },
   "source": [
    "## Changing `System` Per-Unit Settings\n",
    "\n",
    "Now, let's use a getter function to look up the solar generator's `rating`:"
   ]
  },
  {
   "cell_type": "code",
   "execution_count": 39,
   "id": "5af9268f",
   "metadata": {
    "slideshow": {
     "slide_type": "fragment"
    }
   },
   "outputs": [
    {
     "data": {
      "text/plain": [
       "0.05"
      ]
     },
     "execution_count": 39,
     "metadata": {},
     "output_type": "execute_result"
    }
   ],
   "source": [
    "\n",
    "get_rating(retrieved_component)\n"
   ]
  },
  {
   "cell_type": "markdown",
   "id": "7aeb7547",
   "metadata": {
    "slideshow": {
     "slide_type": "fragment"
    }
   },
   "source": [
    "### Important tip:\n",
    "    \n",
    "When we defined the solar generator, we defined the rating\n",
    "as 1.0 per-unit with a device `base_power` of 5.0 MVA. Notice that the rating now reads\n",
    "0.05. After we attached this component to our `System`, its power data is being\n",
    "returned to us in the `System`'s units base."
   ]
  },
  {
   "cell_type": "markdown",
   "id": "bb4ce3a7",
   "metadata": {
    "slideshow": {
     "slide_type": "subslide"
    }
   },
   "source": [
    "Let's double-check the `System`'s units base:"
   ]
  },
  {
   "cell_type": "code",
   "execution_count": 40,
   "id": "5e9eba13",
   "metadata": {
    "slideshow": {
     "slide_type": "fragment"
    }
   },
   "outputs": [
    {
     "data": {
      "text/plain": [
       "\"SYSTEM_BASE\""
      ]
     },
     "execution_count": 40,
     "metadata": {},
     "output_type": "execute_result"
    }
   ],
   "source": [
    "get_units_base(sys)"
   ]
  },
  {
   "cell_type": "markdown",
   "id": "4d310700",
   "metadata": {
    "slideshow": {
     "slide_type": "fragment"
    }
   },
   "source": [
    "`SYSTEM_BASE` means all power-related (MW, MVA, MVAR, MW/min) component data in\n",
    "the `System`, except for each component's `base_power`, is per-unitized by the\n",
    "system base power for consistency."
   ]
  },
  {
   "cell_type": "markdown",
   "id": "f55e0da5",
   "metadata": {
    "slideshow": {
     "slide_type": "fragment"
    }
   },
   "source": [
    "Check the `System`'s base_power again:"
   ]
  },
  {
   "cell_type": "code",
   "execution_count": 41,
   "id": "2fe1f645",
   "metadata": {
    "slideshow": {
     "slide_type": "fragment"
    }
   },
   "outputs": [
    {
     "data": {
      "text/plain": [
       "100.0"
      ]
     },
     "execution_count": 41,
     "metadata": {},
     "output_type": "execute_result"
    }
   ],
   "source": [
    "get_base_power(sys)"
   ]
  },
  {
   "cell_type": "code",
   "execution_count": 42,
   "id": "3ca9d3ec",
   "metadata": {
    "slideshow": {
     "slide_type": "fragment"
    }
   },
   "outputs": [
    {
     "data": {
      "text/plain": [
       "100.0"
      ]
     },
     "execution_count": 42,
     "metadata": {},
     "output_type": "execute_result"
    }
   ],
   "source": [
    "get_base_power(sys)"
   ]
  },
  {
   "cell_type": "markdown",
   "id": "87667e73",
   "metadata": {
    "slideshow": {
     "slide_type": "fragment"
    }
   },
   "source": [
    "Notice that when we called `get_rating` above, the solar generator's rating, 5.0 MW,\n",
    "is being returned as 0.05 = (5 MVA)/(100 MVA) using the system base power."
   ]
  },
  {
   "cell_type": "markdown",
   "id": "75c15f86",
   "metadata": {
    "slideshow": {
     "slide_type": "subslide"
    }
   },
   "source": [
    "Instead of using the `System` base power, let's view everything in MW or MVA -- or what we\n",
    "call \"NATURAL_UNITS\" in PowerSystems.\n",
    "\n",
    "Change the `System`'s unit system:"
   ]
  },
  {
   "cell_type": "code",
   "execution_count": 43,
   "id": "57f22da0",
   "metadata": {
    "slideshow": {
     "slide_type": "fragment"
    }
   },
   "outputs": [
    {
     "name": "stderr",
     "output_type": "stream",
     "text": [
      "\u001b[36m\u001b[1m[ \u001b[22m\u001b[39m\u001b[36m\u001b[1mInfo: \u001b[22m\u001b[39mUnit System changed to UnitSystem.NATURAL_UNITS = 2\n"
     ]
    }
   ],
   "source": [
    "set_units_base_system!(sys, \"NATURAL_UNITS\")"
   ]
  },
  {
   "cell_type": "markdown",
   "id": "961741aa",
   "metadata": {
    "slideshow": {
     "slide_type": "subslide"
    }
   },
   "source": [
    "Now retrieve the solar generator's rating again:"
   ]
  },
  {
   "cell_type": "code",
   "execution_count": 44,
   "id": "5f052afe",
   "metadata": {
    "slideshow": {
     "slide_type": "fragment"
    }
   },
   "outputs": [
    {
     "data": {
      "text/plain": [
       "5.0"
      ]
     },
     "execution_count": 44,
     "metadata": {},
     "output_type": "execute_result"
    }
   ],
   "source": [
    "\n",
    "get_rating(retrieved_component)\n"
   ]
  },
  {
   "cell_type": "markdown",
   "id": "a6266d7a",
   "metadata": {
    "slideshow": {
     "slide_type": "fragment"
    }
   },
   "source": [
    "Notice that the value is now its \"natural\" value, 5.0 MVA.\n",
    "\n",
    "Finally, let's change the `System`'s unit system to the final option, \"DEVICE_BASE\":"
   ]
  },
  {
   "cell_type": "code",
   "execution_count": 45,
   "id": "6e87adc9",
   "metadata": {
    "slideshow": {
     "slide_type": "fragment"
    }
   },
   "outputs": [
    {
     "name": "stderr",
     "output_type": "stream",
     "text": [
      "\u001b[36m\u001b[1m[ \u001b[22m\u001b[39m\u001b[36m\u001b[1mInfo: \u001b[22m\u001b[39mUnit System changed to UnitSystem.DEVICE_BASE = 1\n"
     ]
    }
   ],
   "source": [
    "\n",
    "set_units_base_system!(sys, \"DEVICE_BASE\")\n"
   ]
  },
  {
   "cell_type": "markdown",
   "id": "799d7a46",
   "metadata": {
    "slideshow": {
     "slide_type": "fragment"
    }
   },
   "source": [
    "And retrieve the solar generator's rating once more:"
   ]
  },
  {
   "cell_type": "code",
   "execution_count": 46,
   "id": "a7d8272e",
   "metadata": {
    "slideshow": {
     "slide_type": "fragment"
    }
   },
   "outputs": [
    {
     "data": {
      "text/plain": [
       "1.0"
      ]
     },
     "execution_count": 46,
     "metadata": {},
     "output_type": "execute_result"
    }
   ],
   "source": [
    "\n",
    "get_rating(retrieved_component)\n"
   ]
  },
  {
   "cell_type": "markdown",
   "id": "7796cfab",
   "metadata": {
    "slideshow": {
     "slide_type": "subslide"
    }
   },
   "source": [
    "See that now the data is now 1.0 (5.0 MVA per-unitized by the generator (i.e., the device's)\n",
    "`base_power` of 5.0 MVA), which is the format we used to originally define the device.\n",
    "\n",
    "As a shortcut to temporarily set the `System`'s unit system to a particular value, perform\n",
    "some action, and then automatically set it back to what it was before, we can use\n",
    "`with_units_base` and a [`do` block](https://docs.julialang.org/en/v1/manual/functions/#Do-Block-Syntax-for-Function-Arguments):"
   ]
  },
  {
   "cell_type": "code",
   "execution_count": 47,
   "id": "4233aa33",
   "metadata": {
    "slideshow": {
     "slide_type": "fragment"
    }
   },
   "outputs": [
    {
     "data": {
      "text/plain": [
       "\"DEVICE_BASE\""
      ]
     },
     "execution_count": 47,
     "metadata": {},
     "output_type": "execute_result"
    }
   ],
   "source": [
    "with_units_base(sys, \"NATURAL_UNITS\") do\n",
    "    # Everything inside this block will run as if the unit system were NATURAL_UNITS\n",
    "    get_rating(retrieved_component)\n",
    "end\n",
    "\n",
    "get_units_base(sys)  # Unit system goes back to previous value when the block ends"
   ]
  },
  {
   "cell_type": "markdown",
   "id": "83accaf5",
   "metadata": {
    "slideshow": {
     "slide_type": "subslide"
    }
   },
   "source": [
    "Recall that if you ever need to check a `System`'s settings, including the unit system being\n",
    "used by all the getter functions, you can always just print the `System`:"
   ]
  },
  {
   "cell_type": "code",
   "execution_count": 48,
   "id": "f6acec2a",
   "metadata": {
    "slideshow": {
     "slide_type": "fragment"
    }
   },
   "outputs": [
    {
     "data": {
      "text/html": [
       "<table>\n",
       "  <caption style = \"text-align: left;\">System</caption>\n",
       "  <thead>\n",
       "    <tr class = \"header headerLastRow\">\n",
       "      <th style = \"text-align: left;\">Property</th>\n",
       "      <th style = \"text-align: left;\">Value</th>\n",
       "    </tr>\n",
       "  </thead>\n",
       "  <tbody>\n",
       "    <tr>\n",
       "      <td style = \"text-align: left;\">Name</td>\n",
       "      <td style = \"text-align: left;\"></td>\n",
       "    </tr>\n",
       "    <tr>\n",
       "      <td style = \"text-align: left;\">Description</td>\n",
       "      <td style = \"text-align: left;\"></td>\n",
       "    </tr>\n",
       "    <tr>\n",
       "      <td style = \"text-align: left;\">System Units Base</td>\n",
       "      <td style = \"text-align: left;\">DEVICE_BASE</td>\n",
       "    </tr>\n",
       "    <tr>\n",
       "      <td style = \"text-align: left;\">Base Power</td>\n",
       "      <td style = \"text-align: left;\">100.0</td>\n",
       "    </tr>\n",
       "    <tr>\n",
       "      <td style = \"text-align: left;\">Base Frequency</td>\n",
       "      <td style = \"text-align: left;\">60.0</td>\n",
       "    </tr>\n",
       "    <tr>\n",
       "      <td style = \"text-align: left;\">Num Components</td>\n",
       "      <td style = \"text-align: left;\">7</td>\n",
       "    </tr>\n",
       "  </tbody>\n",
       "</table>\n",
       "\n",
       "<table>\n",
       "  <caption style = \"text-align: left;\">Static Components</caption>\n",
       "  <thead>\n",
       "    <tr class = \"header headerLastRow\">\n",
       "      <th style = \"text-align: left;\">Type</th>\n",
       "      <th style = \"text-align: left;\">Count</th>\n",
       "    </tr>\n",
       "  </thead>\n",
       "  <tbody>\n",
       "    <tr>\n",
       "      <td style = \"text-align: left;\">ACBus</td>\n",
       "      <td style = \"text-align: left;\">2</td>\n",
       "    </tr>\n",
       "    <tr>\n",
       "      <td style = \"text-align: left;\">Arc</td>\n",
       "      <td style = \"text-align: left;\">1</td>\n",
       "    </tr>\n",
       "    <tr>\n",
       "      <td style = \"text-align: left;\">Line</td>\n",
       "      <td style = \"text-align: left;\">1</td>\n",
       "    </tr>\n",
       "    <tr>\n",
       "      <td style = \"text-align: left;\">PowerLoad</td>\n",
       "      <td style = \"text-align: left;\">1</td>\n",
       "    </tr>\n",
       "    <tr>\n",
       "      <td style = \"text-align: left;\">RenewableDispatch</td>\n",
       "      <td style = \"text-align: left;\">1</td>\n",
       "    </tr>\n",
       "    <tr>\n",
       "      <td style = \"text-align: left;\">ThermalStandard</td>\n",
       "      <td style = \"text-align: left;\">1</td>\n",
       "    </tr>\n",
       "  </tbody>\n",
       "</table>\n",
       "\n"
      ],
      "text/plain": [
       "\u001b[1mSystem\u001b[0m\n",
       "┌───────────────────┬─────────────┐\n",
       "│\u001b[1m Property          \u001b[0m│\u001b[1m Value       \u001b[0m│\n",
       "├───────────────────┼─────────────┤\n",
       "│ Name              │             │\n",
       "│ Description       │             │\n",
       "│ System Units Base │ DEVICE_BASE │\n",
       "│ Base Power        │ 100.0       │\n",
       "│ Base Frequency    │ 60.0        │\n",
       "│ Num Components    │ 7           │\n",
       "└───────────────────┴─────────────┘\n",
       "\n",
       "\u001b[1mStatic Components\u001b[0m\n",
       "┌───────────────────┬───────┐\n",
       "│\u001b[1m Type              \u001b[0m│\u001b[1m Count \u001b[0m│\n",
       "├───────────────────┼───────┤\n",
       "│ ACBus             │ 2     │\n",
       "│ Arc               │ 1     │\n",
       "│ Line              │ 1     │\n",
       "│ PowerLoad         │ 1     │\n",
       "│ RenewableDispatch │ 1     │\n",
       "│ ThermalStandard   │ 1     │\n",
       "└───────────────────┴───────┘\n",
       "\n"
      ]
     },
     "execution_count": 48,
     "metadata": {},
     "output_type": "execute_result"
    }
   ],
   "source": [
    "sys"
   ]
  },
  {
   "cell_type": "markdown",
   "id": "4864667b",
   "metadata": {
    "slideshow": {
     "slide_type": "fragment"
    }
   },
   "source": [
    "See the units base is printed as one of the `System` properties."
   ]
  },
  {
   "cell_type": "markdown",
   "id": "a4b7caaf",
   "metadata": {
    "slideshow": {
     "slide_type": "slide"
    }
   },
   "source": [
    "## Next Steps\n",
    "\n",
    "In this tutorial, you manually created a power `System`, added and then retrieved its components,\n",
    "and modified the `System` per-unit settings.\n",
    "\n",
    "Next, you might want to:\n",
    "\n",
    "  - Add time series data to components in the `System`\n",
    "  - Add necessary data for dynamic simulations\n",
    "  - Import a `System` from an existing Matpower or PSSE file, or\n",
    "    with PSSE dynamic data instead of creating it manually\n",
    "  - Create your own `System` from .csv files instead of creating it manually\n",
    "  - Read more to understand per-unitization in PowerSystems.jl or know how to add a component in natural units."
   ]
  },
  {
   "cell_type": "code",
   "execution_count": null,
   "id": "4f859197",
   "metadata": {},
   "outputs": [],
   "source": []
  }
 ],
 "metadata": {
  "@webio": {
   "lastCommId": null,
   "lastKernelId": null
  },
  "celltoolbar": "Slideshow",
  "kernelspec": {
   "display_name": "Julia 1.11.1",
   "language": "julia",
   "name": "julia-1.11"
  },
  "language_info": {
   "file_extension": ".jl",
   "mimetype": "application/julia",
   "name": "julia",
   "version": "1.11.1"
  }
 },
 "nbformat": 4,
 "nbformat_minor": 5
}
