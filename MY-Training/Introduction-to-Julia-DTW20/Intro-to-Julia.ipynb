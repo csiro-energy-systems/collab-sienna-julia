{
 "cells": [
  {
   "cell_type": "code",
   "execution_count": null,
   "metadata": {
    "slideshow": {
     "slide_type": "skip"
    }
   },
   "outputs": [],
   "source": [
    "using Pkg\n",
    "Pkg.activate(\".\")\n",
    "Pkg.resolve()\n",
    "Pkg.instantiate()"
   ]
  },
  {
   "cell_type": "markdown",
   "metadata": {
    "slideshow": {
     "slide_type": "slide"
    }
   },
   "source": [
    "# An Introduction to the Julia Programming Language\n",
    "\n",
    "## CSIRO Energy Systems\n",
    "## 26th May 2025\n",
    "\n",
    "\n",
    "#### Credit: Slides thanks to Robin Deits\n",
    "\n",
    "Original at: https://tinyurl.com/tech-watch-julia ([full link](https://github.com/rdeits/DetroitTechWatch2020.jl/blob/master/Intro%20to%20Julia.ipynb))"
   ]
  },
  {
   "cell_type": "markdown",
   "metadata": {
    "slideshow": {
     "slide_type": "slide"
    }
   },
   "source": [
    "# Overview\n",
    "\n",
    "* What is Julia?\n",
    "* Tour of Julia\n",
    "  * Functions, types, multiple dispatch\n",
    "* Julia is fast! \n",
    "  * Benchmarking Julia vs. C and Python\n",
    "* Bonus Features of Julia\n",
    "  * Async tasks, multiprocessing, and metaprogramming\n",
    "* What's hard to do in Julia?\n",
    "* Essential Julia packages and tools"
   ]
  },
  {
   "cell_type": "markdown",
   "metadata": {
    "slideshow": {
     "slide_type": "slide"
    }
   },
   "source": [
    "# What is Julia\n",
    "\n",
    "<https://docs.julialang.org/en/v1/>\n",
    "\n",
    "* Julia is a high-level language like Python with the performance of a fast language like C\n",
    "* Julia is a great choice for scientific computing, with:\n",
    "  * Excellent performance\n",
    "  * N-dimensional arrays\n",
    "  * Parallel and distributed computing\n",
    "* And it's also a nice environment for general purpose programming, with:\n",
    "  * An active ecosystem of packages and good tools for managing them\n",
    "  * A rich type system\n",
    "  * Iterators, asynchronous tasks, and coroutines\n"
   ]
  },
  {
   "cell_type": "markdown",
   "metadata": {
    "slideshow": {
     "slide_type": "subslide"
    }
   },
   "source": [
    "# Julia at a Glance\n",
    "\n",
    "* First public release in 2012, version 1.0 released in 2018\n",
    "* Free\n",
    "    * Julia itself is [MIT licensed](https://opensource.org/license/MIT)\n",
    "    * It bundles some linear algebra libraries with the GPL license which can be disabled if desired\n",
    "* Built-in Just-In-Time (JIT) compiler transforms Julia code to native machine code at run time\n",
    "  * Uses LLVM under the hood and works cross-platform on Windows, macOS and Linux operating systems\n",
    "* Garbage collected\n",
    "* Dynamically typed\n",
    "* Organized via multiple dispatch"
   ]
  },
  {
   "cell_type": "markdown",
   "metadata": {
    "slideshow": {
     "slide_type": "slide"
    }
   },
   "source": [
    "# A Tour of Julia"
   ]
  },
  {
   "cell_type": "markdown",
   "metadata": {
    "slideshow": {
     "slide_type": "subslide"
    }
   },
   "source": [
    "##  The Basics"
   ]
  },
  {
   "cell_type": "markdown",
   "metadata": {
    "slideshow": {
     "slide_type": "fragment"
    }
   },
   "source": [
    "Arithmetic:"
   ]
  },
  {
   "cell_type": "code",
   "execution_count": null,
   "metadata": {
    "slideshow": {
     "slide_type": "-"
    }
   },
   "outputs": [],
   "source": [
    "2 + (4 * 5) + sin(0.1)"
   ]
  },
  {
   "cell_type": "markdown",
   "metadata": {
    "slideshow": {
     "slide_type": "fragment"
    }
   },
   "source": [
    "Strings:"
   ]
  },
  {
   "cell_type": "code",
   "execution_count": null,
   "metadata": {
    "slideshow": {
     "slide_type": "-"
    }
   },
   "outputs": [],
   "source": [
    "# Strings\n",
    "println(\"hello friends from all over the world\")"
   ]
  },
  {
   "cell_type": "markdown",
   "metadata": {
    "slideshow": {
     "slide_type": "subslide"
    }
   },
   "source": [
    "Arrays:"
   ]
  },
  {
   "cell_type": "code",
   "execution_count": null,
   "metadata": {
    "slideshow": {
     "slide_type": "-"
    }
   },
   "outputs": [],
   "source": [
    "x = collect(1:4_000_000) # [1, 2, 3, 4]"
   ]
  },
  {
   "cell_type": "markdown",
   "metadata": {
    "slideshow": {
     "slide_type": "subslide"
    }
   },
   "source": [
    "## Functions"
   ]
  },
  {
   "cell_type": "code",
   "execution_count": null,
   "metadata": {},
   "outputs": [],
   "source": [
    "function say_hello(name)\n",
    "    return \"hello $(name)\"\n",
    "end"
   ]
  },
  {
   "cell_type": "code",
   "execution_count": null,
   "metadata": {
    "slideshow": {
     "slide_type": "fragment"
    }
   },
   "outputs": [],
   "source": [
    "say_hello(\"Mahathir\")"
   ]
  },
  {
   "cell_type": "markdown",
   "metadata": {
    "slideshow": {
     "slide_type": "fragment"
    }
   },
   "source": [
    "By default, a function is generic, so you can pass in any type you want:"
   ]
  },
  {
   "cell_type": "code",
   "execution_count": null,
   "metadata": {},
   "outputs": [],
   "source": [
    "say_hello(1:4)"
   ]
  },
  {
   "cell_type": "markdown",
   "metadata": {
    "slideshow": {
     "slide_type": "subslide"
    }
   },
   "source": [
    "## Types\n",
    "\n",
    "Every value in Julia has a type:"
   ]
  },
  {
   "cell_type": "code",
   "execution_count": null,
   "metadata": {},
   "outputs": [],
   "source": [
    "typeof(\"hello\")"
   ]
  },
  {
   "cell_type": "code",
   "execution_count": null,
   "metadata": {
    "slideshow": {
     "slide_type": "fragment"
    }
   },
   "outputs": [],
   "source": [
    "typeof(1) "
   ]
  },
  {
   "cell_type": "code",
   "execution_count": null,
   "metadata": {
    "slideshow": {
     "slide_type": "fragment"
    }
   },
   "outputs": [],
   "source": [
    "typeof(π)"
   ]
  },
  {
   "cell_type": "code",
   "execution_count": null,
   "metadata": {
    "slideshow": {
     "slide_type": "fragment"
    }
   },
   "outputs": [],
   "source": [
    "typeof([1, 2, 3])"
   ]
  },
  {
   "cell_type": "markdown",
   "metadata": {
    "slideshow": {
     "slide_type": "subslide"
    }
   },
   "source": [
    "You can create your own types to organize your data:"
   ]
  },
  {
   "cell_type": "code",
   "execution_count": null,
   "metadata": {},
   "outputs": [],
   "source": [
    "struct Person\n",
    "  name::String\n",
    "end\n",
    "\n",
    "alice = Person(\"Alice\")"
   ]
  },
  {
   "cell_type": "markdown",
   "metadata": {
    "slideshow": {
     "slide_type": "fragment"
    }
   },
   "source": [
    "Julia's types are extremely lightweight, and user-defined types are *exactly* as performant as anything built-in:"
   ]
  },
  {
   "cell_type": "code",
   "execution_count": null,
   "metadata": {},
   "outputs": [],
   "source": [
    "sizeof(Person) == sizeof(Ptr{String})"
   ]
  },
  {
   "cell_type": "markdown",
   "metadata": {
    "slideshow": {
     "slide_type": "slide"
    }
   },
   "source": [
    "## Multiple Dispatch\n",
    "\n",
    "Julia does not have classes like Java, Python, or C++. Instead, code is organized around *multiple dispatch*, where the compiler chooses the appropriate method of a given function based on the types of *all* of its input arguments. \n",
    "\n",
    "For more, see: [The Unreasonable Effectiveness of Multiple Dispatch (Stefan Karpinski, JuliaCon 2019)](https://www.youtube.com/watch?v=kc9HwsxE1OY)"
   ]
  },
  {
   "cell_type": "code",
   "execution_count": null,
   "metadata": {
    "slideshow": {
     "slide_type": "subslide"
    }
   },
   "outputs": [],
   "source": [
    "greet(x, y) = println(\"$x greets $y\")"
   ]
  },
  {
   "cell_type": "code",
   "execution_count": null,
   "metadata": {
    "slideshow": {
     "slide_type": "fragment"
    }
   },
   "outputs": [],
   "source": [
    "alice = Person(\"alice\")\n",
    "bob = Person(\"bob\")\n",
    "\n",
    "greet(alice, bob)"
   ]
  },
  {
   "cell_type": "markdown",
   "metadata": {
    "slideshow": {
     "slide_type": "fragment"
    }
   },
   "source": [
    "Currently there is only one `greet()` function, and it will work on `x` and `y` of any type:"
   ]
  },
  {
   "cell_type": "code",
   "execution_count": null,
   "metadata": {},
   "outputs": [],
   "source": [
    "greet([1, 2, 3], \"hello world\")"
   ]
  },
  {
   "cell_type": "markdown",
   "metadata": {
    "slideshow": {
     "slide_type": "subslide"
    }
   },
   "source": [
    "We can use abstract types to organize the behavior of related types:"
   ]
  },
  {
   "cell_type": "code",
   "execution_count": null,
   "metadata": {},
   "outputs": [],
   "source": [
    "abstract type Animal end\n",
    "\n",
    "struct Cat <: Animal\n",
    "    name::String\n",
    "end"
   ]
  },
  {
   "cell_type": "markdown",
   "metadata": {
    "slideshow": {
     "slide_type": "fragment"
    }
   },
   "source": [
    "We've already defined `greet(x, y)` for any `x` and `y`, but we can add another definition for a more specific set of input types.\n",
    "\n",
    "We can be as specific or as general as we like with the argument types:"
   ]
  },
  {
   "cell_type": "code",
   "execution_count": null,
   "metadata": {},
   "outputs": [],
   "source": [
    "greet(x::Person, y::Animal) = println(\"$x pats 🫳 $y\")"
   ]
  },
  {
   "cell_type": "code",
   "execution_count": null,
   "metadata": {
    "slideshow": {
     "slide_type": "fragment"
    }
   },
   "outputs": [],
   "source": [
    "greet(x::Cat, y) = println(\"$x meows 🐈 at $y\")"
   ]
  },
  {
   "cell_type": "markdown",
   "metadata": {
    "slideshow": {
     "slide_type": "subslide"
    }
   },
   "source": [
    "Julia will always pick the *most specific* method that matches the provided function arguments."
   ]
  },
  {
   "cell_type": "code",
   "execution_count": null,
   "metadata": {},
   "outputs": [],
   "source": [
    "fluffy = Cat(\"fluffy\")\n",
    "\n",
    "greet(alice, fluffy)"
   ]
  },
  {
   "cell_type": "code",
   "execution_count": null,
   "metadata": {
    "slideshow": {
     "slide_type": "fragment"
    }
   },
   "outputs": [],
   "source": [
    "greet(fluffy, alice)"
   ]
  },
  {
   "cell_type": "code",
   "execution_count": null,
   "metadata": {
    "slideshow": {
     "slide_type": "subslide"
    }
   },
   "outputs": [],
   "source": [
    "struct Dog <: Animal\n",
    "    name::String\n",
    "end\n",
    "\n",
    "greet(x::Dog, y) = println(\"$x 🐩 barks at $y\")\n",
    "\n",
    "greet(x::Dog, y::Person) = println(\"$x licks 🐶 $y's face\")\n",
    "\n",
    "greet(x::Dog, y::Dog) = println(\"$x sniffs $y\")"
   ]
  },
  {
   "cell_type": "code",
   "execution_count": null,
   "metadata": {
    "slideshow": {
     "slide_type": "fragment"
    }
   },
   "outputs": [],
   "source": [
    "fido = Dog(\"fido\")\n",
    "rex = Dog(\"rex\")\n",
    "\n",
    "greet(alice, fido)"
   ]
  },
  {
   "cell_type": "code",
   "execution_count": null,
   "metadata": {
    "slideshow": {
     "slide_type": "fragment"
    }
   },
   "outputs": [],
   "source": [
    "greet(fido, fluffy)"
   ]
  },
  {
   "cell_type": "code",
   "execution_count": null,
   "metadata": {
    "slideshow": {
     "slide_type": "fragment"
    }
   },
   "outputs": [],
   "source": [
    "greet(fido, bob)"
   ]
  },
  {
   "cell_type": "code",
   "execution_count": null,
   "metadata": {
    "slideshow": {
     "slide_type": "fragment"
    }
   },
   "outputs": [],
   "source": [
    "greet(fido, rex)"
   ]
  },
  {
   "cell_type": "markdown",
   "metadata": {
    "slideshow": {
     "slide_type": "subslide"
    }
   },
   "source": [
    "If you want to know which `greet` method will be called for a given set of arguments, you can use `@which` to check:"
   ]
  },
  {
   "cell_type": "code",
   "execution_count": null,
   "metadata": {},
   "outputs": [],
   "source": [
    "@which greet(alice, fido)"
   ]
  },
  {
   "cell_type": "markdown",
   "metadata": {
    "slideshow": {
     "slide_type": "fragment"
    }
   },
   "source": [
    "You can list all of the methods of a given function with `methods`:"
   ]
  },
  {
   "cell_type": "code",
   "execution_count": null,
   "metadata": {},
   "outputs": [],
   "source": [
    "methods(greet)"
   ]
  },
  {
   "cell_type": "markdown",
   "metadata": {
    "slideshow": {
     "slide_type": "subslide"
    }
   },
   "source": [
    "## Modules\n",
    "\n",
    "Modules in Julia are used to organize code into namespaces."
   ]
  },
  {
   "cell_type": "code",
   "execution_count": null,
   "metadata": {
    "slideshow": {
     "slide_type": "fragment"
    }
   },
   "outputs": [],
   "source": [
    "module MyUsefulModule\n",
    "\n",
    "export hello \n",
    "\n",
    "hello() = println(\"hello world\")\n",
    "goodbye() = println(\"goodbye world\")\n",
    "\n",
    "end\n",
    "\n",
    "MyUsefulModule.hello()"
   ]
  },
  {
   "cell_type": "markdown",
   "metadata": {
    "slideshow": {
     "slide_type": "subslide"
    }
   },
   "source": [
    "The `using` command brings any `export`ed symbols from a module into the current namespace:"
   ]
  },
  {
   "cell_type": "code",
   "execution_count": null,
   "metadata": {},
   "outputs": [],
   "source": [
    "using .MyUsefulModule\n",
    "hello()\n",
    "goodbye()\n"
   ]
  },
  {
   "cell_type": "markdown",
   "metadata": {
    "slideshow": {
     "slide_type": "subslide"
    }
   },
   "source": [
    "## Using Packages\n",
    "\n",
    "Julia has a built-in package manager called `Pkg`. It handles installing packages and managing all your package environments. "
   ]
  },
  {
   "cell_type": "markdown",
   "metadata": {
    "slideshow": {
     "slide_type": "fragment"
    }
   },
   "source": [
    "A package *environment* represents a single set of installed packages. Let's activate the environment for this talk:"
   ]
  },
  {
   "cell_type": "code",
   "execution_count": null,
   "metadata": {},
   "outputs": [],
   "source": [
    "using Pkg\n",
    "Pkg.activate(\".\")"
   ]
  },
  {
   "cell_type": "markdown",
   "metadata": {},
   "source": [
    "(this is similar to `source venv/bin/activate` in a Python virtual environment)"
   ]
  },
  {
   "cell_type": "markdown",
   "metadata": {
    "slideshow": {
     "slide_type": "subslide"
    }
   },
   "source": [
    "We can install a package in our current environment. This will only affect that environment, so we can safely do this without breaking any other Julia projects we might be working on:"
   ]
  },
  {
   "cell_type": "code",
   "execution_count": null,
   "metadata": {},
   "outputs": [],
   "source": [
    "Pkg.add(\"Colors\")"
   ]
  },
  {
   "cell_type": "markdown",
   "metadata": {
    "slideshow": {
     "slide_type": "subslide"
    }
   },
   "source": [
    "The `Project.toml` file gives a concise description of the packages we've added to this environment:"
   ]
  },
  {
   "cell_type": "code",
   "execution_count": null,
   "metadata": {},
   "outputs": [],
   "source": [
    "run(`cat Project.toml`)"
   ]
  },
  {
   "cell_type": "markdown",
   "metadata": {
    "slideshow": {
     "slide_type": "fragment"
    }
   },
   "source": [
    "The package manager also generates a complete manifest of every package that is installed, including all the transitive dependencies and their versions. You can use this to reproduce a given package environment exactly:"
   ]
  },
  {
   "cell_type": "code",
   "execution_count": null,
   "metadata": {
    "slideshow": {
     "slide_type": "fragment"
    }
   },
   "outputs": [],
   "source": [
    "run(`cat Manifest.toml`)"
   ]
  },
  {
   "cell_type": "markdown",
   "metadata": {
    "slideshow": {
     "slide_type": "slide"
    }
   },
   "source": [
    "## Comparing Packages with Python\n",
    "| Python    | Julia                                                                                                                                                                                        |\n",
    "| --------- | -------------------------------------------------------------------------------------------------------------------------------------------------------------------------------------------- |\n",
    "| Pandas    | [Dataframes.jl](https://github.com/JuliaData/DataFrames.jl)                                                                                                                                  |\n",
    "| Numpy     | **Base** / [Standard Library - Statistics](https://github.com/JuliaStats/Statistics.jl)                                                                                                      |\n",
    "| Sklearn   | [MLJ.jl](https://github.com/alan-turing-institute/MLJ.jl) / [ScikitLearn.jl](https://github.com/cstjean/ScikitLearn.jl) / [Flux.jl](https://github.com/FluxML/Flux.jl)                       |\n",
    "| Plotly    | [Plots.jl](https://github.com/JuliaPlots/Plots.jl) / [UnicodePlots.jl](https://github.com/JuliaPlots/UnicodePlots.jl)                                                                        |\n",
    "| Loguru    | [Standard Library - Logging](https://docs.julialang.org/en/v1/stdlib/Logging/)                                                                                                               |\n",
    "| Pickle    | [Standard Library - Serialisation](https://docs.julialang.org/en/v1/stdlib/Serialization/) / [HDF5.jl](https://github.com/JuliaIO/HDF5.jl) |\n",
    "| Profiling | [Standard Library - Profiling](https://docs.julialang.org/en/v1/stdlib/Profile/)                                                                                                             |\n",
    "| Requests  | [Standard Library - Downloads](https://docs.julialang.org/en/v1/stdlib/Downloads/) / [HTTP.jl](https://github.com/JuliaWeb/HTTP.jl)                                                          |\n",
    "| Dask      | [Standard Library - Distributed](https://docs.julialang.org/en/v1/stdlib/Distributed/) / [Dagger.jl](https://github.com/JuliaParallel/Dagger.jl)                                             |\n",
    "| unittest  | [Standard Library - Test](https://docs.julialang.org/en/v1/stdlib/Test/)                                                                                                                     |\n",
    "| tqdm      | [ProgressMeter.jl](https://github.com/timholy/ProgressMeter.jl)                                                                                                                              |\n"
   ]
  },
  {
   "cell_type": "markdown",
   "metadata": {
    "slideshow": {
     "slide_type": "subslide"
    }
   },
   "source": [
    "## Example: Representing Colors and Images with Colors.jl\n",
    "\n",
    "Let's take a tour of one of my favorite packages, Colors.jl, and show off some feature's of Julia's arrays along the way. "
   ]
  },
  {
   "cell_type": "markdown",
   "metadata": {
    "slideshow": {
     "slide_type": "fragment"
    }
   },
   "source": [
    "We can load a package from the current environment with `using`:"
   ]
  },
  {
   "cell_type": "code",
   "execution_count": null,
   "metadata": {},
   "outputs": [],
   "source": [
    "using Colors: RGB  # For now, just bring the `RGB` name into scope"
   ]
  },
  {
   "cell_type": "code",
   "execution_count": null,
   "metadata": {
    "slideshow": {
     "slide_type": "subslide"
    }
   },
   "outputs": [],
   "source": [
    "RGB(1, 0, 0)"
   ]
  },
  {
   "cell_type": "markdown",
   "metadata": {
    "slideshow": {
     "slide_type": "fragment"
    }
   },
   "source": [
    "The `RGB` type from Colors.jl knows how to render itself as an actual colored `div` when running in Jupyter. We can also print its value as a string if we want:"
   ]
  },
  {
   "cell_type": "code",
   "execution_count": null,
   "metadata": {},
   "outputs": [],
   "source": [
    "print(RGB(1, 0, 0))"
   ]
  },
  {
   "cell_type": "markdown",
   "metadata": {
    "slideshow": {
     "slide_type": "subslide"
    }
   },
   "source": [
    "Julia arrays are fully generic, so we can create an array of colors:"
   ]
  },
  {
   "cell_type": "code",
   "execution_count": null,
   "metadata": {
    "slideshow": {
     "slide_type": "fragment"
    }
   },
   "outputs": [],
   "source": [
    "C = [RGB(i, j, 0) for i in 0:0.1:1, j in 0:0.1:1]"
   ]
  },
  {
   "cell_type": "code",
   "execution_count": null,
   "metadata": {
    "slideshow": {
     "slide_type": "fragment"
    }
   },
   "outputs": [],
   "source": [
    "typeof(C)"
   ]
  },
  {
   "cell_type": "markdown",
   "metadata": {
    "slideshow": {
     "slide_type": "subslide"
    }
   },
   "source": [
    "C is an array like any other, so we can index into it and slice it:"
   ]
  },
  {
   "cell_type": "code",
   "execution_count": null,
   "metadata": {},
   "outputs": [],
   "source": [
    " C[8, 2]"
   ]
  },
  {
   "cell_type": "code",
   "execution_count": null,
   "metadata": {
    "slideshow": {
     "slide_type": "fragment"
    }
   },
   "outputs": [],
   "source": [
    "C[:, 6]"
   ]
  },
  {
   "cell_type": "markdown",
   "metadata": {
    "slideshow": {
     "slide_type": "subslide"
    }
   },
   "source": [
    "Let's pull out the red channel from our image `C`:"
   ]
  },
  {
   "cell_type": "code",
   "execution_count": null,
   "metadata": {},
   "outputs": [],
   "source": [
    "using Colors: red, green, blue"
   ]
  },
  {
   "cell_type": "markdown",
   "metadata": {
    "slideshow": {
     "slide_type": "fragment"
    }
   },
   "source": [
    "If you don't know what a function does, you can use the `?` operator to access its docstring:"
   ]
  },
  {
   "cell_type": "code",
   "execution_count": null,
   "metadata": {
    "slideshow": {
     "slide_type": "-"
    }
   },
   "outputs": [],
   "source": [
    "?red"
   ]
  },
  {
   "cell_type": "code",
   "execution_count": null,
   "metadata": {
    "slideshow": {
     "slide_type": "fragment"
    }
   },
   "outputs": [],
   "source": [
    "red(C[8, 8])"
   ]
  },
  {
   "cell_type": "markdown",
   "metadata": {
    "slideshow": {
     "slide_type": "subslide"
    }
   },
   "source": [
    "### Broadcasting\n",
    "\n",
    "To get the red channel of each element of `C`, we can use *broadcasting*. The syntax `f.(x)` applies the function `f` to each element of `x`:"
   ]
  },
  {
   "cell_type": "code",
   "execution_count": null,
   "metadata": {
    "slideshow": {
     "slide_type": "fragment"
    }
   },
   "outputs": [],
   "source": [
    "red.(C)"
   ]
  },
  {
   "cell_type": "markdown",
   "metadata": {
    "slideshow": {
     "slide_type": "subslide"
    }
   },
   "source": [
    "That's not very visual. Let's render that red channel as a grayscale image:"
   ]
  },
  {
   "cell_type": "code",
   "execution_count": null,
   "metadata": {
    "scrolled": false,
    "slideshow": {
     "slide_type": "fragment"
    }
   },
   "outputs": [],
   "source": [
    "using Colors: Gray\n",
    "\n",
    "Gray.(red.(C))"
   ]
  },
  {
   "cell_type": "markdown",
   "metadata": {
    "slideshow": {
     "slide_type": "subslide"
    }
   },
   "source": [
    "Or we can put get red channel back:"
   ]
  },
  {
   "cell_type": "code",
   "execution_count": null,
   "metadata": {
    "scrolled": false,
    "slideshow": {
     "slide_type": "fragment"
    }
   },
   "outputs": [],
   "source": [
    "RGB.(red.(C),0,0)"
   ]
  },
  {
   "cell_type": "markdown",
   "metadata": {
    "slideshow": {
     "slide_type": "subslide"
    }
   },
   "source": [
    "Julia's broadcasting provides guaranteed *loop fusion*. That means that if you do `Gray.(red.(x))`, the language guarantees that it will do only one loop over the elements of `x`, computing `Gray(red(x_i))` for each `x_i` in `x`. \n",
    "\n",
    "See https://julialang.org/blog/2017/01/moredots/ for more. "
   ]
  },
  {
   "cell_type": "markdown",
   "metadata": {
    "slideshow": {
     "slide_type": "slide"
    }
   },
   "source": [
    "# Julia is Fast\n",
    "\n",
    "* I claimed at the beginning of this talk that Julia has performance on par with C. Let's prove it!\n",
    "* To show this, I'll implement the basic `sum` function in Julia, C, and Python so we can compare them:"
   ]
  },
  {
   "cell_type": "markdown",
   "metadata": {
    "slideshow": {
     "slide_type": "subslide"
    }
   },
   "source": [
    "Let's start with Julia:"
   ]
  },
  {
   "cell_type": "code",
   "execution_count": null,
   "metadata": {
    "slideshow": {
     "slide_type": "-"
    }
   },
   "outputs": [],
   "source": [
    "\"\"\"\n",
    "Naive implementation of sum. Works for any iterable `x` with any element type.\n",
    "\"\"\"\n",
    "function my_sum(x)\n",
    "    result = zero(eltype(x))\n",
    "    for element in x\n",
    "        result += element\n",
    "    end\n",
    "    return result\n",
    "end"
   ]
  },
  {
   "cell_type": "markdown",
   "metadata": {
    "slideshow": {
     "slide_type": "subslide"
    }
   },
   "source": [
    "And let's create some data to test with:"
   ]
  },
  {
   "cell_type": "code",
   "execution_count": null,
   "metadata": {},
   "outputs": [],
   "source": [
    "data = rand(Float64, 10^7)"
   ]
  },
  {
   "cell_type": "markdown",
   "metadata": {
    "slideshow": {
     "slide_type": "subslide"
    }
   },
   "source": [
    "To measure the performance of `my_sum`, we'll use the BenchmarkTools.jl package. "
   ]
  },
  {
   "cell_type": "code",
   "execution_count": null,
   "metadata": {},
   "outputs": [],
   "source": [
    "using BenchmarkTools"
   ]
  },
  {
   "cell_type": "code",
   "execution_count": null,
   "metadata": {
    "slideshow": {
     "slide_type": "fragment"
    }
   },
   "outputs": [],
   "source": [
    "@benchmark my_sum($data)"
   ]
  },
  {
   "cell_type": "markdown",
   "metadata": {
    "slideshow": {
     "slide_type": "fragment"
    }
   },
   "source": [
    "In this case, we only care about the minimum time. The `@btime` macro is a shorthand to print just that minimum time:"
   ]
  },
  {
   "cell_type": "code",
   "execution_count": null,
   "metadata": {},
   "outputs": [],
   "source": [
    "@btime my_sum($data)"
   ]
  },
  {
   "cell_type": "markdown",
   "metadata": {
    "slideshow": {
     "slide_type": "subslide"
    }
   },
   "source": [
    "Let's compare this with C. It's easy to call functions from C shared libraries in Julia:"
   ]
  },
  {
   "cell_type": "code",
   "execution_count": null,
   "metadata": {},
   "outputs": [],
   "source": [
    "\"\"\"\n",
    "Call the `strcmp` function from `libc.so`\n",
    "\"\"\"\n",
    "function c_compare(x::String, y::String)\n",
    "    # We have to tell the compiler that this C function returns an `int` and \n",
    "    # expects two `char *` inputs. The `Cint` and `Cstring` types are convenient\n",
    "    # shorthands for those:\n",
    "    ccall(:strcmp, Cint, (Cstring, Cstring), x, y)\n",
    "end"
   ]
  },
  {
   "cell_type": "code",
   "execution_count": null,
   "metadata": {
    "slideshow": {
     "slide_type": "fragment"
    }
   },
   "outputs": [],
   "source": [
    "c_compare(\"hello\", \"hello\")"
   ]
  },
  {
   "cell_type": "markdown",
   "metadata": {
    "slideshow": {
     "slide_type": "fragment"
    }
   },
   "source": [
    "Calling C functions has very little overhead:"
   ]
  },
  {
   "cell_type": "code",
   "execution_count": null,
   "metadata": {},
   "outputs": [],
   "source": [
    "@btime c_compare($(\"hello\"), $(\"hello\"))"
   ]
  },
  {
   "cell_type": "markdown",
   "metadata": {
    "slideshow": {
     "slide_type": "subslide"
    }
   },
   "source": [
    "Let's create a C implementation of `my_sum`. We can do that without leaving Julia by piping some code directly to GCC:"
   ]
  },
  {
   "cell_type": "code",
   "execution_count": null,
   "metadata": {},
   "outputs": [],
   "source": [
    "C_code = \"\"\"\n",
    "\n",
    "#include <stddef.h>  // For `size_t`\n",
    "\n",
    "// Note: our Julia code works for any type, but the C implementation \n",
    "// is only for `double`.\n",
    "\n",
    "double c_sum(size_t n, double *X) {\n",
    "    double s = 0.0;\n",
    "    size_t i;\n",
    "    for (i = 0; i < n; ++i) {\n",
    "        s += X[i];\n",
    "    }\n",
    "    return s;\n",
    "}\n",
    "\n",
    "\"\"\";"
   ]
  },
  {
   "cell_type": "markdown",
   "metadata": {
    "slideshow": {
     "slide_type": "fragment"
    }
   },
   "source": [
    "Now let's generate a name for our shared library:"
   ]
  },
  {
   "cell_type": "code",
   "execution_count": null,
   "metadata": {},
   "outputs": [],
   "source": [
    "# dlext gives the correct file extension for a shared library on this platform\n",
    "using Libdl: dlext\n",
    "const Clib = tempname() * \".\" * dlext"
   ]
  },
  {
   "cell_type": "markdown",
   "metadata": {
    "slideshow": {
     "slide_type": "subslide"
    }
   },
   "source": [
    "To send the code to GCC, we can use `open()` on a command to write directly to the `stdin` of that command as if it were any other file- or buffer-like object:"
   ]
  },
  {
   "cell_type": "code",
   "execution_count": null,
   "metadata": {},
   "outputs": [],
   "source": [
    "open(`gcc -fPIC -O3 -msse3 -xc -shared -o $Clib -`, \"w\") do cmd\n",
    "    print(cmd, C_code) \n",
    "end"
   ]
  },
  {
   "cell_type": "markdown",
   "metadata": {
    "slideshow": {
     "slide_type": "fragment"
    }
   },
   "source": [
    "Now we can define a Julia function that calls the C function we just compiled:"
   ]
  },
  {
   "cell_type": "code",
   "execution_count": null,
   "metadata": {},
   "outputs": [],
   "source": [
    "# The return type and argument types must match the signature we declared above:\n",
    "# \n",
    "#   double c_sum(size_t n, double *X) \n",
    "# \n",
    "c_sum(X::Array{Float64}) = ccall((\"c_sum\", Clib), Cdouble, (Csize_t, Ptr{Cdouble}), length(X), X)"
   ]
  },
  {
   "cell_type": "markdown",
   "metadata": {
    "slideshow": {
     "slide_type": "subslide"
    }
   },
   "source": [
    "Now let's measure the performance of the pure C function:"
   ]
  },
  {
   "cell_type": "code",
   "execution_count": null,
   "metadata": {},
   "outputs": [],
   "source": [
    "@btime c_sum($data)"
   ]
  },
  {
   "cell_type": "markdown",
   "metadata": {
    "slideshow": {
     "slide_type": "subslide"
    }
   },
   "source": [
    "Let's plot the result using the Plots.jl package:"
   ]
  },
  {
   "cell_type": "code",
   "execution_count": null,
   "metadata": {},
   "outputs": [],
   "source": [
    "using Plots"
   ]
  },
  {
   "cell_type": "code",
   "execution_count": null,
   "metadata": {
    "slideshow": {
     "slide_type": "fragment"
    }
   },
   "outputs": [],
   "source": [
    "results = [\n",
    "    \"my_sum (Julia)\" => 8.569,\n",
    "    \"c_sum (C)\" => 8.52\n",
    "]\n",
    "\n",
    "bar(first.(results), last.(results), xlabel=\"function\", ylabel=\"time (ms, shorter is better)\", legend=nothing)"
   ]
  },
  {
   "cell_type": "markdown",
   "metadata": {
    "slideshow": {
     "slide_type": "subslide"
    }
   },
   "source": [
    "Our naive Julia code is just as fast as our naive C code! \n",
    "\n",
    "Is that as fast as we can go? What about Julia's built-in `sum()` function:"
   ]
  },
  {
   "cell_type": "code",
   "execution_count": null,
   "metadata": {
    "slideshow": {
     "slide_type": "fragment"
    }
   },
   "outputs": [],
   "source": [
    "@btime sum($data)"
   ]
  },
  {
   "cell_type": "code",
   "execution_count": null,
   "metadata": {
    "slideshow": {
     "slide_type": "fragment"
    }
   },
   "outputs": [],
   "source": [
    "results = [\n",
    "    \"my_sum (Julia)\" => 8.569,\n",
    "    \"c_sum (C)\" => 8.52,\n",
    "    \"sum (Julia)\" => 1.3,\n",
    "]\n",
    "\n",
    "bar(first.(results), last.(results), xlabel=\"function\", ylabel=\"time (ms, shorter is better)\", legend=nothing)"
   ]
  },
  {
   "cell_type": "markdown",
   "metadata": {
    "slideshow": {
     "slide_type": "subslide"
    }
   },
   "source": [
    "What's going on? Is the `sum()` function using some built-in behavior we don't have access to?"
   ]
  },
  {
   "cell_type": "markdown",
   "metadata": {
    "slideshow": {
     "slide_type": "fragment"
    }
   },
   "source": [
    "Nope--we can achieve that result easily with a few modifications:"
   ]
  },
  {
   "cell_type": "code",
   "execution_count": null,
   "metadata": {},
   "outputs": [],
   "source": [
    "function my_fast_sum(x)\n",
    "    result = zero(eltype(x))\n",
    "    \n",
    "    # `@inbounds` is a macro which disables all bounds checking within a given block. \n",
    "    #\n",
    "    # `@simd` enables additional vector operations by indicating that it is OK to potentially\n",
    "    # evaluate the loop out-of-order. \n",
    "    @inbounds @simd for element in x\n",
    "        result += element\n",
    "    end\n",
    "    result\n",
    "end"
   ]
  },
  {
   "cell_type": "code",
   "execution_count": null,
   "metadata": {
    "slideshow": {
     "slide_type": "subslide"
    }
   },
   "outputs": [],
   "source": [
    "@btime my_fast_sum($data)"
   ]
  },
  {
   "cell_type": "code",
   "execution_count": null,
   "metadata": {},
   "outputs": [],
   "source": [
    "results = [\n",
    "    \"my_sum (Julia)\" => 8.569,\n",
    "    \"c_sum (C)\" => 8.52,\n",
    "    \"sum (Julia)\" => 1.3,\n",
    "    \"my_fast_sum (Julia)\" => 1.28,\n",
    "]\n",
    "\n",
    "bar(first.(results), last.(results), xlabel=\"function\", ylabel=\"time (ms, shorter is better)\", legend=nothing)"
   ]
  },
  {
   "cell_type": "markdown",
   "metadata": {
    "slideshow": {
     "slide_type": "subslide"
    }
   },
   "source": [
    "With some pretty simple changes, we were able to create a pure-Julia function which is twice as fast as our naive C function while still being clear and completely generic:"
   ]
  },
  {
   "cell_type": "code",
   "execution_count": null,
   "metadata": {
    "slideshow": {
     "slide_type": "fragment"
    }
   },
   "outputs": [],
   "source": [
    "my_fast_sum([1, 2.5, π])"
   ]
  },
  {
   "cell_type": "markdown",
   "metadata": {
    "slideshow": {
     "slide_type": "subslide"
    }
   },
   "source": [
    "Just for reference, let's compare with Python. It's easy to call Python code from Julia too--we just need the `PyCall` package:"
   ]
  },
  {
   "cell_type": "code",
   "execution_count": null,
   "metadata": {},
   "outputs": [],
   "source": [
    "using PyCall"
   ]
  },
  {
   "cell_type": "code",
   "execution_count": null,
   "metadata": {
    "slideshow": {
     "slide_type": "fragment"
    }
   },
   "outputs": [],
   "source": [
    "py_math = pyimport(\"math\")\n",
    "py_math.sin(1.0)"
   ]
  },
  {
   "cell_type": "markdown",
   "metadata": {
    "slideshow": {
     "slide_type": "subslide"
    }
   },
   "source": [
    "Just as we did with C, we can quickly define a Python sum function without leaving Julia:"
   ]
  },
  {
   "cell_type": "code",
   "execution_count": null,
   "metadata": {
    "slideshow": {
     "slide_type": "fragment"
    }
   },
   "outputs": [],
   "source": [
    "# The PyCall package lets us define python functions directly from Julia:\n",
    "\n",
    "py\"\"\"\n",
    "def mysum(a):\n",
    "    s = 0.0\n",
    "    for x in a:\n",
    "        s = s + x\n",
    "    return s\n",
    "\"\"\"\n",
    "\n",
    "# mysum_py is a reference to the Python mysum function\n",
    "py_sum = py\"\"\"mysum\"\"\"o"
   ]
  },
  {
   "cell_type": "markdown",
   "metadata": {
    "slideshow": {
     "slide_type": "fragment"
    }
   },
   "source": [
    "Let's make sure we're getting similar answers everywhere:"
   ]
  },
  {
   "cell_type": "code",
   "execution_count": null,
   "metadata": {},
   "outputs": [],
   "source": [
    "py_sum(data) ≈ c_sum(data) ≈ sum(data) ≈ my_sum(data) ≈ my_fast_sum(data)"
   ]
  },
  {
   "cell_type": "code",
   "execution_count": null,
   "metadata": {
    "slideshow": {
     "slide_type": "subslide"
    }
   },
   "outputs": [],
   "source": [
    "@btime py_sum($data)"
   ]
  },
  {
   "cell_type": "code",
   "execution_count": null,
   "metadata": {},
   "outputs": [],
   "source": [
    "results = [\n",
    "    \"my_sum (Julia)\" => 8.569,\n",
    "    \"c_sum (C)\" => 8.52,\n",
    "    \"sum (Julia)\" => 1.3,\n",
    "    \"my_fast_sum (Julia)\" => 1.28,\n",
    "    \"py_sum (Python)\" => 443.4,\n",
    "]\n",
    "\n",
    "bar(first.(results), last.(results), xlabel=\"function\", ylabel=\"time (ms, shorter is better)\", legend=nothing)"
   ]
  },
  {
   "cell_type": "markdown",
   "metadata": {
    "slideshow": {
     "slide_type": "subslide"
    }
   },
   "source": [
    "### What about Numpy or Cython?\n",
    "\n",
    "* Of course, there are faster ways to sum a vector of `double`s in Python than a `for` loop. \n",
    "* `numpy.sum()` is just as fast as Julia's `sum()` for large vectors...\n",
    "* ...but there are some caveats:\n",
    "  * NumPy is only efficient for a pre-determined set of numeric types. \n",
    "  * NumPy cannot be extended without switching into an entirely different programming language, build system, and code environment. \n",
    "  * So, if `numpy.sum()` happens to cover the cases you actually need, then go for it!\n",
    "  * But if you want to be able to write efficient code that does not happen to cover the specific set of functions and types in NumPy, then you need Julia. "
   ]
  },
  {
   "cell_type": "code",
   "execution_count": null,
   "metadata": {
    "slideshow": {
     "slide_type": "subslide"
    }
   },
   "outputs": [],
   "source": [
    "struct Point{T}\n",
    "    x::T\n",
    "    y::T\n",
    "end\n",
    "\n",
    "function Base.zero(::Type{Point{T}}) where {T} \n",
    "    Point{T}(zero(T), zero(T))\n",
    "end\n",
    "    \n",
    "Base.:+(p1::Point, p2::Point) = Point(p1.x + p2.x, p1.y + p2.y)\n",
    "\n",
    "points = [Point(rand(), rand()) for _ in 1:10^7];"
   ]
  },
  {
   "cell_type": "code",
   "execution_count": null,
   "metadata": {
    "slideshow": {
     "slide_type": "fragment"
    }
   },
   "outputs": [],
   "source": [
    "@btime my_fast_sum($points)"
   ]
  },
  {
   "cell_type": "markdown",
   "metadata": {
    "slideshow": {
     "slide_type": "skip"
    }
   },
   "source": [
    "@code_native my_fast_sum(points)"
   ]
  },
  {
   "cell_type": "markdown",
   "metadata": {
    "slideshow": {
     "slide_type": "slide"
    }
   },
   "source": [
    "# Bonus Features of Julia"
   ]
  },
  {
   "cell_type": "markdown",
   "metadata": {
    "slideshow": {
     "slide_type": "subslide"
    }
   },
   "source": [
    "## Asynchronous Tasks\n",
    "\n",
    "Julia supports asynchronous cooperative tasks, with `libuv` providing the backend. These tasks are great for handling operations like IO or network requests:"
   ]
  },
  {
   "cell_type": "code",
   "execution_count": null,
   "metadata": {
    "slideshow": {
     "slide_type": "fragment"
    }
   },
   "outputs": [],
   "source": [
    "using HTTP: request"
   ]
  },
  {
   "cell_type": "code",
   "execution_count": null,
   "metadata": {},
   "outputs": [],
   "source": [
    "for i in 1:5\n",
    "    @async begin\n",
    "        println(\"starting request $i\")\n",
    "        r = request(\"GET\", \"https://jsonplaceholder.typicode.com/posts/$i\")\n",
    "        println(\"got response $i with status $(r.status)\")\n",
    "    end\n",
    "end\n",
    "        "
   ]
  },
  {
   "cell_type": "markdown",
   "metadata": {
    "slideshow": {
     "slide_type": "subslide"
    }
   },
   "source": [
    "## Multi-Threading\n",
    "\n",
    "\n",
    "Julia also supports parallel and distributed computing (see https://docs.julialang.org/en/v1/manual/parallel-computing/ for more). In addition, Julia 1.3 implemented a new feature, the Parallel Task Run-Time (PATR), which allows for *composable* multi-threading. It is now possible for a parallelized Julia function to call other parallelized code without over-subsubscribing the available processors. See \n",
    "https://julialang.org/blog/2019/07/multithreading/ for more. "
   ]
  },
  {
   "cell_type": "code",
   "execution_count": null,
   "metadata": {
    "slideshow": {
     "slide_type": "fragment"
    }
   },
   "outputs": [],
   "source": [
    "using Base.Threads: @spawn\n",
    "\n",
    "\n",
    "function fib(n::Int)\n",
    "    if n < 2\n",
    "        return n\n",
    "    end\n",
    "    # `@spawn` creates a new parallel task. Tasks are lightweight and can be\n",
    "    # created at will. The Julia Parallel Task Run-Time handles scheduling the\n",
    "    # tasks to native threads in a depth first manner. That means that you can\n",
    "    # write parallel code which calls other parallel code without over-subscribing\n",
    "    # your available processors. \n",
    "    t = @spawn fib(n - 2)\n",
    "    return fib(n - 1) + fetch(t)\n",
    "end "
   ]
  },
  {
   "cell_type": "code",
   "execution_count": null,
   "metadata": {
    "slideshow": {
     "slide_type": "subslide"
    }
   },
   "outputs": [],
   "source": [
    "println(\"Number of threads = $(Threads.nthreads())\")\n",
    "a = zeros(10)\n",
    "Threads.@threads for i = 1:10\n",
    "    a[i] = Threads.threadid()\n",
    "end\n",
    "println(\"Thread IDs: $a\")"
   ]
  },
  {
   "cell_type": "markdown",
   "metadata": {
    "slideshow": {
     "slide_type": "subslide"
    }
   },
   "source": [
    "## No Implicit Copying\n",
    "\n",
    "Values are never copied unless you intentionally copy or convert them. That means that functions can mutate their input arguments to efficiently do work in-place:"
   ]
  },
  {
   "cell_type": "code",
   "execution_count": null,
   "metadata": {
    "slideshow": {
     "slide_type": "fragment"
    }
   },
   "outputs": [],
   "source": [
    "\"\"\"\n",
    "Invert the sign of the vector `x`, operating in-place to avoid any memory allocation.\n",
    "\"\"\"\n",
    "function invert!(x::AbstractVector)\n",
    "    for i in eachindex(x)\n",
    "        x[i] = -x[i]\n",
    "    end\n",
    "end"
   ]
  },
  {
   "cell_type": "markdown",
   "metadata": {},
   "source": [
    "Note: the `!` in the function name is just a convention: it signals to readers of the code\n",
    "that the input argument `x` will be modified."
   ]
  },
  {
   "cell_type": "code",
   "execution_count": null,
   "metadata": {
    "slideshow": {
     "slide_type": "subslide"
    }
   },
   "outputs": [],
   "source": [
    "x = [1, 2, 3]\n",
    "invert!(x)\n",
    "x"
   ]
  },
  {
   "cell_type": "code",
   "execution_count": null,
   "metadata": {
    "slideshow": {
     "slide_type": "fragment"
    }
   },
   "outputs": [],
   "source": [
    "@btime invert!($x)"
   ]
  },
  {
   "cell_type": "markdown",
   "metadata": {
    "slideshow": {
     "slide_type": "subslide"
    }
   },
   "source": [
    "## Anything Can Be a Value\n",
    "\n",
    "Julia has no special rules about what can or cannot be assigned to a variable or passed to a function. "
   ]
  },
  {
   "cell_type": "markdown",
   "metadata": {
    "slideshow": {
     "slide_type": "subslide"
    }
   },
   "source": [
    "### Functions are Values\n",
    "\n",
    "A Julia function is a value like any other, so passing functions around and implementing higher-order functions is trivial:"
   ]
  },
  {
   "cell_type": "code",
   "execution_count": null,
   "metadata": {
    "slideshow": {
     "slide_type": "fragment"
    }
   },
   "outputs": [],
   "source": [
    "\"\"\"\n",
    "map_reduce: apply `operator` to each element in `array` and reduce pairwise via `reduction`\n",
    "\"\"\"\n",
    "function map_reduce(operator, reduction, array, initial_value)\n",
    "    result = initial_value\n",
    "    for item in array\n",
    "        result = reduction(result, operator(item))\n",
    "    end\n",
    "    result\n",
    "end"
   ]
  },
  {
   "cell_type": "code",
   "execution_count": null,
   "metadata": {
    "slideshow": {
     "slide_type": "fragment"
    }
   },
   "outputs": [],
   "source": [
    "map_reduce(sin, +, [1, 2, 3, 4], 0)"
   ]
  },
  {
   "cell_type": "markdown",
   "metadata": {
    "slideshow": {
     "slide_type": "subslide"
    }
   },
   "source": [
    "We can define `sum` in terms of `map_reduce`:"
   ]
  },
  {
   "cell_type": "code",
   "execution_count": null,
   "metadata": {
    "slideshow": {
     "slide_type": "-"
    }
   },
   "outputs": [],
   "source": [
    "fancy_sum(x) = map_reduce(identity, +, x, zero(eltype(x)))"
   ]
  },
  {
   "cell_type": "markdown",
   "metadata": {
    "slideshow": {
     "slide_type": "fragment"
    }
   },
   "source": [
    "The performance is just as good as our hand-written `sum` loop:"
   ]
  },
  {
   "cell_type": "code",
   "execution_count": null,
   "metadata": {
    "slideshow": {
     "slide_type": "-"
    }
   },
   "outputs": [],
   "source": [
    "@btime fancy_sum($data)"
   ]
  },
  {
   "cell_type": "markdown",
   "metadata": {},
   "source": [
    "To get all the way down to 5ms, we'd need to apply the same `@inbounds` and `@simd` annotations.  "
   ]
  },
  {
   "cell_type": "markdown",
   "metadata": {
    "slideshow": {
     "slide_type": "subslide"
    }
   },
   "source": [
    "### Types are Values\n",
    "\n",
    "Types can also be passed around as values and bound to variables with no special rules. This makes implementing factories or constructors easy:"
   ]
  },
  {
   "cell_type": "code",
   "execution_count": null,
   "metadata": {
    "slideshow": {
     "slide_type": "fragment"
    }
   },
   "outputs": [],
   "source": [
    "function empty_matrix(T::Type, rows::Integer, cols::Integer)\n",
    "    zeros(T, rows, cols)\n",
    "end"
   ]
  },
  {
   "cell_type": "code",
   "execution_count": null,
   "metadata": {
    "slideshow": {
     "slide_type": "fragment"
    }
   },
   "outputs": [],
   "source": [
    "empty_matrix(Int, 3, 3)"
   ]
  },
  {
   "cell_type": "code",
   "execution_count": null,
   "metadata": {
    "slideshow": {
     "slide_type": "fragment"
    }
   },
   "outputs": [],
   "source": [
    "empty_matrix(Point{Float64}, 3, 3)"
   ]
  },
  {
   "cell_type": "markdown",
   "metadata": {
    "slideshow": {
     "slide_type": "subslide"
    }
   },
   "source": [
    "### Expressions are Values\n",
    "\n",
    "Even the expressions that representing Julia code are represented as values in Julia. You can create an expression with the `:()` operator, and you can inspect it just like any other object. "
   ]
  },
  {
   "cell_type": "code",
   "execution_count": null,
   "metadata": {
    "slideshow": {
     "slide_type": "-"
    }
   },
   "outputs": [],
   "source": [
    "expr = :(1 + 2)"
   ]
  },
  {
   "cell_type": "markdown",
   "metadata": {
    "slideshow": {
     "slide_type": "fragment"
    }
   },
   "source": [
    "An expression has a `head` indicating what type of expression it is and zero or more `args`:"
   ]
  },
  {
   "cell_type": "code",
   "execution_count": null,
   "metadata": {
    "slideshow": {
     "slide_type": "-"
    }
   },
   "outputs": [],
   "source": [
    "expr.head"
   ]
  },
  {
   "cell_type": "code",
   "execution_count": null,
   "metadata": {
    "slideshow": {
     "slide_type": "-"
    }
   },
   "outputs": [],
   "source": [
    "expr.args"
   ]
  },
  {
   "cell_type": "markdown",
   "metadata": {
    "slideshow": {
     "slide_type": "subslide"
    }
   },
   "source": [
    "## Metaprogramming\n",
    "\n",
    "Since expressions are just values, we can easily write functions to manipulate them:"
   ]
  },
  {
   "cell_type": "code",
   "execution_count": null,
   "metadata": {
    "slideshow": {
     "slide_type": "fragment"
    }
   },
   "outputs": [],
   "source": [
    "switch_to_subtraction!(x::Any) = nothing\n",
    "\n",
    "\"\"\"\n",
    "Change all `+` function calls to `-` function calls. \n",
    "\n",
    "<sarcasm>\n",
    "Great for fixing sign errors in your code!\n",
    "</sarcasm>\n",
    "\"\"\"\n",
    "function switch_to_subtraction!(ex::Expr)\n",
    "    if ex.head == :call && ex.args[1] == :(+)\n",
    "        ex.args[1] = :(-)\n",
    "    end\n",
    "    for i in 2:length(ex.args)\n",
    "        switch_to_subtraction!(ex.args[i])\n",
    "    end\n",
    "end"
   ]
  },
  {
   "cell_type": "code",
   "execution_count": null,
   "metadata": {
    "slideshow": {
     "slide_type": "subslide"
    }
   },
   "outputs": [],
   "source": [
    "expr = :((1 + 2) * (3 + 4) * sqrt(2))"
   ]
  },
  {
   "cell_type": "code",
   "execution_count": null,
   "metadata": {
    "slideshow": {
     "slide_type": "fragment"
    }
   },
   "outputs": [],
   "source": [
    "switch_to_subtraction!(expr)\n",
    "\n",
    "expr"
   ]
  },
  {
   "cell_type": "markdown",
   "metadata": {
    "slideshow": {
     "slide_type": "subslide"
    }
   },
   "source": [
    "### Macros\n",
    "\n",
    "A macro is written just like a normal Julia function. The difference is that a macro operates on the *expression* itself, not on its value:"
   ]
  },
  {
   "cell_type": "code",
   "execution_count": null,
   "metadata": {
    "slideshow": {
     "slide_type": "fragment"
    }
   },
   "outputs": [],
   "source": [
    "\"\"\"\n",
    "Modify a given expression, replacing all string literals with \"cat\"\n",
    "\"\"\"\n",
    "macro more_cats(expr)\n",
    "    for i in eachindex(expr.args)\n",
    "        if expr.args[i] isa String\n",
    "            expr.args[i] = \"cat\"\n",
    "        end\n",
    "    end\n",
    "    return esc(expr)\n",
    "end"
   ]
  },
  {
   "cell_type": "markdown",
   "metadata": {
    "slideshow": {
     "slide_type": "fragment"
    }
   },
   "source": [
    "Macros are always called with the `@` prefix in Julia:"
   ]
  },
  {
   "cell_type": "code",
   "execution_count": null,
   "metadata": {},
   "outputs": [],
   "source": [
    "@more_cats println(\"hello world\")"
   ]
  },
  {
   "cell_type": "markdown",
   "metadata": {
    "slideshow": {
     "slide_type": "subslide"
    }
   },
   "source": [
    "`@macroexpand` shows the code that another macro will generate:"
   ]
  },
  {
   "cell_type": "code",
   "execution_count": null,
   "metadata": {
    "slideshow": {
     "slide_type": "-"
    }
   },
   "outputs": [],
   "source": [
    "@macroexpand @more_cats println(\"hello world\")"
   ]
  },
  {
   "cell_type": "markdown",
   "metadata": {
    "slideshow": {
     "slide_type": "subslide"
    }
   },
   "source": [
    "### Actually Useful Julia Macros"
   ]
  },
  {
   "cell_type": "markdown",
   "metadata": {
    "slideshow": {
     "slide_type": "fragment"
    }
   },
   "source": [
    "`@show` : print out the *name* of a variable and its value. Great for quick debugging:"
   ]
  },
  {
   "cell_type": "code",
   "execution_count": null,
   "metadata": {},
   "outputs": [],
   "source": [
    "x = 5\n",
    "@show x"
   ]
  },
  {
   "cell_type": "markdown",
   "metadata": {
    "slideshow": {
     "slide_type": "fragment"
    }
   },
   "source": [
    "`@time` measure the elapsed time of an expression and return the result of that expression:"
   ]
  },
  {
   "cell_type": "code",
   "execution_count": null,
   "metadata": {},
   "outputs": [],
   "source": [
    "@time sqrt(big(π))"
   ]
  },
  {
   "cell_type": "markdown",
   "metadata": {
    "slideshow": {
     "slide_type": "subslide"
    }
   },
   "source": [
    "`@showprogress`: Time each iteration of a loop and estimate how much longer it will take to finish:"
   ]
  },
  {
   "cell_type": "code",
   "execution_count": null,
   "metadata": {},
   "outputs": [],
   "source": [
    "using ProgressMeter: @showprogress"
   ]
  },
  {
   "cell_type": "code",
   "execution_count": null,
   "metadata": {},
   "outputs": [],
   "source": [
    "@showprogress for i in 1:100\n",
    "    sum(rand(10^7))\n",
    "end"
   ]
  },
  {
   "cell_type": "markdown",
   "metadata": {
    "slideshow": {
     "slide_type": "slide"
    }
   },
   "source": [
    "# What's Hard to Do in Julia?\n",
    "\n",
    "What is the compiler team working on making better? https://discourse.julialang.org/t/compiler-work-priorities/17623\n",
    "\n",
    "What are some subtle problems that the Julia team working on improving?\n",
    "\n",
    "\n"
   ]
  },
  {
   "cell_type": "markdown",
   "metadata": {
    "slideshow": {
     "slide_type": "subslide"
    }
   },
   "source": [
    "## Compiler Latency\n",
    "\n",
    "* The JIT compiler runs each time it sees a function being called with a new input type. \n",
    "* That makes the first call to every function slow, since you have to wait for the JIT.\n",
    "  * This makes Julia awkward to use for things like shell scripts or AWS lambda\n",
    "* Pre-compilation has very much improved this issue in recent years."
   ]
  },
  {
   "cell_type": "markdown",
   "metadata": {
    "slideshow": {
     "slide_type": "subslide"
    }
   },
   "source": [
    "## Static Compilation\n",
    "\n",
    "* To avoid the JIT lag, you can compile a Julia package to a standalone executable using [PackageCompiler.jl](https://github.com/JuliaLang/PackageCompiler.jl), but:\n",
    "    * This workflow is still under development, and you may sometimes run into interesting bugs\n",
    "    * The resulting libraries tend to be quite large"
   ]
  },
  {
   "cell_type": "markdown",
   "metadata": {
    "slideshow": {
     "slide_type": "subslide"
    }
   },
   "source": [
    "## Embedded Computing\n",
    "\n",
    "* It can be hard to run Julia on memory-limited systems, since you need the compiler living alongside your code. \n",
    "* Static compilation can help, but this isn't a well-developed workflow yet."
   ]
  },
  {
   "cell_type": "markdown",
   "metadata": {
    "slideshow": {
     "slide_type": "subslide"
    }
   },
   "source": [
    "## Static Analysis\n",
    "\n",
    "* There are some linting tools for Julia (like the `vscode-julia` extension for Visual Studio Code), but they are not as mature as languages like Python, C, Java, etc.\n",
    "* Static analysis of Julia is harder, since the language itself is dynamically typed. \n",
    "  * To be fair, static analysis of C++ is [undecidable](https://blog.reverberate.org/2013/08/parsing-c-is-literally-undecidable.html) but we still have tools that do a pretty good job most of the time. "
   ]
  },
  {
   "cell_type": "markdown",
   "metadata": {
    "slideshow": {
     "slide_type": "slide"
    }
   },
   "source": [
    "# Useful Julia Tools"
   ]
  },
  {
   "cell_type": "markdown",
   "metadata": {
    "slideshow": {
     "slide_type": "subslide"
    }
   },
   "source": [
    "## Julia-VSCode\n",
    "\n",
    "https://github.com/julia-vscode/julia-vscode\n",
    "\n",
    "* Code highlighting, snippets, linting, and completions\n",
    "* Integrated plot and table viewers\n",
    "* General extension support via the VSCode language server\n",
    "\n",
    "<img src=\"img/vscode.png\" width=\"700px\"></img>"
   ]
  },
  {
   "cell_type": "markdown",
   "metadata": {
    "slideshow": {
     "slide_type": "subslide"
    }
   },
   "source": [
    "## Flux.jl\n",
    "\n",
    "https://fluxml.ai/Flux.jl/stable/\n",
    "\n",
    "* Flexible library for machine learning built entirely in Julia\n",
    "* Feed-forward and recurrent neural nets\n",
    "* Gradients via automatic differentiation\n",
    "* GPU support via CuArrays.jl\n",
    "\n",
    "```julia\n",
    "m = Chain(\n",
    "  Dense(784, 32, σ),\n",
    "  Dense(32, 10), softmax\n",
    ")\n",
    "\n",
    "loss(x, y) = Flux.mse(m(x), y)\n",
    "ps = Flux.params(m)\n",
    "\n",
    "for i in 1:num_training_iters\n",
    "    Flux.train!(loss, ps, data, opt)\n",
    "end\n",
    "```"
   ]
  },
  {
   "cell_type": "markdown",
   "metadata": {
    "slideshow": {
     "slide_type": "subslide"
    }
   },
   "source": [
    "## DifferentialEquations.jl\n",
    "\n",
    "https://github.com/SciML/DifferentialEquations.jl\n",
    "\n",
    "* {stochastic | deterministic | ordinary | partial} differential equations\n",
    "* Automatic differentiation and sparsity detection\n",
    "* GPU support\n",
    "* Sensitivity analysis and parameter estimation\n",
    "* Access to pure-Julia solvers and existing C and Fortran solvers\n",
    "\n",
    "\n",
    "<img src=\"img/DifferentialEquations_Example.png\" width=\"500px\"></img>"
   ]
  },
  {
   "cell_type": "markdown",
   "metadata": {
    "slideshow": {
     "slide_type": "subslide"
    }
   },
   "source": [
    "## DataFrames.jl\n",
    "\n",
    "https://github.com/JuliaData/DataFrames.jl\n",
    "\n",
    "* In-memory tabular data\n",
    "* Joining, indexing, grouping, and split-apply-combine\n",
    "\n",
    "```julia\n",
    "julia> using DataFrames\n",
    "\n",
    "julia> df = DataFrame(A = 1:4, B = [\"M\", \"F\", \"F\", \"M\"])\n",
    "4×2 DataFrame\n",
    "│ Row │ A     │ B      │\n",
    "│     │ Int64 │ String │\n",
    "├─────┼───────┼────────┤\n",
    "│ 1   │ 1     │ M      │\n",
    "│ 2   │ 2     │ F      │\n",
    "│ 3   │ 3     │ F      │\n",
    "│ 4   │ 4     │ M      │\n",
    "```"
   ]
  },
  {
   "cell_type": "markdown",
   "metadata": {
    "slideshow": {
     "slide_type": "subslide"
    }
   },
   "source": [
    "## JuMP.jl\n",
    "\n",
    "https://github.com/JuliaOpt/JuMP.jl\n",
    "\n",
    "* Continuous and discrete optimization\n",
    "* Support for a wide variety of free and commercial solvers\n",
    "* Efficient high-level language for mathematical programming\n",
    "\n",
    "\n",
    "Example: Solving a simple model-predictive control problem as a quadratic program ([source](https://github.com/rdeits/DynamicWalking2018.jl/blob/master/notebooks/6.%20Optimization%20with%20JuMP.ipynb)):\n",
    "\n",
    "[![demo of a simple model-predictive control problem](img/mpc.gif)](https://github.com/rdeits/DynamicWalking2018.jl/blob/master/notebooks/6.%20Optimization%20with%20JuMP.ipynb)\n",
    "\n"
   ]
  },
  {
   "cell_type": "markdown",
   "metadata": {
    "slideshow": {
     "slide_type": "slide"
    }
   },
   "source": [
    "# Where To Go Next?\n",
    "\n",
    "* Download Julia from https://julialang.org/\n",
    "* Check out the manual at https://docs.julialang.org/en/v1/\n",
    "* Ask questions on [discourse](https://discourse.julialang.org/) and [slack](https://slackinvite.julialang.org/)\n",
    "* Find interesting packages on [juliahub](https://juliahub.com/ui/Home)\n",
    "\n",
    "![triangulated background](img/julia-triangle-background.svg)\n",
    "\n",
    "[Logo by Cormullion and David P. Saunders](https://nbviewer.jupyter.org/github/dpsanders/JuliaCon2019_tshirt/blob/master/penroseiana.ipynb)"
   ]
  }
 ],
 "metadata": {
  "@webio": {
   "lastCommId": null,
   "lastKernelId": null
  },
  "celltoolbar": "Slideshow",
  "kernelspec": {
   "display_name": "Julia 1.11.1",
   "language": "julia",
   "name": "julia-1.11"
  },
  "language_info": {
   "file_extension": ".jl",
   "mimetype": "application/julia",
   "name": "julia",
   "version": "1.11.1"
  }
 },
 "nbformat": 4,
 "nbformat_minor": 4
}
